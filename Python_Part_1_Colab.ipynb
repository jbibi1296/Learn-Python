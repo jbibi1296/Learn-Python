{
  "nbformat": 4,
  "nbformat_minor": 0,
  "metadata": {
    "colab": {
      "name": "Python Part 1 Colab",
      "provenance": [],
      "collapsed_sections": [
        "klMSePWvyl-X",
        "ybkkflONysiQ",
        "MmzORSCIy1Dn",
        "2fdzoFe5y5vO",
        "YDXWm1HKs-a7",
        "VtWNKjc5BsfU",
        "-ycztasnB5DX",
        "LenMRlLlK_-s",
        "smOxHGoKyAol",
        "RISTXBkF-tLo",
        "9ZHFnGe-9tsT",
        "3v2I-z3w0ZB3",
        "KS7z8AMd14gi",
        "yq1ePSUPsh_6",
        "sMfgvkyk6Lv0",
        "ZGciNETv3_4K",
        "3YumPijzA_kv",
        "W6kCRm552MIK",
        "GN9FgZQC3Lu9",
        "jCJbOf6M4g2W",
        "7yGH1yBBxd7r",
        "spbL3PkJ1og2",
        "Qlj3gqy_BYrC",
        "sWGa3mQsBpbN",
        "HDB6UFphCG4h",
        "ogXFOkRLEauj",
        "qyWRJjNaKU22",
        "fzc_x3Q3yEqf",
        "Lm0u9jPxM8sz",
        "hKBaRPYu5X7-",
        "qUz1lKHW3Nxy",
        "taVVCQ_CivaZ",
        "NLTxDLhF3RiT",
        "kT9NoR53wysI",
        "LfIYZ6N52t1J",
        "iT2vxFbT26Y6",
        "LBszn8Pd36Jj",
        "Q0BcJOSn6wfY",
        "Jo4PI7xiduPQ",
        "5z64vuF_ddyP",
        "63Vu-i2teMud",
        "KVRVgeD6gsx-",
        "0WHsZ0Ivje3I",
        "R_50VS7Gh2my",
        "feI2eBsZptLD",
        "7CGxVcu7w9Tm",
        "bR3f2ALBKIBM",
        "mBjPpprHyhrx",
        "BXXYXwqQDq_v",
        "7O74_96_EQqW",
        "Me0Vo-IXE-Cv",
        "tpq1GuVpHtnZ"
      ],
      "include_colab_link": true
    },
    "kernelspec": {
      "name": "python3",
      "display_name": "Python 3"
    },
    "accelerator": "GPU"
  },
  "cells": [
    {
      "cell_type": "markdown",
      "metadata": {
        "id": "view-in-github",
        "colab_type": "text"
      },
      "source": [
        "<a href=\"https://colab.research.google.com/github/jbibi1296/Learn-Python/blob/master/Python_Part_1_Colab.ipynb\" target=\"_parent\"><img src=\"https://colab.research.google.com/assets/colab-badge.svg\" alt=\"Open In Colab\"/></a>"
      ]
    },
    {
      "cell_type": "markdown",
      "metadata": {
        "id": "YC8n59xC3YH_",
        "colab_type": "text"
      },
      "source": [
        "# Coding in Python Part 1"
      ]
    },
    {
      "cell_type": "markdown",
      "metadata": {
        "id": "klMSePWvyl-X",
        "colab_type": "text"
      },
      "source": [
        "## Let's Code!"
      ]
    },
    {
      "cell_type": "markdown",
      "metadata": {
        "id": "dgsNRQ5NJlVw",
        "colab_type": "text"
      },
      "source": [
        "What is a colab?  it’s a shared online environment for coding\n",
        "\n",
        "It’s like google docs for coding…\n",
        "\n",
        "First code - let’s jump in!\n",
        "\n",
        "Let’s use an int variable to store the input number from the user\n",
        "\n",
        "Then print out to the screen the square of that number. \n"
      ]
    },
    {
      "cell_type": "code",
      "metadata": {
        "id": "bcWUmksUx879",
        "colab_type": "code",
        "outputId": "ad01c56b-f38c-428b-e2dd-0662f762450c",
        "colab": {
          "base_uri": "https://localhost:8080/",
          "height": 34
        }
      },
      "source": [
        "my_number = int(input(\"Enter a number from 1-100: \"))"
      ],
      "execution_count": 0,
      "outputs": [
        {
          "output_type": "stream",
          "text": [
            "Enter a number from 1-100: 3\n"
          ],
          "name": "stdout"
        }
      ]
    },
    {
      "cell_type": "code",
      "metadata": {
        "id": "Wqu_MPe0qMZ-",
        "colab_type": "code",
        "outputId": "c9e71b93-6d4b-433f-e9b3-11f33b0644ee",
        "colab": {
          "base_uri": "https://localhost:8080/",
          "height": 34
        }
      },
      "source": [
        "print(my_number**2)"
      ],
      "execution_count": 0,
      "outputs": [
        {
          "output_type": "stream",
          "text": [
            "9\n"
          ],
          "name": "stdout"
        }
      ]
    },
    {
      "cell_type": "markdown",
      "metadata": {
        "id": "SYaiBcXK9Bt9",
        "colab_type": "text"
      },
      "source": [
        "Now try to build your own!"
      ]
    },
    {
      "cell_type": "code",
      "metadata": {
        "id": "w17appp-9E1E",
        "colab_type": "code",
        "colab": {}
      },
      "source": [
        "# Ask the user for an input \n",
        "# turn it into an int\n",
        "# decide what to do with it and return it back to the user\n",
        "\n"
      ],
      "execution_count": 0,
      "outputs": []
    },
    {
      "cell_type": "markdown",
      "metadata": {
        "id": "ybkkflONysiQ",
        "colab_type": "text"
      },
      "source": [
        "## Mary's Favorite Artists"
      ]
    },
    {
      "cell_type": "markdown",
      "metadata": {
        "id": "SJJQV3dVyMWK",
        "colab_type": "text"
      },
      "source": [
        "Mary and David are art dealers.  \n",
        "\n",
        "Mary wants to keep a running list of the artists  she likes.  \n",
        "\n",
        "Let’s build a list of her current likes and then we can add to it later.  \n",
        "\n",
        "We will use the list data structure of Python for this.  \n",
        "\n",
        "We can always add to and delete from a list so this is a good choice for this application. \n",
        "\n",
        "\n",
        "To signify a list we use this syntax:\n",
        "\n",
        "`my_list = [a, b, c,...]`\n",
        "\n",
        "for example:\n",
        "\n",
        "`my_favorite_movies = ['Superman','Ted', 'Bad Boys']`"
      ]
    },
    {
      "cell_type": "code",
      "metadata": {
        "id": "c9jsVhZ0rSAD",
        "colab_type": "code",
        "colab": {}
      },
      "source": [
        "# Use marys_artists as the name for the list\n",
        "# Use the following artists for the list: picasso, warhol, davinci, vangogh\n",
        "# Enter the code below:\n",
        "\n",
        "marys_artists = "
      ],
      "execution_count": 0,
      "outputs": []
    },
    {
      "cell_type": "code",
      "metadata": {
        "id": "LDInIsqdry8w",
        "colab_type": "code",
        "outputId": "cee85cf5-20a2-4f08-fc8a-c7a3bf360eeb",
        "colab": {
          "base_uri": "https://localhost:8080/",
          "height": 34
        }
      },
      "source": [
        "# Let's see how the list looks\n",
        "print(marys_artists)"
      ],
      "execution_count": 0,
      "outputs": [
        {
          "output_type": "stream",
          "text": [
            "['picasso', 'warhol', 'davinci', 'vangogh']\n"
          ],
          "name": "stdout"
        }
      ]
    },
    {
      "cell_type": "markdown",
      "metadata": {
        "id": "MmzORSCIy1Dn",
        "colab_type": "text"
      },
      "source": [
        "## What If?"
      ]
    },
    {
      "cell_type": "markdown",
      "metadata": {
        "id": "zmaF2p_Vxuyx",
        "colab_type": "text"
      },
      "source": [
        "Let’s play a game - the game will ask us to guess an artist that Mary likes.  We will give it an answer and it will check to see if it’s in the list. \n",
        "\n",
        "Let’s use a string variable to hold the input guess from the user. \n",
        "\n",
        "Let’s set a bool variable to TRUE if indeed the artist is in the list. \n",
        "\n"
      ]
    },
    {
      "cell_type": "code",
      "metadata": {
        "id": "FTZezyzuvkIf",
        "colab_type": "code",
        "outputId": "e00dfd4a-f748-444e-ae61-8cca9508b539",
        "colab": {
          "base_uri": "https://localhost:8080/",
          "height": 34
        }
      },
      "source": [
        "my_guess = \"\" # Place your guess within the quotes\n",
        "if my_guess in marys_artists:\n",
        "    artist_in_list =             # Set the Bool Variable to True\n",
        "else:\n",
        "    artist_in_list =             # Set the Bool Variable to False\n",
        "\n",
        "# Now let's check to see that value (True/False) of our boolean variable\n",
        "print(artist_in_list)"
      ],
      "execution_count": 0,
      "outputs": [
        {
          "output_type": "stream",
          "text": [
            "True\n"
          ],
          "name": "stdout"
        }
      ]
    },
    {
      "cell_type": "markdown",
      "metadata": {
        "id": "2fdzoFe5y5vO",
        "colab_type": "text"
      },
      "source": [
        "## What If? 2"
      ]
    },
    {
      "cell_type": "markdown",
      "metadata": {
        "id": "Uc2nae8z2tU-",
        "colab_type": "text"
      },
      "source": [
        "Example of an `if`/`elif`/`else` statement\n",
        "```\n",
        "if weather == \"raining\":\n",
        "    print(\"Bring an umbrella\")\n",
        "elif weather == \"snowing\":\n",
        "    print(\"Stay home\")\n",
        "else: \n",
        "    print(\"Have fun at work ;p\")\n",
        "```\n"
      ]
    },
    {
      "cell_type": "markdown",
      "metadata": {
        "id": "tKIu9GY1b3FS",
        "colab_type": "text"
      },
      "source": [
        "Let's try making a simple if/elif/else statement\n",
        "\n",
        "Ask the user to input a number for the variable `x`\n",
        "\n",
        "Ask the user to input a number for the variable `y`\n",
        "\n",
        "* if x is equal to y\n",
        "  * print out that x and y are equal\n",
        "* else, if x is smaller than y\n",
        "  * print out that x is smaller\n",
        "* else\n",
        "  * print out that y is smaller"
      ]
    },
    {
      "cell_type": "code",
      "metadata": {
        "id": "1sVkwrzBbNRY",
        "colab_type": "code",
        "colab": {}
      },
      "source": [
        "# ask users to input number for x and y variable\n",
        "x = \n",
        "y = \n",
        "# write if/elif/else statement below\n",
        "\n",
        "\n",
        "\n",
        "\n",
        "\n"
      ],
      "execution_count": 0,
      "outputs": []
    },
    {
      "cell_type": "markdown",
      "metadata": {
        "id": "I-eHsFYxy9vU",
        "colab_type": "text"
      },
      "source": [
        "Let’s build on the What-If game.\n",
        "\n",
        "Let’s create a list of David’s favorite artists.\n",
        "Then let’s ask the user for an artist. \n",
        "\n",
        "We will first check to see if it is in Mary’s list. \n",
        "\n",
        "If it’s not in Mary’s list we will then check to see if it is in David’s list.\n",
        "\n",
        "If it’s not in his list either then we will add it to a new list of suggested artists for Mary and David to check out. \n"
      ]
    },
    {
      "cell_type": "code",
      "metadata": {
        "id": "w71JrozExE8N",
        "colab_type": "code",
        "colab": {}
      },
      "source": [
        "# create a list for david's favorite artists\n",
        "davids_artists = "
      ],
      "execution_count": 0,
      "outputs": []
    },
    {
      "cell_type": "code",
      "metadata": {
        "id": "HTER5aq55fHO",
        "colab_type": "code",
        "colab": {}
      },
      "source": [
        "# check the length of david's list using len()\n"
      ],
      "execution_count": 0,
      "outputs": []
    },
    {
      "cell_type": "code",
      "metadata": {
        "id": "IiX-1PVq5nx5",
        "colab_type": "code",
        "colab": {}
      },
      "source": [
        "# create an empty list for suggested artists for Mary and David to check out\n",
        "# Not sure how to create an empty list? Try googling the following \"How do I create an empty list in python\"\n",
        "artist_suggestions = []"
      ],
      "execution_count": 0,
      "outputs": []
    },
    {
      "cell_type": "code",
      "metadata": {
        "id": "5dmzFGSF4lZH",
        "colab_type": "code",
        "outputId": "c2405860-ec52-486f-8a86-87ff3d475334",
        "colab": {
          "base_uri": "https://localhost:8080/",
          "height": 34
        }
      },
      "source": [
        "# create a variable and assign it to a user input of an artist\n",
        "# to take an input use input()\n"
      ],
      "execution_count": 0,
      "outputs": [
        {
          "output_type": "stream",
          "text": [
            "What is your favorite artist: jack\n"
          ],
          "name": "stdout"
        }
      ]
    },
    {
      "cell_type": "code",
      "metadata": {
        "id": "vu_mfYuB3K3t",
        "colab_type": "code",
        "outputId": "4d86b637-aad7-448c-9614-a711973ec121",
        "colab": {
          "base_uri": "https://localhost:8080/",
          "height": 51
        }
      },
      "source": [
        "# here create a if,elif,else loop\n",
        "\n",
        "# if the suggested artist is in mary's artist list (marys_artists)\n",
        "# Enter code after \"if\"\n",
        "if : \n",
        "    # Enter what should happen if the suggested artist is in mary's list\n",
        "\n",
        "\n",
        "# else, if the suggested artist is in david's artist list (davids_artists)\n",
        "# Enter code after \"elif\"    \n",
        "elif :\n",
        "    # Enter what should happen if the suggested artist is in mary's list\n",
        "    \n",
        "    \n",
        "# else (the suggested artist is not in either list)   \n",
        "else:\n",
        "    # Enter what should happen if the suggested artist is not in either list\n",
        "\n",
        "    # Add the artist to the artist suggestions list (artist_suggestions)"
      ],
      "execution_count": 0,
      "outputs": [
        {
          "output_type": "stream",
          "text": [
            "jack is not in either list\n",
            "['jack']\n"
          ],
          "name": "stdout"
        }
      ]
    },
    {
      "cell_type": "markdown",
      "metadata": {
        "id": "YDXWm1HKs-a7",
        "colab_type": "text"
      },
      "source": [
        "## if-elif-else"
      ]
    },
    {
      "cell_type": "markdown",
      "metadata": {
        "id": "W6OzMDqDs-vE",
        "colab_type": "text"
      },
      "source": [
        "Create a conditional statement for a teacher to give each student a message based on the students grade.\n",
        "\n",
        "* If the student has a grade of 90 and over: Tell the student that they did excellent.\n",
        "* If the student has a grade of 65 and over and under 90: Tell the student that they have passed and could be doing better.\n",
        "* If the student has a grade under 65: Tell the student that they have failed\n"
      ]
    },
    {
      "cell_type": "code",
      "metadata": {
        "id": "UsVggCc6s-6U",
        "colab_type": "code",
        "colab": {}
      },
      "source": [
        "# Create a variable and assign a number grade to it\n",
        "grade = "
      ],
      "execution_count": 0,
      "outputs": []
    },
    {
      "cell_type": "code",
      "metadata": {
        "id": "L1KVeDews_C5",
        "colab_type": "code",
        "outputId": "0fd3b942-478c-48fc-e7b1-3b1d61791be4",
        "colab": {
          "base_uri": "https://localhost:8080/",
          "height": 51
        }
      },
      "source": [
        "# Create an if/elif/else statement to print out messages \n",
        "# depending on the grade of the student\n",
        "\n",
        "\n",
        "\n"
      ],
      "execution_count": 0,
      "outputs": [
        {
          "output_type": "stream",
          "text": [
            "What is your grade? 77\n",
            "You got a 77. You did well.\n"
          ],
          "name": "stdout"
        }
      ]
    },
    {
      "cell_type": "markdown",
      "metadata": {
        "id": "VtWNKjc5BsfU",
        "colab_type": "text"
      },
      "source": [
        "## Sorting Lists"
      ]
    },
    {
      "cell_type": "markdown",
      "metadata": {
        "id": "b3GwIxtMtQlk",
        "colab_type": "text"
      },
      "source": [
        "The sorted() function returns a copy of a list in the sorted order. \n",
        "\n",
        "(The original list will not be affected) \n",
        "\n",
        "```\n",
        "vowels = [‘a’, ’i’, ’e’, ’o’, ‘u’]\n",
        "sorted(vowels)\n",
        "```"
      ]
    },
    {
      "cell_type": "code",
      "metadata": {
        "id": "cL-fxn0r8UWP",
        "colab_type": "code",
        "outputId": "6b29a47e-9ad4-4a18-a8cc-f52d4007ce39",
        "colab": {
          "base_uri": "https://localhost:8080/",
          "height": 51
        }
      },
      "source": [
        "vowels = ['a','i','e','o','u']\n",
        "# use the sorted() method on the vowels list to see what happens\n",
        "print(vowels)\n",
        "print(sorted(vowels))\n"
      ],
      "execution_count": 0,
      "outputs": [
        {
          "output_type": "stream",
          "text": [
            "['a', 'i', 'e', 'o', 'u']\n",
            "['a', 'e', 'i', 'o', 'u']\n"
          ],
          "name": "stdout"
        }
      ]
    },
    {
      "cell_type": "code",
      "metadata": {
        "id": "DI5IRgtQK2J9",
        "colab_type": "code",
        "outputId": "29156d76-27b4-4c78-a335-d0868e115d69",
        "colab": {
          "base_uri": "https://localhost:8080/",
          "height": 34
        }
      },
      "source": [
        "# now print the vowels list to see that the list has not been changed\n",
        "print(vowels)\n"
      ],
      "execution_count": 0,
      "outputs": [
        {
          "output_type": "stream",
          "text": [
            "['a', 'i', 'e', 'o', 'u']\n"
          ],
          "name": "stdout"
        }
      ]
    },
    {
      "cell_type": "markdown",
      "metadata": {
        "id": "Vaz3auDWtev-",
        "colab_type": "text"
      },
      "source": [
        "How can we make the sorted list permanent?\n",
        "```\n",
        "vowels.sort()\n",
        "vowels \n",
        "```"
      ]
    },
    {
      "cell_type": "code",
      "metadata": {
        "id": "q6VSiOrW_wAO",
        "colab_type": "code",
        "outputId": "127d16b4-59ba-45af-a5cf-06214033a0b5",
        "colab": {
          "base_uri": "https://localhost:8080/",
          "height": 51
        }
      },
      "source": [
        "# Use the .sort() function on the vowels list\n",
        "print(vowels)\n",
        "vowels.sort()\n",
        "print(vowels)"
      ],
      "execution_count": 0,
      "outputs": [
        {
          "output_type": "stream",
          "text": [
            "['a', 'e', 'i', 'o', 'u']\n",
            "['a', 'e', 'i', 'o', 'u']\n"
          ],
          "name": "stdout"
        }
      ]
    },
    {
      "cell_type": "code",
      "metadata": {
        "id": "Sjeb_YIJLRnb",
        "colab_type": "code",
        "outputId": "9188b61e-0e8a-4751-9600-c32b218869fa",
        "colab": {
          "base_uri": "https://localhost:8080/",
          "height": 34
        }
      },
      "source": [
        "# print out the vowels list to see that the \n",
        "# previous function permanently changed the list\n",
        "\n",
        "print(vowels)"
      ],
      "execution_count": 0,
      "outputs": [
        {
          "output_type": "stream",
          "text": [
            "['a', 'e', 'i', 'o', 'u']\n"
          ],
          "name": "stdout"
        }
      ]
    },
    {
      "cell_type": "markdown",
      "metadata": {
        "id": "-ycztasnB5DX",
        "colab_type": "text"
      },
      "source": [
        "## Reverse Sorting Lists"
      ]
    },
    {
      "cell_type": "markdown",
      "metadata": {
        "id": "-Mr4jjD9Cyur",
        "colab_type": "text"
      },
      "source": [
        "To reverse the original order of a list, use reverse() method\n",
        "\n",
        "```\n",
        "numbers = [1,3,4,2,8,9]\n",
        "numbers.reverse()\n",
        "```"
      ]
    },
    {
      "cell_type": "code",
      "metadata": {
        "id": "9XkL8hBnCpr9",
        "colab_type": "code",
        "colab": {}
      },
      "source": [
        "# create a list of numbers and assign it a name\n",
        "\n"
      ],
      "execution_count": 0,
      "outputs": []
    },
    {
      "cell_type": "code",
      "metadata": {
        "id": "ZWAhy_JPCsHd",
        "colab_type": "code",
        "colab": {}
      },
      "source": [
        "# use the .reverse() function to reverse the numbers permanently\n",
        "\n"
      ],
      "execution_count": 0,
      "outputs": []
    },
    {
      "cell_type": "markdown",
      "metadata": {
        "id": "eWWai3PhDEcr",
        "colab_type": "text"
      },
      "source": [
        "To sort a list in reverse natural order, add a reverse argument in sorted() and set it to True:\n",
        "```\n",
        "vowels = [‘a’,‘i’,‘e’,‘o’,‘u’]\n",
        "print(sorted(vowels, reverse=True))\n",
        "```"
      ]
    },
    {
      "cell_type": "code",
      "metadata": {
        "id": "PT6qMQkUBnnm",
        "colab_type": "code",
        "outputId": "ae1aea69-258a-483a-8f90-6343d191d0ef",
        "colab": {
          "base_uri": "https://localhost:8080/",
          "height": 34
        }
      },
      "source": [
        "# create a list of vowels and assign it a name\n",
        "\n",
        "\n",
        "# use the sorted() method on the vowels list and add the reverse argument\n",
        "\n"
      ],
      "execution_count": 0,
      "outputs": [
        {
          "output_type": "execute_result",
          "data": {
            "text/plain": [
              "['u', 'o', 'i', 'e', 'a']"
            ]
          },
          "metadata": {
            "tags": []
          },
          "execution_count": 44
        }
      ]
    },
    {
      "cell_type": "code",
      "metadata": {
        "id": "qeTpekS8B3RV",
        "colab_type": "code",
        "colab": {}
      },
      "source": [
        "# You can also use the reverse argument on the .sort() function\n",
        "\n"
      ],
      "execution_count": 0,
      "outputs": []
    },
    {
      "cell_type": "markdown",
      "metadata": {
        "id": "LenMRlLlK_-s",
        "colab_type": "text"
      },
      "source": [
        "## Removing from Lists\n"
      ]
    },
    {
      "cell_type": "markdown",
      "metadata": {
        "id": "UqFtxfyGyfBf",
        "colab_type": "text"
      },
      "source": [
        "Use the remove() method to remove a specific item from a list"
      ]
    },
    {
      "cell_type": "code",
      "metadata": {
        "id": "DS10OKg_K_TH",
        "colab_type": "code",
        "colab": {}
      },
      "source": [
        "# create a list of whatever you like\n",
        "\n"
      ],
      "execution_count": 0,
      "outputs": []
    },
    {
      "cell_type": "code",
      "metadata": {
        "id": "hDysazJ5yMLT",
        "colab_type": "code",
        "colab": {}
      },
      "source": [
        "# use the .remove() method to remove a specific element in the list\n",
        "\n"
      ],
      "execution_count": 0,
      "outputs": []
    },
    {
      "cell_type": "code",
      "metadata": {
        "id": "dtiVBnAcyNCg",
        "colab_type": "code",
        "colab": {}
      },
      "source": [
        "# now view the list to see that that element was removed"
      ],
      "execution_count": 0,
      "outputs": []
    },
    {
      "cell_type": "markdown",
      "metadata": {
        "id": "5kDRQQnLyjDV",
        "colab_type": "text"
      },
      "source": [
        "You can also use the .pop() method to either:\n",
        "* remove a specific item (by its index) \n",
        "* leave it blank to remove the last item in the list.\n"
      ]
    },
    {
      "cell_type": "code",
      "metadata": {
        "id": "R64J1Yvpyjr0",
        "colab_type": "code",
        "colab": {}
      },
      "source": [
        "# Create a list of whatever you want\n",
        "\n"
      ],
      "execution_count": 0,
      "outputs": []
    },
    {
      "cell_type": "code",
      "metadata": {
        "id": "ZoIGYlTDykJM",
        "colab_type": "code",
        "outputId": "bddbae63-b240-46bb-fe4e-8f69e650ecce",
        "colab": {
          "base_uri": "https://localhost:8080/",
          "height": 34
        }
      },
      "source": [
        "# Use the .pop() function to pop off the last element in your list\n",
        "\n"
      ],
      "execution_count": 0,
      "outputs": [
        {
          "output_type": "execute_result",
          "data": {
            "text/plain": [
              "'katrina'"
            ]
          },
          "metadata": {
            "tags": []
          },
          "execution_count": 52
        }
      ]
    },
    {
      "cell_type": "code",
      "metadata": {
        "id": "arDjOd0AykvW",
        "colab_type": "code",
        "outputId": "29e3298b-1174-48b0-9f63-476442f8027a",
        "colab": {
          "base_uri": "https://localhost:8080/",
          "height": 34
        }
      },
      "source": [
        "# View your list to see that the element was removed permanently\n",
        "\n"
      ],
      "execution_count": 0,
      "outputs": [
        {
          "output_type": "execute_result",
          "data": {
            "text/plain": [
              "['john', 'dave', 'mary']"
            ]
          },
          "metadata": {
            "tags": []
          },
          "execution_count": 53
        }
      ]
    },
    {
      "cell_type": "code",
      "metadata": {
        "id": "9mN3GD-Uyk5h",
        "colab_type": "code",
        "outputId": "a7fe3e7e-271f-4586-9ae1-82c6b18a5833",
        "colab": {
          "base_uri": "https://localhost:8080/",
          "height": 34
        }
      },
      "source": [
        "# now use .pop() with a number to choose the index of the lement that you want removed\n",
        "\n"
      ],
      "execution_count": 0,
      "outputs": [
        {
          "output_type": "execute_result",
          "data": {
            "text/plain": [
              "'john'"
            ]
          },
          "metadata": {
            "tags": []
          },
          "execution_count": 54
        }
      ]
    },
    {
      "cell_type": "markdown",
      "metadata": {
        "id": "smOxHGoKyAol",
        "colab_type": "text"
      },
      "source": [
        "## Deleting from Lists"
      ]
    },
    {
      "cell_type": "markdown",
      "metadata": {
        "id": "Kit-z1B4y6w2",
        "colab_type": "text"
      },
      "source": [
        "If we want to remove `‘dave’`,we can use either:\n",
        "* `students.remove(‘dave’)`\n",
        "* `del students[1]`\n",
        "\n",
        "This deletes dave from the list and the other items are shifted over to the left. \n",
        "\n",
        "When to use `pop` vs `del`?\n",
        "* Use `pop` when you want to use the item again even as you take it off the list. \n",
        "* Use `del` when there is no need for the item to be used. \n"
      ]
    },
    {
      "cell_type": "code",
      "metadata": {
        "id": "wrhf4ZVPyIL7",
        "colab_type": "code",
        "colab": {}
      },
      "source": [
        "# Create a list of whatever you want\n",
        "\n"
      ],
      "execution_count": 0,
      "outputs": []
    },
    {
      "cell_type": "code",
      "metadata": {
        "id": "-Oq2yRUNz0u9",
        "colab_type": "code",
        "colab": {}
      },
      "source": [
        "# use the del method to remove a specific element in the list by its index\n",
        "\n"
      ],
      "execution_count": 0,
      "outputs": []
    },
    {
      "cell_type": "markdown",
      "metadata": {
        "id": "RISTXBkF-tLo",
        "colab_type": "text"
      },
      "source": [
        "## Slicing and Dicing: More fun with lists"
      ]
    },
    {
      "cell_type": "markdown",
      "metadata": {
        "id": "-2F8LVsy_1ZL",
        "colab_type": "text"
      },
      "source": [
        "Often we have a list and we want to pick and choose the elements of the list we need at the moment for a particular task.  Try the following:\n",
        "\n",
        "\n",
        "*   Pick out the first, third and fourth items in Mary’s list\n",
        "*   Make a list of 20 numbers using Range. Then pick \n",
        "out the last 3 numbers of the list and print them out. \n",
        "*   Make a list of 40 numbers and pick out every other number starting with the 4th number. \n",
        "*   Let’s pick out the last 3 numbers of the 40 number list."
      ]
    },
    {
      "cell_type": "code",
      "metadata": {
        "id": "B-x_tcFW-p4o",
        "colab_type": "code",
        "outputId": "2aaa2b1c-d604-42bc-dc4e-2b4693c3bfbe",
        "colab": {
          "base_uri": "https://localhost:8080/",
          "height": 34
        }
      },
      "source": [
        "# look how we slice a list\n",
        "numbers = [1,5,8,11,33]\n",
        "print(numbers[:3])"
      ],
      "execution_count": 0,
      "outputs": [
        {
          "output_type": "execute_result",
          "data": {
            "text/plain": [
              "[1, 5, 8]"
            ]
          },
          "metadata": {
            "tags": []
          },
          "execution_count": 5
        }
      ]
    },
    {
      "cell_type": "code",
      "metadata": {
        "id": "Lg41XCUcWIVT",
        "colab_type": "code",
        "outputId": "bf6d9383-e484-4c9f-ee09-633f2da451e4",
        "colab": {
          "base_uri": "https://localhost:8080/",
          "height": 34
        }
      },
      "source": [
        "# Now look how we combine 2 sliced lists\n",
        "print(numbers[:1]+numbers[3:])"
      ],
      "execution_count": 0,
      "outputs": [
        {
          "output_type": "execute_result",
          "data": {
            "text/plain": [
              "[1, 11, 33]"
            ]
          },
          "metadata": {
            "tags": []
          },
          "execution_count": 6
        }
      ]
    },
    {
      "cell_type": "code",
      "metadata": {
        "id": "fA77nL5eWEX_",
        "colab_type": "code",
        "colab": {}
      },
      "source": [
        "# Now you pick the first, third, and fourth element in a new list\n",
        "\n"
      ],
      "execution_count": 0,
      "outputs": []
    },
    {
      "cell_type": "code",
      "metadata": {
        "id": "Ceu_3m_N-1fd",
        "colab_type": "code",
        "outputId": "f8fb4b84-d1ad-42f2-b187-d9dd5b9f93c1",
        "colab": {
          "base_uri": "https://localhost:8080/",
          "height": 34
        }
      },
      "source": [
        "# We can use range() to get a range of numbers between 2 given numbers (Non-inclusive)\n",
        "numbers = list(range(0,10))\n",
        "print(numbers)"
      ],
      "execution_count": 0,
      "outputs": [
        {
          "output_type": "execute_result",
          "data": {
            "text/plain": [
              "[0, 1, 2, 3, 4, 5, 6, 7, 8, 9]"
            ]
          },
          "metadata": {
            "tags": []
          },
          "execution_count": 8
        }
      ]
    },
    {
      "cell_type": "code",
      "metadata": {
        "id": "Cdkp32WYASnW",
        "colab_type": "code",
        "colab": {}
      },
      "source": [
        "# Now you try to make a list of 20 numbers and print out the last 3 numbers\n",
        "\n"
      ],
      "execution_count": 0,
      "outputs": []
    },
    {
      "cell_type": "code",
      "metadata": {
        "id": "WSHTeZ-DWrzS",
        "colab_type": "code",
        "colab": {}
      },
      "source": [
        "# Make a list of 40 numbers and pick out every other number\n",
        "# to do this, we use [x:y:z] instead of [x:y]\n",
        "# z being the number of spaces it moves\n",
        "\n"
      ],
      "execution_count": 0,
      "outputs": []
    },
    {
      "cell_type": "code",
      "metadata": {
        "id": "U07DvKXXAbA1",
        "colab_type": "code",
        "outputId": "680f86ad-8147-487e-d4b0-7af513feb221",
        "colab": {
          "base_uri": "https://localhost:8080/",
          "height": 34
        }
      },
      "source": [
        "# now pick out the last 3 numbers of that list but using a negative in the slice\n",
        "# [-y:] where y is the index of the number from the back\n",
        "# EX: [-10:] shows the last 10 numbers\n",
        "\n"
      ],
      "execution_count": 0,
      "outputs": [
        {
          "output_type": "execute_result",
          "data": {
            "text/plain": [
              "[37, 38, 39]"
            ]
          },
          "metadata": {
            "tags": []
          },
          "execution_count": 65
        }
      ]
    },
    {
      "cell_type": "markdown",
      "metadata": {
        "id": "9ZHFnGe-9tsT",
        "colab_type": "text"
      },
      "source": [
        "## Practice with Print"
      ]
    },
    {
      "cell_type": "markdown",
      "metadata": {
        "id": "9Fp8_umH926W",
        "colab_type": "text"
      },
      "source": [
        "Try the following with the print command:\n",
        "\n",
        "*   `“abcd” “efgh”`\n",
        "*   Concatenate two strings\n",
        "*   Ask the user for a name of a person then print “Happy Birthday” and the name that the user supplied.  Use the f syntax to get this done.\n",
        "*   Print strings and int in one statement"
      ]
    },
    {
      "cell_type": "code",
      "metadata": {
        "id": "DSpo3--W9TDr",
        "colab_type": "code",
        "outputId": "9ff8951a-c136-4d64-aee4-397ec4ec99ad",
        "colab": {
          "base_uri": "https://localhost:8080/",
          "height": 34
        }
      },
      "source": [
        "# print \"abcd\" \"efgh\"\n",
        "print()"
      ],
      "execution_count": 0,
      "outputs": [
        {
          "output_type": "stream",
          "text": [
            "abcdefgh\n"
          ],
          "name": "stdout"
        }
      ]
    },
    {
      "cell_type": "code",
      "metadata": {
        "id": "e_u4sKXd9-VY",
        "colab_type": "code",
        "outputId": "6691180d-ceec-40c4-ffac-c51bce7d5f33",
        "colab": {
          "base_uri": "https://localhost:8080/",
          "height": 34
        }
      },
      "source": [
        "# Concatenate 2 strings\n",
        "print()"
      ],
      "execution_count": 0,
      "outputs": [
        {
          "output_type": "stream",
          "text": [
            "Hello There\n"
          ],
          "name": "stdout"
        }
      ]
    },
    {
      "cell_type": "code",
      "metadata": {
        "id": "Hz8WwWju-B9p",
        "colab_type": "code",
        "outputId": "254be338-b27b-4022-f440-c14ecdbf4e24",
        "colab": {
          "base_uri": "https://localhost:8080/",
          "height": 34
        }
      },
      "source": [
        "# ask the user to input their name\n",
        "\n"
      ],
      "execution_count": 0,
      "outputs": [
        {
          "output_type": "stream",
          "text": [
            "what is your name? Jack\n"
          ],
          "name": "stdout"
        }
      ]
    },
    {
      "cell_type": "code",
      "metadata": {
        "id": "ahMg3GII-K-X",
        "colab_type": "code",
        "colab": {}
      },
      "source": [
        "# print out a happy birthday message using the user's name\n",
        "\n"
      ],
      "execution_count": 0,
      "outputs": []
    },
    {
      "cell_type": "code",
      "metadata": {
        "id": "A7YH6QE3-TiS",
        "colab_type": "code",
        "outputId": "8b8d3f48-80bc-4bc4-cc48-3487cc87a387",
        "colab": {
          "base_uri": "https://localhost:8080/",
          "height": 34
        }
      },
      "source": [
        "# Print a string and a number in one statement\n",
        "# You can use str() to turn a integer or float to a string\n",
        "\n",
        "\n"
      ],
      "execution_count": 0,
      "outputs": [
        {
          "output_type": "stream",
          "text": [
            "Hello 0\n"
          ],
          "name": "stdout"
        }
      ]
    },
    {
      "cell_type": "markdown",
      "metadata": {
        "id": "3v2I-z3w0ZB3",
        "colab_type": "text"
      },
      "source": [
        "## Print"
      ]
    },
    {
      "cell_type": "markdown",
      "metadata": {
        "id": "WJdq1phi0bSo",
        "colab_type": "text"
      },
      "source": [
        "* New line: `\\n`\n",
        "* Carriage return: `\\r`\n",
        "* Tab:  `\\t`\n",
        "* Actually print the single quote: `\\’`\n",
        "* Actually print the double quote: `\\”`\n"
      ]
    },
    {
      "cell_type": "code",
      "metadata": {
        "id": "W0TZwQzD0jpY",
        "colab_type": "code",
        "outputId": "698422db-94fb-42e2-9322-ee8175c085ff",
        "colab": {
          "base_uri": "https://localhost:8080/",
          "height": 34
        }
      },
      "source": [
        "print(\"Hello Everybody\")"
      ],
      "execution_count": 0,
      "outputs": [
        {
          "output_type": "stream",
          "text": [
            "Hello Everybody\n"
          ],
          "name": "stdout"
        }
      ]
    },
    {
      "cell_type": "code",
      "metadata": {
        "id": "GfuSByqG0mtD",
        "colab_type": "code",
        "outputId": "6ed4fc40-0ed8-4fc6-e8df-3e119ebe5541",
        "colab": {
          "base_uri": "https://localhost:8080/",
          "height": 51
        }
      },
      "source": [
        "print(\"Hello\\nEverybody\")"
      ],
      "execution_count": 0,
      "outputs": [
        {
          "output_type": "stream",
          "text": [
            "Hello\n",
            "Everybody\n"
          ],
          "name": "stdout"
        }
      ]
    },
    {
      "cell_type": "code",
      "metadata": {
        "id": "uOXQL2hn0jwg",
        "colab_type": "code",
        "outputId": "cb6bf413-b606-41b0-973d-aa10ba584647",
        "colab": {
          "base_uri": "https://localhost:8080/",
          "height": 34
        }
      },
      "source": [
        "print(\"Hello\\rEverybody\")"
      ],
      "execution_count": 0,
      "outputs": [
        {
          "output_type": "stream",
          "text": [
            "Hello\rEverybody\n"
          ],
          "name": "stdout"
        }
      ]
    },
    {
      "cell_type": "code",
      "metadata": {
        "id": "UMG0fQth0j3b",
        "colab_type": "code",
        "outputId": "c700e26c-ba81-477d-eb25-a5850f90a86d",
        "colab": {
          "base_uri": "https://localhost:8080/",
          "height": 34
        }
      },
      "source": [
        "print(\"Hello\\tEverybody\")"
      ],
      "execution_count": 0,
      "outputs": [
        {
          "output_type": "stream",
          "text": [
            "Hello\tEverybody\n"
          ],
          "name": "stdout"
        }
      ]
    },
    {
      "cell_type": "code",
      "metadata": {
        "id": "VqRwP1Bg0kFB",
        "colab_type": "code",
        "outputId": "7889aa16-25ed-4e39-c383-42d0181164b7",
        "colab": {
          "base_uri": "https://localhost:8080/",
          "height": 34
        }
      },
      "source": [
        "print(\"Hello\\'Everybody\")"
      ],
      "execution_count": 0,
      "outputs": [
        {
          "output_type": "stream",
          "text": [
            "Hello'Everybody\n"
          ],
          "name": "stdout"
        }
      ]
    },
    {
      "cell_type": "code",
      "metadata": {
        "id": "GjlX2SXd0kLx",
        "colab_type": "code",
        "outputId": "d6c41bcc-61de-49a3-9309-6f1383a04ed2",
        "colab": {
          "base_uri": "https://localhost:8080/",
          "height": 34
        }
      },
      "source": [
        "print(\"Hello\\\"Everybody\")"
      ],
      "execution_count": 0,
      "outputs": [
        {
          "output_type": "stream",
          "text": [
            "Hello\"Everybody\n"
          ],
          "name": "stdout"
        }
      ]
    },
    {
      "cell_type": "markdown",
      "metadata": {
        "id": "KS7z8AMd14gi",
        "colab_type": "text"
      },
      "source": [
        "## Fun with Print"
      ]
    },
    {
      "cell_type": "markdown",
      "metadata": {
        "id": "ldUDHpV_vq4z",
        "colab_type": "text"
      },
      "source": [
        "Enter the following into the following code snippet. \n",
        "\n",
        "Copy and paste it inside of the quotes.\n",
        "\n",
        "\n",
        "\n",
        "```\n",
        "\\n\\t\\t\\t\\t._ o o\\n\\t\\t\\t\\t\\_`-)|_\\n\\t\\t\\t     ,\\\"\\\"       \\\\\\n\\t\\t\\t   ,\\\"  ## |   ಠ ಠ.\\n\\t\\t\\t ,\\\" ##   ,-\\__    `.\\n\\t\\t       ,\\\"       /     `--._;)\\n\\t\\t     ,\\\"     ## /\\n\\t\\t   ,\\\"   ##    /\n",
        "```\n",
        "\n"
      ]
    },
    {
      "cell_type": "code",
      "metadata": {
        "id": "gi1DZCkYuGuH",
        "colab_type": "code",
        "outputId": "74b87f51-c43c-4dde-84cd-c7a5b6512def",
        "colab": {
          "base_uri": "https://localhost:8080/",
          "height": 170
        }
      },
      "source": [
        "print(\"\")"
      ],
      "execution_count": 0,
      "outputs": [
        {
          "output_type": "stream",
          "text": [
            "\n",
            "\t\t\t\t._ o o\n",
            "\t\t\t\t\\_`-)|_\n",
            "\t\t\t     ,\"\"       \\\n",
            "\t\t\t   ,\"  ## |   ಠ ಠ.\n",
            "\t\t\t ,\" ##   ,-\\__    `.\n",
            "\t\t       ,\"       /     `--._;)\n",
            "\t\t     ,\"     ## /\n",
            "\t\t   ,\"   ##    /\n"
          ],
          "name": "stdout"
        }
      ]
    },
    {
      "cell_type": "markdown",
      "metadata": {
        "id": "3kqScZxwwWo5",
        "colab_type": "text"
      },
      "source": [
        "There are also some fun modules we can install and use to make some cool word art in python"
      ]
    },
    {
      "cell_type": "code",
      "metadata": {
        "id": "j1bIC9hzGFCU",
        "colab_type": "code",
        "outputId": "5910985a-2369-40c9-9edc-a7e44812789e",
        "colab": {
          "base_uri": "https://localhost:8080/",
          "height": 275
        }
      },
      "source": [
        "!pip install art\n",
        "from art import *"
      ],
      "execution_count": 0,
      "outputs": [
        {
          "output_type": "stream",
          "text": [
            "Collecting art\n",
            "\u001b[?25l  Downloading https://files.pythonhosted.org/packages/80/a2/0eb2e8c80ce1f1b04485b14d807968fe8d85d3f70015e4b66615d4a8254b/art-4.4-py2.py3-none-any.whl (516kB)\n",
            "\u001b[K     |████████████████████████████████| 522kB 3.4MB/s \n",
            "\u001b[?25hCollecting coverage>=4.1\n",
            "\u001b[?25l  Downloading https://files.pythonhosted.org/packages/f0/14/a7811dbe428a01e2bd1cd5bd74a1cc66c63dade4707f37661f749f233855/coverage-5.0.2-cp36-cp36m-manylinux1_x86_64.whl (226kB)\n",
            "\u001b[K     |████████████████████████████████| 235kB 50.5MB/s \n",
            "\u001b[31mERROR: datascience 0.10.6 has requirement coverage==3.7.1, but you'll have coverage 5.0.2 which is incompatible.\u001b[0m\n",
            "\u001b[31mERROR: datascience 0.10.6 has requirement folium==0.2.1, but you'll have folium 0.8.3 which is incompatible.\u001b[0m\n",
            "\u001b[31mERROR: coveralls 0.5 has requirement coverage<3.999,>=3.6, but you'll have coverage 5.0.2 which is incompatible.\u001b[0m\n",
            "\u001b[?25hInstalling collected packages: coverage, art\n",
            "  Found existing installation: coverage 3.7.1\n",
            "    Uninstalling coverage-3.7.1:\n",
            "      Successfully uninstalled coverage-3.7.1\n",
            "Successfully installed art-4.4 coverage-5.0.2\n"
          ],
          "name": "stdout"
        }
      ]
    },
    {
      "cell_type": "markdown",
      "metadata": {
        "id": "z23Y7t2rwhSQ",
        "colab_type": "text"
      },
      "source": [
        "Enter your name inside of the quotations"
      ]
    },
    {
      "cell_type": "code",
      "metadata": {
        "id": "ugNcfRdtHmju",
        "colab_type": "code",
        "outputId": "872f8062-1bfa-42ab-a261-30946192a033",
        "colab": {
          "base_uri": "https://localhost:8080/",
          "height": 136
        }
      },
      "source": [
        "tprint(\"\")"
      ],
      "execution_count": 0,
      "outputs": [
        {
          "output_type": "stream",
          "text": [
            " _____             _   \r\n",
            "|_   _|  ___  ___ | |_ \r\n",
            "  | |   / _ \\/ __|| __|\r\n",
            "  | |  |  __/\\__ \\| |_ \r\n",
            "  |_|   \\___||___/ \\__|\r\n",
            "                       \r\n",
            "\n"
          ],
          "name": "stdout"
        }
      ]
    },
    {
      "cell_type": "markdown",
      "metadata": {
        "colab_type": "text",
        "id": "yq1ePSUPsh_6"
      },
      "source": [
        "## Dictionary Lookup!\n"
      ]
    },
    {
      "cell_type": "markdown",
      "metadata": {
        "colab_type": "text",
        "id": "jSrqHK7tsieL"
      },
      "source": [
        "So far, we have store data in lists and tuples.  Lists we can change and tuples we can’t.   We often have data that we want to store with a key that goes with it.   \n",
        "\n",
        "Example:\n",
        "* Name:  David\n",
        "* Profession: Art Dealer\n",
        "* Name: Joe\n",
        "* Profession:  Doctor\n"
      ]
    },
    {
      "cell_type": "code",
      "metadata": {
        "colab_type": "code",
        "id": "3QExSilisjbi",
        "colab": {}
      },
      "source": [
        "# We created 2 users\n",
        "user_1 = {'name':'David',\n",
        "          'profession':'Art Dealer'}\n",
        "user_2 = {'name':'Joe',\n",
        "          'profession':'Doctor'}"
      ],
      "execution_count": 0,
      "outputs": []
    },
    {
      "cell_type": "code",
      "metadata": {
        "colab_type": "code",
        "outputId": "bafd5a39-e8dc-4ce5-bc8d-9c6f1ead8dc8",
        "id": "M0CO6RNoskBB",
        "colab": {
          "base_uri": "https://localhost:8080/",
          "height": 34
        }
      },
      "source": [
        "# Let's lookup the name of user 1\n",
        "# to do this, we use the key \"name\" to find the value \"David\"\n",
        "user_1['name']"
      ],
      "execution_count": 0,
      "outputs": [
        {
          "output_type": "execute_result",
          "data": {
            "text/plain": [
              "'David'"
            ]
          },
          "metadata": {
            "tags": []
          },
          "execution_count": 13
        }
      ]
    },
    {
      "cell_type": "markdown",
      "metadata": {
        "id": "sMfgvkyk6Lv0",
        "colab_type": "text"
      },
      "source": [
        "## Dictionaries!"
      ]
    },
    {
      "cell_type": "markdown",
      "metadata": {
        "id": "fRfQBKTq65HW",
        "colab_type": "text"
      },
      "source": [
        "We can use the **dict** data structure to do this.   \n",
        "Let’s help David store info on which paintings he has in stock of different artists.  He has quite the collection: \n",
        "\n",
        "Picasso:  The Old Guitarist, La Vie, Violon\n",
        "\n",
        "Warhol:  Moonwalk,  Shot Marilyns, Race Riot\n",
        "\n",
        "Rembrandt:  The Night Watch,  Hundred Guilder Print\n",
        "\n",
        "The syntax to create a dictionary is\n",
        "```\n",
        "my_dictionary = {key:value,\n",
        "                 key:value,\n",
        "                 key:value}\n",
        "```"
      ]
    },
    {
      "cell_type": "code",
      "metadata": {
        "id": "fYy6AgBRZBl5",
        "colab_type": "code",
        "colab": {}
      },
      "source": [
        "# Create a dictionary where the key is the artist and \n",
        "# the value is a list of paintings for that artist\n",
        "\n",
        "\n"
      ],
      "execution_count": 0,
      "outputs": []
    },
    {
      "cell_type": "code",
      "metadata": {
        "id": "6ithNHVI7Yet",
        "colab_type": "code",
        "outputId": "ac06bc09-7f6b-480c-c565-f8fa39ef9977",
        "colab": {
          "base_uri": "https://localhost:8080/",
          "height": 34
        }
      },
      "source": [
        "# to check the keys of a dictionary use the .keys() function\n",
        "# to check the values of a dictionary use the .values() function\n",
        "# to check the items of a dictionary use the .items() function\n",
        "\n",
        "\n",
        "\n"
      ],
      "execution_count": 0,
      "outputs": [
        {
          "output_type": "execute_result",
          "data": {
            "text/plain": [
              "dict_keys(['picasso', 'warhol', 'rembrandt'])"
            ]
          },
          "metadata": {
            "tags": []
          },
          "execution_count": 84
        }
      ]
    },
    {
      "cell_type": "code",
      "metadata": {
        "id": "kFoM-6JH7AnN",
        "colab_type": "code",
        "outputId": "cf901ef6-2b1a-445d-f14a-d3f949b3caa8",
        "colab": {
          "base_uri": "https://localhost:8080/",
          "height": 34
        }
      },
      "source": [
        "# to check the keys of a dictionary use the .keys() function\n",
        "\n"
      ],
      "execution_count": 0,
      "outputs": [
        {
          "output_type": "execute_result",
          "data": {
            "text/plain": [
              "['the old guitarist', 'la vie', 'violon']"
            ]
          },
          "metadata": {
            "tags": []
          },
          "execution_count": 85
        }
      ]
    },
    {
      "cell_type": "markdown",
      "metadata": {
        "id": "ZGciNETv3_4K",
        "colab_type": "text"
      },
      "source": [
        "## Build your own CRM"
      ]
    },
    {
      "cell_type": "markdown",
      "metadata": {
        "id": "d4qijpWT_Pps",
        "colab_type": "text"
      },
      "source": [
        "Create multiple dictionaries for your CRM.\n",
        "\n",
        "Each customer will have their own dictionary containing their data.\n",
        " * `name`\n",
        " * `spend`\n",
        " * `location`\n",
        " * `company`\n",
        " * *Add whatever you like*"
      ]
    },
    {
      "cell_type": "code",
      "metadata": {
        "id": "Zzw4hAyM4DOX",
        "colab_type": "code",
        "colab": {}
      },
      "source": [
        "customer1 = {'name':'Sarah Smith',\n",
        "             'spend':7500000,\n",
        "             'location':'Nashville',\n",
        "             'company':'Acme Widget Co'}\n",
        "customer2 = {'name':'John Smith',\n",
        "             'spend':5000000,\n",
        "             'location':'NYC',\n",
        "             'company':'General Atomic'}\n",
        "customer3 = {'name':'Grace Google',\n",
        "             'spend':10000000,\n",
        "             'location':'LA',\n",
        "             'company':'Empire State Foundries'}\n",
        "\n",
        "# Feel free to add more customers and more data within the customers\n",
        "\n",
        "\n",
        "\n",
        "\n",
        "\n",
        "\n"
      ],
      "execution_count": 0,
      "outputs": []
    },
    {
      "cell_type": "markdown",
      "metadata": {
        "id": "brzJdV5d_l0V",
        "colab_type": "text"
      },
      "source": [
        "Now create a new dictionary to house all of the customer dictionaries\n",
        "\n",
        "Yes, it is a Dictionary of Dictionaries\n",
        "\n",
        "* Key:\n",
        "  * Assign the each customer a unique user ID number\n",
        "* Value\n",
        "  * Assign the customer dictionary"
      ]
    },
    {
      "cell_type": "code",
      "metadata": {
        "id": "6UyGDyEi45lL",
        "colab_type": "code",
        "colab": {}
      },
      "source": [
        "crm = {'005':customer1,\n",
        "       '026':customer2,\n",
        "       '100':customer3\n",
        "       # Please add the additional customers that were added above\n",
        "       \n",
        "       }\n",
        "\n"
      ],
      "execution_count": 0,
      "outputs": []
    },
    {
      "cell_type": "markdown",
      "metadata": {
        "id": "hQOQoSE0AR15",
        "colab_type": "text"
      },
      "source": [
        "Create a script that finds the customer with the **highest spend**"
      ]
    },
    {
      "cell_type": "code",
      "metadata": {
        "id": "dApP5geu5n9A",
        "colab_type": "code",
        "colab": {}
      },
      "source": [
        "# Use a for-loop to go through each customer dictionary\n",
        "# Print out the userID/name of the customer with the highest spend\n",
        "\n",
        "most_spent = 0\n",
        "most_id = ''\n"
      ],
      "execution_count": 0,
      "outputs": []
    },
    {
      "cell_type": "markdown",
      "metadata": {
        "id": "3YumPijzA_kv",
        "colab_type": "text"
      },
      "source": [
        "## Math Madness"
      ]
    },
    {
      "cell_type": "markdown",
      "metadata": {
        "id": "F6gzBmF_BCI7",
        "colab_type": "text"
      },
      "source": [
        "Open the command line window on your laptop.\n",
        "\n",
        "What is the CLI?\n",
        "\n",
        "Then type python\n",
        "\n",
        "Let’s try some expressions. Once you have tried these, devise some more difficult ones.\n",
        "\n",
        "*   `4 + 4`\n",
        "*   `2 * 9`\n",
        "*   `2 ** 3`\n",
        "*   `10 / 2`\n",
        "*   `(4 + 5) * 6`\n",
        "*   `11 // 2` - this is called floor division - what is it doing?\n",
        "*   `11 % 2` - this is called modulo - it gives you the remainder"
      ]
    },
    {
      "cell_type": "code",
      "metadata": {
        "id": "e77K3gKTA5kV",
        "colab_type": "code",
        "colab": {}
      },
      "source": [
        ""
      ],
      "execution_count": 0,
      "outputs": []
    },
    {
      "cell_type": "code",
      "metadata": {
        "id": "RYnnUE_tBLH-",
        "colab_type": "code",
        "colab": {}
      },
      "source": [
        ""
      ],
      "execution_count": 0,
      "outputs": []
    },
    {
      "cell_type": "code",
      "metadata": {
        "id": "Qhgk8TpCBMRX",
        "colab_type": "code",
        "colab": {}
      },
      "source": [
        ""
      ],
      "execution_count": 0,
      "outputs": []
    },
    {
      "cell_type": "code",
      "metadata": {
        "id": "awS5lx1HBM2w",
        "colab_type": "code",
        "colab": {}
      },
      "source": [
        ""
      ],
      "execution_count": 0,
      "outputs": []
    },
    {
      "cell_type": "code",
      "metadata": {
        "id": "MibW0GVUBOA1",
        "colab_type": "code",
        "colab": {}
      },
      "source": [
        ""
      ],
      "execution_count": 0,
      "outputs": []
    },
    {
      "cell_type": "code",
      "metadata": {
        "id": "LMJZrgaj3brH",
        "colab_type": "code",
        "colab": {}
      },
      "source": [
        ""
      ],
      "execution_count": 0,
      "outputs": []
    },
    {
      "cell_type": "code",
      "metadata": {
        "id": "bE3K3gJf3btn",
        "colab_type": "code",
        "colab": {}
      },
      "source": [
        ""
      ],
      "execution_count": 0,
      "outputs": []
    },
    {
      "cell_type": "markdown",
      "metadata": {
        "id": "W6kCRm552MIK",
        "colab_type": "text"
      },
      "source": [
        "## Math Madness 2"
      ]
    },
    {
      "cell_type": "markdown",
      "metadata": {
        "id": "qRfsdMe72bQC",
        "colab_type": "text"
      },
      "source": [
        "We can convert floats to integers \n",
        "\n",
        "`int(4.6)`  -- note how it rounds it down!! \n",
        "\n"
      ]
    },
    {
      "cell_type": "code",
      "metadata": {
        "id": "RDkmI5202bav",
        "colab_type": "code",
        "colab": {}
      },
      "source": [
        ""
      ],
      "execution_count": 0,
      "outputs": []
    },
    {
      "cell_type": "markdown",
      "metadata": {
        "id": "MXKtrMsw2j-7",
        "colab_type": "text"
      },
      "source": [
        "and integers to floats\n",
        "\n",
        "`float(5)`\n",
        "\n"
      ]
    },
    {
      "cell_type": "code",
      "metadata": {
        "id": "0JNB0Jc92hwc",
        "colab_type": "code",
        "colab": {}
      },
      "source": [
        ""
      ],
      "execution_count": 0,
      "outputs": []
    },
    {
      "cell_type": "markdown",
      "metadata": {
        "id": "ABNCBJNS2re0",
        "colab_type": "text"
      },
      "source": [
        "We can round numbers using\n",
        "\n",
        "`round(5.6)`\n",
        "\n",
        "`round(65.98)`"
      ]
    },
    {
      "cell_type": "code",
      "metadata": {
        "id": "wRtFgPaz2t7O",
        "colab_type": "code",
        "colab": {}
      },
      "source": [
        ""
      ],
      "execution_count": 0,
      "outputs": []
    },
    {
      "cell_type": "code",
      "metadata": {
        "id": "eEPIZp3v2vet",
        "colab_type": "code",
        "colab": {}
      },
      "source": [
        ""
      ],
      "execution_count": 0,
      "outputs": []
    },
    {
      "cell_type": "markdown",
      "metadata": {
        "id": "GN9FgZQC3Lu9",
        "colab_type": "text"
      },
      "source": [
        "## Casting Data Types"
      ]
    },
    {
      "cell_type": "markdown",
      "metadata": {
        "id": "0ojo--xa3qtO",
        "colab_type": "text"
      },
      "source": [
        "We can also convert a number into a string with \n",
        "\n",
        "`str(10)`\n",
        "\n",
        "Note - functions such as `int()`, `float()` and `str()` are all examples of casting.\n",
        "\n",
        "We are casting a literal into a different type. \n",
        "A literal is a piece of data used inside a program.  \n"
      ]
    },
    {
      "cell_type": "code",
      "metadata": {
        "id": "QngJibYG3vIG",
        "colab_type": "code",
        "outputId": "323af3fe-1788-4ca8-d701-f7c65050287d",
        "colab": {
          "base_uri": "https://localhost:8080/",
          "height": 34
        }
      },
      "source": [
        "# use str() on a number to make it a string\n"
      ],
      "execution_count": 0,
      "outputs": [
        {
          "output_type": "execute_result",
          "data": {
            "text/plain": [
              "'10'"
            ]
          },
          "metadata": {
            "tags": []
          },
          "execution_count": 101
        }
      ]
    },
    {
      "cell_type": "code",
      "metadata": {
        "id": "F8Rxu90I37Ri",
        "colab_type": "code",
        "outputId": "17773b6d-43b2-4daa-aa8d-59856564fed5",
        "colab": {
          "base_uri": "https://localhost:8080/",
          "height": 34
        }
      },
      "source": [
        "# turn a string of a number (\"10\") into an int using int()\n"
      ],
      "execution_count": 0,
      "outputs": [
        {
          "output_type": "execute_result",
          "data": {
            "text/plain": [
              "10"
            ]
          },
          "metadata": {
            "tags": []
          },
          "execution_count": 102
        }
      ]
    },
    {
      "cell_type": "code",
      "metadata": {
        "id": "j2LQhxON39fw",
        "colab_type": "code",
        "outputId": "5bb6abcf-fb87-4827-966d-ffeb13d7f862",
        "colab": {
          "base_uri": "https://localhost:8080/",
          "height": 34
        }
      },
      "source": [
        "# turn a string of a number (\"1\") into an float using int()\n"
      ],
      "execution_count": 0,
      "outputs": [
        {
          "output_type": "execute_result",
          "data": {
            "text/plain": [
              "1.0"
            ]
          },
          "metadata": {
            "tags": []
          },
          "execution_count": 103
        }
      ]
    },
    {
      "cell_type": "markdown",
      "metadata": {
        "id": "jCJbOf6M4g2W",
        "colab_type": "text"
      },
      "source": [
        "## Challenge 1: Character Input"
      ]
    },
    {
      "cell_type": "markdown",
      "metadata": {
        "id": "IsmTIN234kG5",
        "colab_type": "text"
      },
      "source": [
        "Create a program that asks the user to enter their name and their age. \n",
        "\n",
        "Print out a message addressed to them that tells them the year that they will turn 100 years old.\n"
      ]
    },
    {
      "cell_type": "code",
      "metadata": {
        "id": "RFqkK8hP4kRO",
        "colab_type": "code",
        "colab": {}
      },
      "source": [
        "\n",
        "\n",
        "\n",
        "\n",
        "\n"
      ],
      "execution_count": 0,
      "outputs": []
    },
    {
      "cell_type": "markdown",
      "metadata": {
        "id": "7yGH1yBBxd7r",
        "colab_type": "text"
      },
      "source": [
        "## Some String Operations"
      ]
    },
    {
      "cell_type": "markdown",
      "metadata": {
        "id": "gd1kthkbxm0E",
        "colab_type": "text"
      },
      "source": [
        "We can perform operations on strings to change the case, remove blank space, and even split strings into a list of words.\n",
        "\n",
        "We will try using the following operations on our strings:\n",
        "\n",
        "* `.lower()`\n",
        "    * `\"HELLO\".lower()` will become `'hello'`\n",
        "* `.upper()`\n",
        "    * `\"hello\".upper()` will become `'HELLO`\n",
        "* `.capitalize()`\n",
        "    * `\"hello\".capitalize()` will become `'Hello'`\n",
        "* `.replace()`\n",
        "    * `\"hello\".replace(\"e\",\"a\")` will replace the \"e\" with an \"a\" and become `'hallo'`\n",
        "* `.split()`\n",
        "    * `\"jacket,purse,watch\".split(\",\")` will become `['jacket','purse','watch']`\n",
        "* `.strip()`\n",
        "    * Sometimes, there is are unwanted characters preceding/proceeding a string.\n",
        "    * `.strip()` allows you to choose what you want removed\n",
        "    * `.strip()` without anything in the parenthesis will remove whitespace before the first character and after the last character\n"
      ]
    },
    {
      "cell_type": "code",
      "metadata": {
        "colab_type": "code",
        "id": "lFRCaieRxifu",
        "colab": {}
      },
      "source": [
        "# Write your name in all caps\n",
        "upper_name = \n",
        "# Write your name in lowercase\n",
        "lower_name = "
      ],
      "execution_count": 0,
      "outputs": []
    },
    {
      "cell_type": "code",
      "metadata": {
        "id": "GW5hx_QuxvzY",
        "colab_type": "code",
        "colab": {}
      },
      "source": [
        "# print out your upper_name variable\n",
        "\n",
        "# print out your upper_name variable using .lower()\n"
      ],
      "execution_count": 0,
      "outputs": []
    },
    {
      "cell_type": "code",
      "metadata": {
        "id": "7SHj_JzUxv8e",
        "colab_type": "code",
        "colab": {}
      },
      "source": [
        "# print out your lower_name variable\n",
        "\n",
        "# print out your lower_name variable using .upper()\n"
      ],
      "execution_count": 0,
      "outputs": []
    },
    {
      "cell_type": "code",
      "metadata": {
        "id": "TtYx95t0xv_b",
        "colab_type": "code",
        "colab": {}
      },
      "source": [
        "# print out either variable using .capitalize()\n"
      ],
      "execution_count": 0,
      "outputs": []
    },
    {
      "cell_type": "code",
      "metadata": {
        "id": "prZsMZXrxwCm",
        "colab_type": "code",
        "colab": {}
      },
      "source": [
        "# Write a sentance\n",
        "sentance = "
      ],
      "execution_count": 0,
      "outputs": []
    },
    {
      "cell_type": "code",
      "metadata": {
        "id": "iX10Dsi9y5Nm",
        "colab_type": "code",
        "colab": {}
      },
      "source": [
        "# Split your sentance into a list using .split()\n",
        "# In the .split() operator, choose the character(s) that you want the text to be split by\n"
      ],
      "execution_count": 0,
      "outputs": []
    },
    {
      "cell_type": "code",
      "metadata": {
        "id": "YFT8RRr4y5Tz",
        "colab_type": "code",
        "colab": {}
      },
      "source": [
        "lots_of_space = \"  my spacebar is broken     \""
      ],
      "execution_count": 0,
      "outputs": []
    },
    {
      "cell_type": "code",
      "metadata": {
        "id": "Y1kf4344xwKk",
        "colab_type": "code",
        "outputId": "85ae49ee-19d2-44d1-b47b-d72ed687f6d4",
        "colab": {
          "base_uri": "https://localhost:8080/",
          "height": 34
        }
      },
      "source": [
        "# Look what happens to the string once we use .strip()\n",
        "lots_of_space.strip()"
      ],
      "execution_count": 0,
      "outputs": [
        {
          "output_type": "execute_result",
          "data": {
            "text/plain": [
              "'my spacebar is broken'"
            ]
          },
          "metadata": {
            "tags": []
          },
          "execution_count": 33
        }
      ]
    },
    {
      "cell_type": "code",
      "metadata": {
        "id": "qQ0y38ld0_1z",
        "colab_type": "code",
        "colab": {}
      },
      "source": [
        "# Now lets try combining multiple operators\n"
      ],
      "execution_count": 0,
      "outputs": []
    },
    {
      "cell_type": "markdown",
      "metadata": {
        "id": "spbL3PkJ1og2",
        "colab_type": "text"
      },
      "source": [
        "## Turning CSV text into a table"
      ]
    },
    {
      "cell_type": "code",
      "metadata": {
        "id": "YPCwgp2M1oup",
        "colab_type": "code",
        "outputId": "0d6ebd9f-35eb-458c-bd15-fb5eac9efa8f",
        "colab": {
          "base_uri": "https://localhost:8080/",
          "height": 34
        }
      },
      "source": [
        "csv = \"name,age,city;sarah,23,NYC;joseph,35,SFO;tina,28,MIA\"\n",
        "csv = [i.split(',') for i in csv.split(';')]\n",
        "print(csv)"
      ],
      "execution_count": 0,
      "outputs": [
        {
          "output_type": "stream",
          "text": [
            "[['name', 'age', 'city'], ['sarah', '23', 'NYC'], ['joseph', '35', 'SFO'], ['tina', '28', 'MIA']]\n"
          ],
          "name": "stdout"
        }
      ]
    },
    {
      "cell_type": "code",
      "metadata": {
        "id": "5BGIOR1I3UDH",
        "colab_type": "code",
        "outputId": "545bd421-934d-4aa2-adf4-d2495c4eca5a",
        "colab": {
          "base_uri": "https://localhost:8080/",
          "height": 142
        }
      },
      "source": [
        "import pandas as pd\n",
        "\n",
        "pd.DataFrame(csv[1:],columns=csv[0])"
      ],
      "execution_count": 0,
      "outputs": [
        {
          "output_type": "execute_result",
          "data": {
            "text/html": [
              "<div>\n",
              "<style scoped>\n",
              "    .dataframe tbody tr th:only-of-type {\n",
              "        vertical-align: middle;\n",
              "    }\n",
              "\n",
              "    .dataframe tbody tr th {\n",
              "        vertical-align: top;\n",
              "    }\n",
              "\n",
              "    .dataframe thead th {\n",
              "        text-align: right;\n",
              "    }\n",
              "</style>\n",
              "<table border=\"1\" class=\"dataframe\">\n",
              "  <thead>\n",
              "    <tr style=\"text-align: right;\">\n",
              "      <th></th>\n",
              "      <th>name</th>\n",
              "      <th>age</th>\n",
              "      <th>city</th>\n",
              "    </tr>\n",
              "  </thead>\n",
              "  <tbody>\n",
              "    <tr>\n",
              "      <th>0</th>\n",
              "      <td>sarah</td>\n",
              "      <td>23</td>\n",
              "      <td>NYC</td>\n",
              "    </tr>\n",
              "    <tr>\n",
              "      <th>1</th>\n",
              "      <td>joseph</td>\n",
              "      <td>35</td>\n",
              "      <td>SFO</td>\n",
              "    </tr>\n",
              "    <tr>\n",
              "      <th>2</th>\n",
              "      <td>tina</td>\n",
              "      <td>28</td>\n",
              "      <td>MIA</td>\n",
              "    </tr>\n",
              "  </tbody>\n",
              "</table>\n",
              "</div>"
            ],
            "text/plain": [
              "     name age city\n",
              "0   sarah  23  NYC\n",
              "1  joseph  35  SFO\n",
              "2    tina  28  MIA"
            ]
          },
          "metadata": {
            "tags": []
          },
          "execution_count": 67
        }
      ]
    },
    {
      "cell_type": "markdown",
      "metadata": {
        "id": "Qlj3gqy_BYrC",
        "colab_type": "text"
      },
      "source": [
        "## CTR Feedback"
      ]
    },
    {
      "cell_type": "markdown",
      "metadata": {
        "id": "KW3CrfvfBceC",
        "colab_type": "text"
      },
      "source": [
        "We have a customer and want to give them feedback on how their ad campaign is doing.\n",
        "\n",
        "We will find their CTR and then determine if that is above a certain threshold.\n",
        "\n",
        "We will use our good friend the IF statement, Print and other familiar syntax while introducing the comparison operators. \n"
      ]
    },
    {
      "cell_type": "code",
      "metadata": {
        "id": "GrgtZbTsBh7Y",
        "colab_type": "code",
        "outputId": "f1cbec60-705e-48c6-97fc-341af9710744",
        "colab": {
          "base_uri": "https://localhost:8080/",
          "height": 51
        }
      },
      "source": [
        "ctr = float(input(\"What is the CTR (percentage) on your ad? \"))/100\n",
        "\n",
        "ctr_threshold1 = .05\n",
        "\n",
        "ctr_threshold2 = .02\n",
        "\n",
        "if ctr > ctr_threshold1:\n",
        "    print(\"Your CTR is Excellent. Good Luck with the campaign\")\n",
        "\n",
        "elif ctr < ctr_threshold1 and ctr > ctr_threshold2:\n",
        "    print(\"You are doing good but you could be doing better\")\n",
        "\n",
        "else:\n",
        "    print(\"Please contact your Adwords representative right away \")"
      ],
      "execution_count": 0,
      "outputs": [
        {
          "output_type": "stream",
          "text": [
            "What is the CTR (percentage) on your ad? 12\n",
            "Your CTR is Excellent. Good Luck with the campaign\n"
          ],
          "name": "stdout"
        }
      ]
    },
    {
      "cell_type": "markdown",
      "metadata": {
        "id": "sWGa3mQsBpbN",
        "colab_type": "text"
      },
      "source": [
        "## Loop-D-Loop"
      ]
    },
    {
      "cell_type": "markdown",
      "metadata": {
        "id": "z-SM65PCBs_E",
        "colab_type": "text"
      },
      "source": [
        "How do we automate repetitive tasks?  We can use loops!\n",
        "\n",
        "Let’s ask the user for five music artists instead of just one.\n",
        "\n",
        "We will use conditional statements to see if the artist is in one genre or another\n",
        "\n",
        "A loop can be used like this:\n",
        "\n",
        "`For i in range(5):`\n",
        "\n",
        "Now let’s try a different way to iterate through a loop. \n",
        "\n",
        "`for artist in suggestions:`\n"
      ]
    },
    {
      "cell_type": "code",
      "metadata": {
        "id": "JbYfSL3jB77j",
        "colab_type": "code",
        "colab": {}
      },
      "source": [
        "# create a list of 5 musical artist suggestions\n",
        "suggestions = \n",
        "# add a few musical artists for the 2 musical genres\n",
        "classical = \n",
        "pop = \n"
      ],
      "execution_count": 0,
      "outputs": []
    },
    {
      "cell_type": "code",
      "metadata": {
        "id": "HXMzqkmvBwI2",
        "colab_type": "code",
        "colab": {}
      },
      "source": [
        "# Create an empty list to store the suggestions that are not in either list\n",
        "neither = []\n",
        "\n",
        "# here create a is,elif,else loop within a for loop\n",
        "for artist in suggestions:\n",
        "\n",
        "    # if the suggested artist is in the classical artist list (classical)\n",
        "    # Enter code after \"if\"\n",
        "    if \n",
        "        # Enter what should happen if the suggested artist is in the classical genre lis\n",
        "        \n",
        "\n",
        "    # else, if the suggested artist is in the pop artist list (pop)\n",
        "    # Enter code after \"elif\"    \n",
        "    elif \n",
        "        # Enter what should happen if the suggested artist is in the pop genre list\n",
        "        \n",
        "\n",
        "    # else (the suggested artist is not in either list)\n",
        "    else:\n",
        "        # Enter what should happen if the suggested artist is not in either list\n",
        "        # Add the artist to the artist suggestions list (artist_suggestions)\n",
        "        \n",
        "    \n",
        "# Print the neither list to see what musical artists are not in either list\n"
      ],
      "execution_count": 0,
      "outputs": []
    },
    {
      "cell_type": "markdown",
      "metadata": {
        "id": "HDB6UFphCG4h",
        "colab_type": "text"
      },
      "source": [
        "## Let's Get Organized"
      ]
    },
    {
      "cell_type": "markdown",
      "metadata": {
        "id": "bqvnf0ioCKpk",
        "colab_type": "text"
      },
      "source": [
        "So far we have have been pumping out code that works, but not yet organizing it in re-usable chunks. \n",
        "\n",
        "Let’s create a function called `artist_test` and put in our code that tests to see if a given artist is in Mary’s or David’s lists. \n",
        "\n",
        "Now, we can just call this function when needed! \n",
        "\n",
        "Functions are like LEGO bricks that we can reuse to make all kinds of new programs.\n"
      ]
    },
    {
      "cell_type": "code",
      "metadata": {
        "id": "9vSIiajRDTIl",
        "colab_type": "code",
        "colab": {}
      },
      "source": [
        "# Create a function to test if a given artist is in a given list\n",
        "\n",
        "def artist_test (lists,artist):\n",
        "\n",
        "    # use an if/else statement to let the user know whether the element is in the list or not\n",
        "    # In functions, instead of printing a message, we use 'return' to send our information out to the user\n",
        "    \n",
        "\n",
        "\n",
        "    \n"
      ],
      "execution_count": 0,
      "outputs": []
    },
    {
      "cell_type": "code",
      "metadata": {
        "id": "qgYbVn5PEJYW",
        "colab_type": "code",
        "outputId": "92310bd7-b170-466f-faf0-bac09387191e",
        "colab": {
          "base_uri": "https://localhost:8080/",
          "height": 34
        }
      },
      "source": [
        "# Properly fill in the correct elements into the function to make it run\n",
        "artist_test()"
      ],
      "execution_count": 0,
      "outputs": [
        {
          "output_type": "stream",
          "text": [
            "1 is in the list\n"
          ],
          "name": "stdout"
        }
      ]
    },
    {
      "cell_type": "markdown",
      "metadata": {
        "id": "ogXFOkRLEauj",
        "colab_type": "text"
      },
      "source": [
        "## Loop-D-Loop and Functions"
      ]
    },
    {
      "cell_type": "markdown",
      "metadata": {
        "id": "Z1XXj4xaEdgG",
        "colab_type": "text"
      },
      "source": [
        "Let’s revisit the for loop but this time let’s have the code in a function and just call it each iteration of the loop. "
      ]
    },
    {
      "cell_type": "code",
      "metadata": {
        "id": "N8PfrvJeEO3I",
        "colab_type": "code",
        "colab": {}
      },
      "source": [
        "# create a list of artists (Can be in the artist lists)\n",
        "\n"
      ],
      "execution_count": 0,
      "outputs": []
    },
    {
      "cell_type": "code",
      "metadata": {
        "id": "6gIbRMHmEzje",
        "colab_type": "code",
        "outputId": "255b5216-4a7b-4cd9-b84a-ca814c2b8a7b",
        "colab": {
          "base_uri": "https://localhost:8080/",
          "height": 68
        }
      },
      "source": [
        "# use a for loop to go through each element in the list\n",
        "# the loop will take each element and check if it is in the classical/pop artist list\n",
        "\n"
      ],
      "execution_count": 0,
      "outputs": [
        {
          "output_type": "stream",
          "text": [
            "monet is in the list\n",
            "warhol is in the list\n",
            "test is not in the list\n"
          ],
          "name": "stdout"
        }
      ]
    },
    {
      "cell_type": "markdown",
      "metadata": {
        "id": "qyWRJjNaKU22",
        "colab_type": "text"
      },
      "source": [
        "## Challenge 2: Odd or Even"
      ]
    },
    {
      "cell_type": "markdown",
      "metadata": {
        "id": "BKrnRinXKaCO",
        "colab_type": "text"
      },
      "source": [
        "Ask the user for a number. \n",
        "\n",
        "Depending on whether the number is even or odd, print out an appropriate message to the user. \n",
        "\n",
        "Hint: how does an even / odd number react differently when divided by 2?\n",
        "\n",
        "Please use `!=`  in your solution"
      ]
    },
    {
      "cell_type": "code",
      "metadata": {
        "id": "VU-wO1z3KaNd",
        "colab_type": "code",
        "colab": {}
      },
      "source": [
        ""
      ],
      "execution_count": 0,
      "outputs": []
    },
    {
      "cell_type": "markdown",
      "metadata": {
        "id": "fzc_x3Q3yEqf",
        "colab_type": "text"
      },
      "source": [
        "## Range Practice"
      ]
    },
    {
      "cell_type": "markdown",
      "metadata": {
        "id": "0tPkhjNvyI60",
        "colab_type": "text"
      },
      "source": [
        "So far we used `range(n)`\n",
        "\n",
        "Now let’s check out the full power of `range`\n",
        "\n",
        "Try:\n",
        "\n",
        "`print(list(range(20,3, 2)))`\n",
        "\n",
        "What are these additional parameters doing?\n"
      ]
    },
    {
      "cell_type": "code",
      "metadata": {
        "id": "jthmDTX9yE29",
        "colab_type": "code",
        "colab": {}
      },
      "source": [
        "new_list = list(range(20,30,2))"
      ],
      "execution_count": 0,
      "outputs": []
    },
    {
      "cell_type": "code",
      "metadata": {
        "id": "aPNwrEo8EwQB",
        "colab_type": "code",
        "outputId": "bfaa03fc-508f-424c-d0d4-6e1a81cefc00",
        "colab": {
          "base_uri": "https://localhost:8080/",
          "height": 34
        }
      },
      "source": [
        "print(new_list)"
      ],
      "execution_count": 0,
      "outputs": [
        {
          "output_type": "stream",
          "text": [
            "[20, 22, 24, 26, 28]\n"
          ],
          "name": "stdout"
        }
      ]
    },
    {
      "cell_type": "markdown",
      "metadata": {
        "id": "Lm0u9jPxM8sz",
        "colab_type": "text"
      },
      "source": [
        "## Error Checking"
      ]
    },
    {
      "cell_type": "markdown",
      "metadata": {
        "id": "2SedF7SvM-0I",
        "colab_type": "text"
      },
      "source": [
        "It’s best to anticipate user error and other sources of problems.\n",
        "\n",
        "In the CTR program, let’s check the user’s input to make sure it is in the range of CTR. \n"
      ]
    },
    {
      "cell_type": "code",
      "metadata": {
        "id": "ES1DXuvcIL4q",
        "colab_type": "code",
        "colab": {}
      },
      "source": [
        "# As you see, we are creating a function to tell a user if the ctr is doing excellent/good/bad\n",
        "# Users might type in a string which does not make sense for this problem\n",
        "# Here, we have used a try/except loop to error check\n",
        "\n",
        "def ctr_checker():\n",
        "    ctr = input(\"What is the CTR (percentage) on your ad? \") # Ask user for their CTR\n",
        "    try: # try to do this process\n",
        "        ctr = float(ctr)\n",
        "    except: # if an error has occured, what would you like to happen\n",
        "        return \"number not entered\"\n",
        "\n",
        "  # copy/past the rest of the function from the previous ctr exercise\n",
        "\n",
        "  "
      ],
      "execution_count": 0,
      "outputs": []
    },
    {
      "cell_type": "code",
      "metadata": {
        "id": "xUCryWy7NPIV",
        "colab_type": "code",
        "outputId": "0c5ab889-160a-4fc2-c36f-ef0937768a67",
        "colab": {
          "base_uri": "https://localhost:8080/",
          "height": 51
        }
      },
      "source": [
        "# Test out your function with a number and then with a string\n",
        "\n",
        "ctr_checker()"
      ],
      "execution_count": 0,
      "outputs": [
        {
          "output_type": "stream",
          "text": [
            "What is the CTR (percentage) on your ad? 9\n"
          ],
          "name": "stdout"
        },
        {
          "output_type": "execute_result",
          "data": {
            "text/plain": [
              "'Your CTR is Excellent. Good Luck with the campaign'"
            ]
          },
          "metadata": {
            "tags": []
          },
          "execution_count": 120
        }
      ]
    },
    {
      "cell_type": "markdown",
      "metadata": {
        "id": "hKBaRPYu5X7-",
        "colab_type": "text"
      },
      "source": [
        "## Importing Data into Colab"
      ]
    },
    {
      "cell_type": "markdown",
      "metadata": {
        "id": "PUcJnK8v5x_e",
        "colab_type": "text"
      },
      "source": [
        "\n",
        "Download the sample resume as a PDF [here](https://drive.google.com/open?id=168x9_nFz318WFj4gUls0KPBRyPlDEOvT)\n"
      ]
    },
    {
      "cell_type": "markdown",
      "metadata": {
        "id": "WIf-h-zm6vuv",
        "colab_type": "text"
      },
      "source": [
        "Once you download the file to your computer, upload your file into the colab.\n",
        "\n",
        "\n",
        "---\n",
        "\n",
        "To upload a file, click on the files icon in the left side of your window.\n",
        "\n",
        "![open files](https://drive.google.com/uc?id=1tuE-opGviLPw2lDplw6-KtDtGvECdv2O)\n",
        "\n",
        "---\n",
        "\n",
        "\n",
        "Then click on the upload button and upload your data\n",
        "![upload data](https://drive.google.com/uc?id=1ms9ifOhD2nSlZs3-AwJBUtRS4WHmmGF9)"
      ]
    },
    {
      "cell_type": "markdown",
      "metadata": {
        "id": "qUz1lKHW3Nxy",
        "colab_type": "text"
      },
      "source": [
        "## Performing Sheets-Like Functions in Python"
      ]
    },
    {
      "cell_type": "markdown",
      "metadata": {
        "id": "qoqfEEXRwAeM",
        "colab_type": "text"
      },
      "source": [
        "Let's import the pandas library in python\n",
        "\n",
        "This library allows gives us the ability to read spreadsheets, csv files, SQL, and other database files.\n",
        "\n",
        "In this section, we will use pandas to read a `csv` file so we can do some data-wrangling like you would normally do in Google Sheets or Excel.\n",
        "\n",
        "To import the pandas library, we run the following:\n",
        "```\n",
        "import pandas as pd\n",
        "```\n"
      ]
    },
    {
      "cell_type": "code",
      "metadata": {
        "id": "vNWXY3Fx3gx5",
        "colab_type": "code",
        "colab": {}
      },
      "source": [
        "import pandas as pd"
      ],
      "execution_count": 0,
      "outputs": []
    },
    {
      "cell_type": "markdown",
      "metadata": {
        "id": "w4VxRamLwLpg",
        "colab_type": "text"
      },
      "source": [
        "Now let's use pandas to import the `california_housing_train.csv` in the folder `sample_data`\n",
        "\n",
        "(The filepath is `sample_data/california_housing_train.csv`)\n",
        "\n",
        "To do this, we use a method `.read_csv()` from pandas (`pd`)\n",
        "\n",
        "The syntax is `pd.read_csv(\"FILEPATH\")`\n",
        "\n",
        "We will also name our dataframe `spreadsheet`"
      ]
    },
    {
      "cell_type": "code",
      "metadata": {
        "id": "dPO-dAQ33jhO",
        "colab_type": "code",
        "colab": {}
      },
      "source": [
        "spreadsheet = pd.read_csv(\"sample_data/california_housing_train.csv\")"
      ],
      "execution_count": 0,
      "outputs": []
    },
    {
      "cell_type": "markdown",
      "metadata": {
        "id": "qRcprrfow28L",
        "colab_type": "text"
      },
      "source": [
        "The data is really big, but lets take a peak at the top 5 rows \n",
        "\n",
        "To do this we use `.head()`"
      ]
    },
    {
      "cell_type": "code",
      "metadata": {
        "id": "4GOhkLXDwmRM",
        "colab_type": "code",
        "colab": {}
      },
      "source": [
        "# Remember that our dataframes name is spreadsheet\n"
      ],
      "execution_count": 0,
      "outputs": []
    },
    {
      "cell_type": "markdown",
      "metadata": {
        "id": "m2BClX0UUnBP",
        "colab_type": "text"
      },
      "source": [
        "Now we will focus on a specific column\n",
        "\n",
        "Let's take a look at the `housing_median_age` column\n",
        "\n",
        "To do this, we will use the syntax:\n",
        "```\n",
        "dataframe['column_name']\n",
        "```\n",
        "\n",
        "Example:\n",
        "```\n",
        "customer_data['reviews']\n",
        "```"
      ]
    },
    {
      "cell_type": "code",
      "metadata": {
        "id": "HgRGQTKwUmQn",
        "colab_type": "code",
        "colab": {}
      },
      "source": [
        "# the column names must be strings so make sure you put them in quotations\n"
      ],
      "execution_count": 0,
      "outputs": []
    },
    {
      "cell_type": "markdown",
      "metadata": {
        "id": "YkRe0P-uw_Wo",
        "colab_type": "text"
      },
      "source": [
        "Now that we looked at our column, let's find the mean of that column\n",
        "\n",
        "To do this, we add\n",
        "`.mean()` to the end of our previous code\n",
        "\n",
        "Feel free to use other numerical columns as well\n",
        "\n",
        "Example:\n",
        "```\n",
        "employees['age'].mean()\n",
        "```"
      ]
    },
    {
      "cell_type": "code",
      "metadata": {
        "id": "sfNer24Xc-61",
        "colab_type": "code",
        "colab": {}
      },
      "source": [
        ""
      ],
      "execution_count": 0,
      "outputs": []
    },
    {
      "cell_type": "markdown",
      "metadata": {
        "id": "BIATkbR5zXEA",
        "colab_type": "text"
      },
      "source": [
        "We can also use `.sum()` to get the sum of a column\n",
        "\n",
        "Try it on the `population` column\n",
        "\n",
        "Example:\n",
        "```\n",
        "player_data['homeruns'].sum()\n",
        "```"
      ]
    },
    {
      "cell_type": "code",
      "metadata": {
        "id": "ZcmckDW4c_El",
        "colab_type": "code",
        "colab": {}
      },
      "source": [
        ""
      ],
      "execution_count": 0,
      "outputs": []
    },
    {
      "cell_type": "markdown",
      "metadata": {
        "id": "Ofgp-7cLzeFt",
        "colab_type": "text"
      },
      "source": [
        "Let's create a new column called 'people_per_household'\n",
        "\n",
        "This column will be the population divided by the number of households\n",
        "\n",
        "Example:\n",
        "\n",
        "If i wanted to figure out how many total rooms are in a house i would use:\n",
        "```\n",
        "house_data['total_rooms'] = house_data['bedrooms'] + house_data['other_rooms']\n",
        "``` "
      ]
    },
    {
      "cell_type": "code",
      "metadata": {
        "id": "to6IIhWv3jre",
        "colab_type": "code",
        "colab": {}
      },
      "source": [
        ""
      ],
      "execution_count": 0,
      "outputs": []
    },
    {
      "cell_type": "markdown",
      "metadata": {
        "id": "onKaBiHXYuUC",
        "colab_type": "text"
      },
      "source": [
        "Create a new column `total_non_bedroom_rooms` \n",
        "\n",
        "This will be the `total_rooms` less the `total_bedrooms`\n"
      ]
    },
    {
      "cell_type": "code",
      "metadata": {
        "id": "s1W1D0t23joq",
        "colab_type": "code",
        "colab": {}
      },
      "source": [
        ""
      ],
      "execution_count": 0,
      "outputs": []
    },
    {
      "cell_type": "markdown",
      "metadata": {
        "id": "GAjVDr64YhUc",
        "colab_type": "text"
      },
      "source": [
        "Let's take a peak out our data with the new column"
      ]
    },
    {
      "cell_type": "code",
      "metadata": {
        "id": "yavHu5Nj3jl9",
        "colab_type": "code",
        "outputId": "d762a822-4b3e-4d31-af28-616814de2094",
        "colab": {
          "base_uri": "https://localhost:8080/",
          "height": 224
        }
      },
      "source": [
        "spreadsheet.head()"
      ],
      "execution_count": 0,
      "outputs": [
        {
          "output_type": "execute_result",
          "data": {
            "text/html": [
              "<div>\n",
              "<style scoped>\n",
              "    .dataframe tbody tr th:only-of-type {\n",
              "        vertical-align: middle;\n",
              "    }\n",
              "\n",
              "    .dataframe tbody tr th {\n",
              "        vertical-align: top;\n",
              "    }\n",
              "\n",
              "    .dataframe thead th {\n",
              "        text-align: right;\n",
              "    }\n",
              "</style>\n",
              "<table border=\"1\" class=\"dataframe\">\n",
              "  <thead>\n",
              "    <tr style=\"text-align: right;\">\n",
              "      <th></th>\n",
              "      <th>longitude</th>\n",
              "      <th>latitude</th>\n",
              "      <th>housing_median_age</th>\n",
              "      <th>total_rooms</th>\n",
              "      <th>total_bedrooms</th>\n",
              "      <th>population</th>\n",
              "      <th>households</th>\n",
              "      <th>median_income</th>\n",
              "      <th>median_house_value</th>\n",
              "      <th>people_per_household</th>\n",
              "      <th>total_non_bedroom_rooms</th>\n",
              "    </tr>\n",
              "  </thead>\n",
              "  <tbody>\n",
              "    <tr>\n",
              "      <th>0</th>\n",
              "      <td>-114.31</td>\n",
              "      <td>34.19</td>\n",
              "      <td>15.0</td>\n",
              "      <td>5612.0</td>\n",
              "      <td>1283.0</td>\n",
              "      <td>1015.0</td>\n",
              "      <td>472.0</td>\n",
              "      <td>1.4936</td>\n",
              "      <td>66900.0</td>\n",
              "      <td>2.150424</td>\n",
              "      <td>4329.0</td>\n",
              "    </tr>\n",
              "    <tr>\n",
              "      <th>1</th>\n",
              "      <td>-114.47</td>\n",
              "      <td>34.40</td>\n",
              "      <td>19.0</td>\n",
              "      <td>7650.0</td>\n",
              "      <td>1901.0</td>\n",
              "      <td>1129.0</td>\n",
              "      <td>463.0</td>\n",
              "      <td>1.8200</td>\n",
              "      <td>80100.0</td>\n",
              "      <td>2.438445</td>\n",
              "      <td>5749.0</td>\n",
              "    </tr>\n",
              "    <tr>\n",
              "      <th>2</th>\n",
              "      <td>-114.56</td>\n",
              "      <td>33.69</td>\n",
              "      <td>17.0</td>\n",
              "      <td>720.0</td>\n",
              "      <td>174.0</td>\n",
              "      <td>333.0</td>\n",
              "      <td>117.0</td>\n",
              "      <td>1.6509</td>\n",
              "      <td>85700.0</td>\n",
              "      <td>2.846154</td>\n",
              "      <td>546.0</td>\n",
              "    </tr>\n",
              "    <tr>\n",
              "      <th>3</th>\n",
              "      <td>-114.57</td>\n",
              "      <td>33.64</td>\n",
              "      <td>14.0</td>\n",
              "      <td>1501.0</td>\n",
              "      <td>337.0</td>\n",
              "      <td>515.0</td>\n",
              "      <td>226.0</td>\n",
              "      <td>3.1917</td>\n",
              "      <td>73400.0</td>\n",
              "      <td>2.278761</td>\n",
              "      <td>1164.0</td>\n",
              "    </tr>\n",
              "    <tr>\n",
              "      <th>4</th>\n",
              "      <td>-114.57</td>\n",
              "      <td>33.57</td>\n",
              "      <td>20.0</td>\n",
              "      <td>1454.0</td>\n",
              "      <td>326.0</td>\n",
              "      <td>624.0</td>\n",
              "      <td>262.0</td>\n",
              "      <td>1.9250</td>\n",
              "      <td>65500.0</td>\n",
              "      <td>2.381679</td>\n",
              "      <td>1128.0</td>\n",
              "    </tr>\n",
              "  </tbody>\n",
              "</table>\n",
              "</div>"
            ],
            "text/plain": [
              "   longitude  latitude  ...  people_per_household  total_non_bedroom_rooms\n",
              "0    -114.31     34.19  ...              2.150424                   4329.0\n",
              "1    -114.47     34.40  ...              2.438445                   5749.0\n",
              "2    -114.56     33.69  ...              2.846154                    546.0\n",
              "3    -114.57     33.64  ...              2.278761                   1164.0\n",
              "4    -114.57     33.57  ...              2.381679                   1128.0\n",
              "\n",
              "[5 rows x 11 columns]"
            ]
          },
          "metadata": {
            "tags": []
          },
          "execution_count": 14
        }
      ]
    },
    {
      "cell_type": "markdown",
      "metadata": {
        "id": "QnfpSqhZaTrV",
        "colab_type": "text"
      },
      "source": [
        "Now that we have all of these new columns, we want to save our dataframe back into a new `.csv`\n",
        "\n",
        "To do this, we will be be using `.to_csv()` from pandas\n",
        "\n",
        "\n",
        "---\n",
        "\n",
        "\n",
        "\n",
        "---\n",
        "\n",
        "\n",
        "Example:\n",
        "\n",
        "`DataFrame.to_csv(\"Name_Your_File.csv\")`\n"
      ]
    },
    {
      "cell_type": "code",
      "metadata": {
        "id": "ISpiLkZQaTCo",
        "colab_type": "code",
        "colab": {}
      },
      "source": [
        "# Name the file updated_california_housing.csv\n"
      ],
      "execution_count": 0,
      "outputs": []
    },
    {
      "cell_type": "markdown",
      "metadata": {
        "id": "taVVCQ_CivaZ",
        "colab_type": "text"
      },
      "source": [
        "## AdWords Data"
      ]
    },
    {
      "cell_type": "markdown",
      "metadata": {
        "id": "A9B20LXeWPed",
        "colab_type": "text"
      },
      "source": [
        "Here, we have a real AdWords Data Set.\n",
        "\n",
        "The filename is `adwords.csv`\n",
        "\n",
        "We are going to use `Pandas` to import our dataset and we will have to figure out how to properly format our data"
      ]
    },
    {
      "cell_type": "code",
      "metadata": {
        "id": "takpJt7zQu4C",
        "colab_type": "code",
        "colab": {}
      },
      "source": [
        "# Import the pandas library as pd\n",
        "\n"
      ],
      "execution_count": 0,
      "outputs": []
    },
    {
      "cell_type": "code",
      "metadata": {
        "id": "E3KUCUYAWYce",
        "colab_type": "code",
        "colab": {}
      },
      "source": [
        "# Use pandas to read the csv file\n",
        "# name the variable \"ad_data\"\n"
      ],
      "execution_count": 0,
      "outputs": []
    },
    {
      "cell_type": "code",
      "metadata": {
        "id": "-M1-ujBVV1_L",
        "colab_type": "code",
        "colab": {}
      },
      "source": [
        "# Let's take a peak at our data\n"
      ],
      "execution_count": 0,
      "outputs": []
    },
    {
      "cell_type": "markdown",
      "metadata": {
        "id": "vlRKbNpwXBgK",
        "colab_type": "text"
      },
      "source": [
        "Let's dig deeper into our dataframe\n",
        "\n",
        "Use `DATAFRAME.info()` to get some information about our data"
      ]
    },
    {
      "cell_type": "code",
      "metadata": {
        "id": "pCIxQp4UXa4Z",
        "colab_type": "code",
        "colab": {}
      },
      "source": [
        ""
      ],
      "execution_count": 0,
      "outputs": []
    },
    {
      "cell_type": "markdown",
      "metadata": {
        "id": "PyuoHKlaXgek",
        "colab_type": "text"
      },
      "source": [
        "If you look closely, you will see that there are some issues\n",
        "\n",
        "\n",
        "\n",
        "*   The `Impressions` column is not a number column (`int64` or `float64`)\n",
        "*   The `CTR` column is not a number column (`int64` or `float64`)\n",
        "*   The `Impr. (Abs. Top) %` column is not a number column (`int64` or `float64`)\n",
        "*   The `Impr. (Top) %` column is not a number column (`int64` or `float64`)\n",
        "*   The `Conv. rate` column is not a number column (`int64` or `float64`)\n",
        "\n",
        "---\n",
        "\n",
        "\n",
        "**Why do you think this happened?**\n",
        "\n",
        "Hint: Look at the data in those columns\n",
        "\n",
        "\n",
        "\n"
      ]
    },
    {
      "cell_type": "markdown",
      "metadata": {
        "id": "f54-LtH8Ya6s",
        "colab_type": "text"
      },
      "source": [
        "We can identify that the issues fall into 2 solutions:\n",
        "\n",
        "1. Remove all `','` by replacing with an empty string `''`  (no space in between quotes). Then cast the string into a `int`/`float`\n",
        " * Use this on columns: \n",
        "        * `Impressions`\n",
        "\n",
        "2. Remove all `'%'` by replacing with an empty string `''`  (no space in between quotes). Then cast the string into a `int`/`float`\n",
        "    * Use this on columns: \n",
        "        * `CTR`\n",
        "        * `Impr. (Abs. Top) %`\n",
        "        * `Impr. (Top) %`\n",
        "        * `Conv. rate`\n",
        "---\n"
      ]
    },
    {
      "cell_type": "markdown",
      "metadata": {
        "id": "Hx5XFQ1CcCUR",
        "colab_type": "text"
      },
      "source": [
        "Perform Solution #1 on the `Impressions` column"
      ]
    },
    {
      "cell_type": "code",
      "metadata": {
        "id": "kTDdPAfSQu9s",
        "colab_type": "code",
        "colab": {}
      },
      "source": [
        "# Create an empty list (will be used to store the corrected values)\n",
        "new_list = []\n",
        "# Create a for-loop to cycle through each cell in the column in your ad_data\n",
        "for cell in ad_data['Impressions']:\n",
        "    # Replace the ',' with '' and save it to a variable named: string\n",
        "    string = cell.replace(',','')\n",
        "    # Cast the string to become a float and save it to a variable named: number\n",
        "    number = float(string)\n",
        "    # Append the number to the list we created\n",
        "    new_list.append(number)\n",
        "\n",
        "# Once the loop is done, we want to save the new values in our dataframe\n",
        "# We will assign the 'Impressions' column to our new list we created\n",
        "ad_data['Impressions'] = new_list\n",
        "    "
      ],
      "execution_count": 0,
      "outputs": []
    },
    {
      "cell_type": "code",
      "metadata": {
        "id": "bIE1QaNfVzou",
        "colab_type": "code",
        "colab": {}
      },
      "source": [
        "# Take a peak at youir data frame to see if this solution worked\n"
      ],
      "execution_count": 0,
      "outputs": []
    },
    {
      "cell_type": "markdown",
      "metadata": {
        "id": "694ILIXQdR8A",
        "colab_type": "text"
      },
      "source": [
        "For Solution #2, we will perform a similar solution.\n",
        "\n",
        "We need to remove a `'%'` from 4 different columns\n",
        "\n",
        "Make a list of the names of the columns that need to be corrected\n"
      ]
    },
    {
      "cell_type": "code",
      "metadata": {
        "id": "lhAKiRfId0VZ",
        "colab_type": "code",
        "colab": {}
      },
      "source": [
        "bad_columns = ['CTR','Impr. (Abs. Top) %','Impr. (Top) %','Conv. rate']"
      ],
      "execution_count": 0,
      "outputs": []
    },
    {
      "cell_type": "markdown",
      "metadata": {
        "id": "D4ZCLqtod93g",
        "colab_type": "text"
      },
      "source": [
        "Now that we have a list of the columns, we can create a for-loop to perform the solution of each column in the list.\n",
        "\n",
        "The steps we will take are:\n",
        "\n",
        "* Create a for loop to cycle through each column\n",
        "* Copy/Paste the code from Solution #1\n",
        "* Adjust the code to fit our solution\n",
        "\n",
        "Tips:\n",
        "* Remember how for loops work\n",
        "* Remember to assign the column to our new list we created"
      ]
    },
    {
      "cell_type": "code",
      "metadata": {
        "id": "wO9CrcKeSxDQ",
        "colab_type": "code",
        "colab": {}
      },
      "source": [
        "for column in bad_columns:\n",
        "    # Create an empty list (will be used to store the corrected values)\n",
        "    new_list = []\n",
        "    #  Create a for-loop to cycle through each cell in the column in your ad_data\n",
        "    for cell in ad_data[column]:\n",
        "        # Replace the % with '' and save it to a variable named: string\n",
        "        string = cell.replace('%','')\n",
        "        # Cast the string to become an float and save it to a variable named: number\n",
        "        number = float(string)\n",
        "        # Append the number to the list we created\n",
        "        new_list.append(number)\n",
        "\n",
        "    # Once the loop is done, we want to save the new values in our dataframe\n",
        "    # We will assign the 'Impressions' column to our new list we created\n",
        "    ad_data[column] = new_list"
      ],
      "execution_count": 0,
      "outputs": []
    },
    {
      "cell_type": "code",
      "metadata": {
        "id": "LKm3ap_DTI-D",
        "colab_type": "code",
        "outputId": "c1cd6a57-ec54-4ee4-fc52-dc9749cf6c31",
        "colab": {
          "base_uri": "https://localhost:8080/",
          "height": 323
        }
      },
      "source": [
        "# Take a peak at youir data frame to see if this solution worked\n",
        "ad_data.head()"
      ],
      "execution_count": 0,
      "outputs": [
        {
          "output_type": "execute_result",
          "data": {
            "text/html": [
              "<div>\n",
              "<style scoped>\n",
              "    .dataframe tbody tr th:only-of-type {\n",
              "        vertical-align: middle;\n",
              "    }\n",
              "\n",
              "    .dataframe tbody tr th {\n",
              "        vertical-align: top;\n",
              "    }\n",
              "\n",
              "    .dataframe thead th {\n",
              "        text-align: right;\n",
              "    }\n",
              "</style>\n",
              "<table border=\"1\" class=\"dataframe\">\n",
              "  <thead>\n",
              "    <tr style=\"text-align: right;\">\n",
              "      <th></th>\n",
              "      <th>Search keyword</th>\n",
              "      <th>Search keyword match type</th>\n",
              "      <th>Campaign</th>\n",
              "      <th>Ad group</th>\n",
              "      <th>Keyword max CPC</th>\n",
              "      <th>Currency</th>\n",
              "      <th>Clicks</th>\n",
              "      <th>Impressions</th>\n",
              "      <th>CTR</th>\n",
              "      <th>Avg. CPC</th>\n",
              "      <th>Cost</th>\n",
              "      <th>Impr. (Abs. Top) %</th>\n",
              "      <th>Impr. (Top) %</th>\n",
              "      <th>Conversions</th>\n",
              "      <th>View-through conv.</th>\n",
              "      <th>Cost / conv.</th>\n",
              "      <th>Conv. rate</th>\n",
              "      <th>Avg. CPM</th>\n",
              "    </tr>\n",
              "  </thead>\n",
              "  <tbody>\n",
              "    <tr>\n",
              "      <th>0</th>\n",
              "      <td>good +books on +quantum +computing</td>\n",
              "      <td>Broad</td>\n",
              "      <td>Campaign 001</td>\n",
              "      <td>Group A01</td>\n",
              "      <td>0</td>\n",
              "      <td>USD</td>\n",
              "      <td>1</td>\n",
              "      <td>11.0</td>\n",
              "      <td>9.09</td>\n",
              "      <td>6.99</td>\n",
              "      <td>6.99</td>\n",
              "      <td>100.00</td>\n",
              "      <td>100.00</td>\n",
              "      <td>0</td>\n",
              "      <td>0</td>\n",
              "      <td>0</td>\n",
              "      <td>0.0</td>\n",
              "      <td>635.45</td>\n",
              "    </tr>\n",
              "    <tr>\n",
              "      <th>1</th>\n",
              "      <td>quantum +computation +quantum +information</td>\n",
              "      <td>Broad</td>\n",
              "      <td>Campaign 001</td>\n",
              "      <td>Group A01</td>\n",
              "      <td>1</td>\n",
              "      <td>USD</td>\n",
              "      <td>2</td>\n",
              "      <td>66.0</td>\n",
              "      <td>3.03</td>\n",
              "      <td>0.96</td>\n",
              "      <td>1.91</td>\n",
              "      <td>51.52</td>\n",
              "      <td>54.55</td>\n",
              "      <td>0</td>\n",
              "      <td>0</td>\n",
              "      <td>0</td>\n",
              "      <td>0.0</td>\n",
              "      <td>28.94</td>\n",
              "    </tr>\n",
              "    <tr>\n",
              "      <th>2</th>\n",
              "      <td>quantum +computing +books</td>\n",
              "      <td>Broad</td>\n",
              "      <td>Campaign 001</td>\n",
              "      <td>Group A01</td>\n",
              "      <td>1</td>\n",
              "      <td>USD</td>\n",
              "      <td>48</td>\n",
              "      <td>1117.0</td>\n",
              "      <td>4.30</td>\n",
              "      <td>2.10</td>\n",
              "      <td>100.90</td>\n",
              "      <td>90.60</td>\n",
              "      <td>92.12</td>\n",
              "      <td>0</td>\n",
              "      <td>0</td>\n",
              "      <td>0</td>\n",
              "      <td>0.0</td>\n",
              "      <td>90.33</td>\n",
              "    </tr>\n",
              "    <tr>\n",
              "      <th>3</th>\n",
              "      <td>quantum +computation +books</td>\n",
              "      <td>Broad</td>\n",
              "      <td>Campaign 001</td>\n",
              "      <td>Group A01</td>\n",
              "      <td>1</td>\n",
              "      <td>USD</td>\n",
              "      <td>36</td>\n",
              "      <td>679.0</td>\n",
              "      <td>5.30</td>\n",
              "      <td>3.64</td>\n",
              "      <td>130.99</td>\n",
              "      <td>90.13</td>\n",
              "      <td>91.61</td>\n",
              "      <td>0</td>\n",
              "      <td>0</td>\n",
              "      <td>0</td>\n",
              "      <td>0.0</td>\n",
              "      <td>192.92</td>\n",
              "    </tr>\n",
              "    <tr>\n",
              "      <th>4</th>\n",
              "      <td>quantum +computing a +gentle +introduction</td>\n",
              "      <td>Broad</td>\n",
              "      <td>Campaign 001</td>\n",
              "      <td>Group A01</td>\n",
              "      <td>1</td>\n",
              "      <td>USD</td>\n",
              "      <td>19</td>\n",
              "      <td>593.0</td>\n",
              "      <td>3.20</td>\n",
              "      <td>8.06</td>\n",
              "      <td>153.11</td>\n",
              "      <td>95.95</td>\n",
              "      <td>96.63</td>\n",
              "      <td>0</td>\n",
              "      <td>0</td>\n",
              "      <td>0</td>\n",
              "      <td>0.0</td>\n",
              "      <td>258.20</td>\n",
              "    </tr>\n",
              "  </tbody>\n",
              "</table>\n",
              "</div>"
            ],
            "text/plain": [
              "                               Search keyword  ... Avg. CPM\n",
              "0          good +books on +quantum +computing  ...   635.45\n",
              "1  quantum +computation +quantum +information  ...    28.94\n",
              "2                   quantum +computing +books  ...    90.33\n",
              "3                 quantum +computation +books  ...   192.92\n",
              "4  quantum +computing a +gentle +introduction  ...   258.20\n",
              "\n",
              "[5 rows x 18 columns]"
            ]
          },
          "metadata": {
            "tags": []
          },
          "execution_count": 118
        }
      ]
    },
    {
      "cell_type": "markdown",
      "metadata": {
        "id": "rgJvqbTRf0GH",
        "colab_type": "text"
      },
      "source": [
        "Now that our data is properly formatted, we can start sorting our data.\n",
        "\n",
        "We want to sort our data by the `CTR` column\n",
        "\n",
        "The syntax is: `DATAFRAME.sort_values(COLUMN_NAME)`\n",
        "\n",
        "Example:\n",
        "If we wanted to sort baseball data by Home Runs:\n",
        "```\n",
        "baseball_data.sort_values(\"Home_Runs\")\n",
        "```\n",
        "Hint:\n",
        "By default `ascending = True` so if you would like to sort descending, you would use:\n",
        "```\n",
        "DATAFRAME.sort_values(COLUMN_NAME, ascending = False)\n",
        "```\n"
      ]
    },
    {
      "cell_type": "code",
      "metadata": {
        "id": "FMoPaFx-QvDD",
        "colab_type": "code",
        "outputId": "9a7eaf3a-5100-4660-a73b-a814bc09acc2",
        "colab": {
          "base_uri": "https://localhost:8080/",
          "height": 1000
        }
      },
      "source": [
        "# Try sorting the data by other columns too\n",
        "ad_data.sort_values('CTR',ascending=False)"
      ],
      "execution_count": 0,
      "outputs": [
        {
          "output_type": "execute_result",
          "data": {
            "text/html": [
              "<div>\n",
              "<style scoped>\n",
              "    .dataframe tbody tr th:only-of-type {\n",
              "        vertical-align: middle;\n",
              "    }\n",
              "\n",
              "    .dataframe tbody tr th {\n",
              "        vertical-align: top;\n",
              "    }\n",
              "\n",
              "    .dataframe thead th {\n",
              "        text-align: right;\n",
              "    }\n",
              "</style>\n",
              "<table border=\"1\" class=\"dataframe\">\n",
              "  <thead>\n",
              "    <tr style=\"text-align: right;\">\n",
              "      <th></th>\n",
              "      <th>Search keyword</th>\n",
              "      <th>Search keyword match type</th>\n",
              "      <th>Campaign</th>\n",
              "      <th>Ad group</th>\n",
              "      <th>Keyword max CPC</th>\n",
              "      <th>Currency</th>\n",
              "      <th>Clicks</th>\n",
              "      <th>Impressions</th>\n",
              "      <th>CTR</th>\n",
              "      <th>Avg. CPC</th>\n",
              "      <th>Cost</th>\n",
              "      <th>Impr. (Abs. Top) %</th>\n",
              "      <th>Impr. (Top) %</th>\n",
              "      <th>Conversions</th>\n",
              "      <th>View-through conv.</th>\n",
              "      <th>Cost / conv.</th>\n",
              "      <th>Conv. rate</th>\n",
              "      <th>Avg. CPM</th>\n",
              "    </tr>\n",
              "  </thead>\n",
              "  <tbody>\n",
              "    <tr>\n",
              "      <th>6</th>\n",
              "      <td>quantum computation books</td>\n",
              "      <td>Exact</td>\n",
              "      <td>Campaign 001</td>\n",
              "      <td>Group A01 (Exact Match)</td>\n",
              "      <td>1</td>\n",
              "      <td>USD</td>\n",
              "      <td>10</td>\n",
              "      <td>92.0</td>\n",
              "      <td>10.87</td>\n",
              "      <td>1.09</td>\n",
              "      <td>10.92</td>\n",
              "      <td>92.39</td>\n",
              "      <td>97.83</td>\n",
              "      <td>0</td>\n",
              "      <td>0</td>\n",
              "      <td>0</td>\n",
              "      <td>0.0</td>\n",
              "      <td>118.70</td>\n",
              "    </tr>\n",
              "    <tr>\n",
              "      <th>0</th>\n",
              "      <td>good +books on +quantum +computing</td>\n",
              "      <td>Broad</td>\n",
              "      <td>Campaign 001</td>\n",
              "      <td>Group A01</td>\n",
              "      <td>0</td>\n",
              "      <td>USD</td>\n",
              "      <td>1</td>\n",
              "      <td>11.0</td>\n",
              "      <td>9.09</td>\n",
              "      <td>6.99</td>\n",
              "      <td>6.99</td>\n",
              "      <td>100.00</td>\n",
              "      <td>100.00</td>\n",
              "      <td>0</td>\n",
              "      <td>0</td>\n",
              "      <td>0</td>\n",
              "      <td>0.0</td>\n",
              "      <td>635.45</td>\n",
              "    </tr>\n",
              "    <tr>\n",
              "      <th>8</th>\n",
              "      <td>nielsen +chuang</td>\n",
              "      <td>Broad</td>\n",
              "      <td>Campaign 001</td>\n",
              "      <td>Group A01</td>\n",
              "      <td>1</td>\n",
              "      <td>USD</td>\n",
              "      <td>6</td>\n",
              "      <td>76.0</td>\n",
              "      <td>7.89</td>\n",
              "      <td>0.85</td>\n",
              "      <td>5.08</td>\n",
              "      <td>76.32</td>\n",
              "      <td>81.58</td>\n",
              "      <td>0</td>\n",
              "      <td>0</td>\n",
              "      <td>0</td>\n",
              "      <td>0.0</td>\n",
              "      <td>66.84</td>\n",
              "    </tr>\n",
              "    <tr>\n",
              "      <th>5</th>\n",
              "      <td>books about +quantum +computing</td>\n",
              "      <td>Broad</td>\n",
              "      <td>Campaign 001</td>\n",
              "      <td>Group A01</td>\n",
              "      <td>1</td>\n",
              "      <td>USD</td>\n",
              "      <td>25</td>\n",
              "      <td>332.0</td>\n",
              "      <td>7.53</td>\n",
              "      <td>2.11</td>\n",
              "      <td>52.68</td>\n",
              "      <td>92.17</td>\n",
              "      <td>92.17</td>\n",
              "      <td>0</td>\n",
              "      <td>0</td>\n",
              "      <td>0</td>\n",
              "      <td>0.0</td>\n",
              "      <td>158.67</td>\n",
              "    </tr>\n",
              "    <tr>\n",
              "      <th>14</th>\n",
              "      <td>best +books on +quantum +computing</td>\n",
              "      <td>Broad</td>\n",
              "      <td>Campaign 001</td>\n",
              "      <td>Group A01</td>\n",
              "      <td>1</td>\n",
              "      <td>USD</td>\n",
              "      <td>11</td>\n",
              "      <td>165.0</td>\n",
              "      <td>6.67</td>\n",
              "      <td>7.91</td>\n",
              "      <td>86.97</td>\n",
              "      <td>94.55</td>\n",
              "      <td>94.55</td>\n",
              "      <td>0</td>\n",
              "      <td>0</td>\n",
              "      <td>0</td>\n",
              "      <td>0.0</td>\n",
              "      <td>527.09</td>\n",
              "    </tr>\n",
              "    <tr>\n",
              "      <th>3</th>\n",
              "      <td>quantum +computation +books</td>\n",
              "      <td>Broad</td>\n",
              "      <td>Campaign 001</td>\n",
              "      <td>Group A01</td>\n",
              "      <td>1</td>\n",
              "      <td>USD</td>\n",
              "      <td>36</td>\n",
              "      <td>679.0</td>\n",
              "      <td>5.30</td>\n",
              "      <td>3.64</td>\n",
              "      <td>130.99</td>\n",
              "      <td>90.13</td>\n",
              "      <td>91.61</td>\n",
              "      <td>0</td>\n",
              "      <td>0</td>\n",
              "      <td>0</td>\n",
              "      <td>0.0</td>\n",
              "      <td>192.92</td>\n",
              "    </tr>\n",
              "    <tr>\n",
              "      <th>7</th>\n",
              "      <td>quantum computing books</td>\n",
              "      <td>Exact</td>\n",
              "      <td>Campaign 001</td>\n",
              "      <td>Group A01 (Exact Match)</td>\n",
              "      <td>1</td>\n",
              "      <td>USD</td>\n",
              "      <td>20</td>\n",
              "      <td>420.0</td>\n",
              "      <td>4.76</td>\n",
              "      <td>0.97</td>\n",
              "      <td>19.46</td>\n",
              "      <td>93.57</td>\n",
              "      <td>96.43</td>\n",
              "      <td>0</td>\n",
              "      <td>0</td>\n",
              "      <td>0</td>\n",
              "      <td>0.0</td>\n",
              "      <td>46.33</td>\n",
              "    </tr>\n",
              "    <tr>\n",
              "      <th>12</th>\n",
              "      <td>quantum +computing +textbook</td>\n",
              "      <td>Broad</td>\n",
              "      <td>Campaign 001</td>\n",
              "      <td>Group A01</td>\n",
              "      <td>1</td>\n",
              "      <td>USD</td>\n",
              "      <td>13</td>\n",
              "      <td>291.0</td>\n",
              "      <td>4.47</td>\n",
              "      <td>2.85</td>\n",
              "      <td>37.01</td>\n",
              "      <td>89.00</td>\n",
              "      <td>89.69</td>\n",
              "      <td>0</td>\n",
              "      <td>0</td>\n",
              "      <td>0</td>\n",
              "      <td>0.0</td>\n",
              "      <td>127.18</td>\n",
              "    </tr>\n",
              "    <tr>\n",
              "      <th>2</th>\n",
              "      <td>quantum +computing +books</td>\n",
              "      <td>Broad</td>\n",
              "      <td>Campaign 001</td>\n",
              "      <td>Group A01</td>\n",
              "      <td>1</td>\n",
              "      <td>USD</td>\n",
              "      <td>48</td>\n",
              "      <td>1117.0</td>\n",
              "      <td>4.30</td>\n",
              "      <td>2.10</td>\n",
              "      <td>100.90</td>\n",
              "      <td>90.60</td>\n",
              "      <td>92.12</td>\n",
              "      <td>0</td>\n",
              "      <td>0</td>\n",
              "      <td>0</td>\n",
              "      <td>0.0</td>\n",
              "      <td>90.33</td>\n",
              "    </tr>\n",
              "    <tr>\n",
              "      <th>11</th>\n",
              "      <td>nielsen and +chuang</td>\n",
              "      <td>Broad</td>\n",
              "      <td>Campaign 001</td>\n",
              "      <td>Group A01</td>\n",
              "      <td>0</td>\n",
              "      <td>USD</td>\n",
              "      <td>28</td>\n",
              "      <td>667.0</td>\n",
              "      <td>4.20</td>\n",
              "      <td>7.59</td>\n",
              "      <td>212.52</td>\n",
              "      <td>97.75</td>\n",
              "      <td>98.50</td>\n",
              "      <td>0</td>\n",
              "      <td>0</td>\n",
              "      <td>0</td>\n",
              "      <td>0.0</td>\n",
              "      <td>318.62</td>\n",
              "    </tr>\n",
              "    <tr>\n",
              "      <th>10</th>\n",
              "      <td>quantum +computation and +quantum +information</td>\n",
              "      <td>Broad</td>\n",
              "      <td>Campaign 001</td>\n",
              "      <td>Group A01</td>\n",
              "      <td>0</td>\n",
              "      <td>USD</td>\n",
              "      <td>86</td>\n",
              "      <td>2110.0</td>\n",
              "      <td>4.08</td>\n",
              "      <td>7.51</td>\n",
              "      <td>645.47</td>\n",
              "      <td>95.36</td>\n",
              "      <td>96.07</td>\n",
              "      <td>0</td>\n",
              "      <td>0</td>\n",
              "      <td>0</td>\n",
              "      <td>0.0</td>\n",
              "      <td>305.91</td>\n",
              "    </tr>\n",
              "    <tr>\n",
              "      <th>15</th>\n",
              "      <td>books +quantum +computing</td>\n",
              "      <td>Broad</td>\n",
              "      <td>Campaign 001</td>\n",
              "      <td>Group A01</td>\n",
              "      <td>1</td>\n",
              "      <td>USD</td>\n",
              "      <td>3</td>\n",
              "      <td>83.0</td>\n",
              "      <td>3.61</td>\n",
              "      <td>0.98</td>\n",
              "      <td>2.94</td>\n",
              "      <td>85.54</td>\n",
              "      <td>89.16</td>\n",
              "      <td>0</td>\n",
              "      <td>0</td>\n",
              "      <td>0</td>\n",
              "      <td>0.0</td>\n",
              "      <td>35.42</td>\n",
              "    </tr>\n",
              "    <tr>\n",
              "      <th>4</th>\n",
              "      <td>quantum +computing a +gentle +introduction</td>\n",
              "      <td>Broad</td>\n",
              "      <td>Campaign 001</td>\n",
              "      <td>Group A01</td>\n",
              "      <td>1</td>\n",
              "      <td>USD</td>\n",
              "      <td>19</td>\n",
              "      <td>593.0</td>\n",
              "      <td>3.20</td>\n",
              "      <td>8.06</td>\n",
              "      <td>153.11</td>\n",
              "      <td>95.95</td>\n",
              "      <td>96.63</td>\n",
              "      <td>0</td>\n",
              "      <td>0</td>\n",
              "      <td>0</td>\n",
              "      <td>0.0</td>\n",
              "      <td>258.20</td>\n",
              "    </tr>\n",
              "    <tr>\n",
              "      <th>19</th>\n",
              "      <td>best books on quantum computing</td>\n",
              "      <td>Exact</td>\n",
              "      <td>Campaign 001</td>\n",
              "      <td>Group A01 (Exact Match)</td>\n",
              "      <td>1</td>\n",
              "      <td>USD</td>\n",
              "      <td>3</td>\n",
              "      <td>94.0</td>\n",
              "      <td>3.19</td>\n",
              "      <td>7.76</td>\n",
              "      <td>23.29</td>\n",
              "      <td>85.11</td>\n",
              "      <td>87.23</td>\n",
              "      <td>0</td>\n",
              "      <td>0</td>\n",
              "      <td>0</td>\n",
              "      <td>0.0</td>\n",
              "      <td>247.77</td>\n",
              "    </tr>\n",
              "    <tr>\n",
              "      <th>16</th>\n",
              "      <td>quantum supremacy</td>\n",
              "      <td>Broad</td>\n",
              "      <td>Campaign 001</td>\n",
              "      <td>Group A01</td>\n",
              "      <td>1</td>\n",
              "      <td>USD</td>\n",
              "      <td>87</td>\n",
              "      <td>2855.0</td>\n",
              "      <td>3.05</td>\n",
              "      <td>0.93</td>\n",
              "      <td>80.64</td>\n",
              "      <td>58.91</td>\n",
              "      <td>78.16</td>\n",
              "      <td>0</td>\n",
              "      <td>0</td>\n",
              "      <td>0</td>\n",
              "      <td>0.0</td>\n",
              "      <td>28.25</td>\n",
              "    </tr>\n",
              "    <tr>\n",
              "      <th>1</th>\n",
              "      <td>quantum +computation +quantum +information</td>\n",
              "      <td>Broad</td>\n",
              "      <td>Campaign 001</td>\n",
              "      <td>Group A01</td>\n",
              "      <td>1</td>\n",
              "      <td>USD</td>\n",
              "      <td>2</td>\n",
              "      <td>66.0</td>\n",
              "      <td>3.03</td>\n",
              "      <td>0.96</td>\n",
              "      <td>1.91</td>\n",
              "      <td>51.52</td>\n",
              "      <td>54.55</td>\n",
              "      <td>0</td>\n",
              "      <td>0</td>\n",
              "      <td>0</td>\n",
              "      <td>0.0</td>\n",
              "      <td>28.94</td>\n",
              "    </tr>\n",
              "    <tr>\n",
              "      <th>20</th>\n",
              "      <td>quantum computing textbook</td>\n",
              "      <td>Exact</td>\n",
              "      <td>Campaign 001</td>\n",
              "      <td>Group A01 (Exact Match)</td>\n",
              "      <td>1</td>\n",
              "      <td>USD</td>\n",
              "      <td>1</td>\n",
              "      <td>34.0</td>\n",
              "      <td>2.94</td>\n",
              "      <td>2.41</td>\n",
              "      <td>2.41</td>\n",
              "      <td>85.29</td>\n",
              "      <td>85.29</td>\n",
              "      <td>0</td>\n",
              "      <td>0</td>\n",
              "      <td>0</td>\n",
              "      <td>0.0</td>\n",
              "      <td>70.88</td>\n",
              "    </tr>\n",
              "    <tr>\n",
              "      <th>9</th>\n",
              "      <td>quantum +information +book</td>\n",
              "      <td>Broad</td>\n",
              "      <td>Campaign 001</td>\n",
              "      <td>Group A01</td>\n",
              "      <td>1</td>\n",
              "      <td>USD</td>\n",
              "      <td>7</td>\n",
              "      <td>240.0</td>\n",
              "      <td>2.92</td>\n",
              "      <td>2.80</td>\n",
              "      <td>19.60</td>\n",
              "      <td>89.58</td>\n",
              "      <td>90.42</td>\n",
              "      <td>0</td>\n",
              "      <td>0</td>\n",
              "      <td>0</td>\n",
              "      <td>0.0</td>\n",
              "      <td>81.67</td>\n",
              "    </tr>\n",
              "    <tr>\n",
              "      <th>13</th>\n",
              "      <td>quantum +computer +science</td>\n",
              "      <td>Broad</td>\n",
              "      <td>Campaign 001</td>\n",
              "      <td>Group A01</td>\n",
              "      <td>1</td>\n",
              "      <td>USD</td>\n",
              "      <td>95</td>\n",
              "      <td>3560.0</td>\n",
              "      <td>2.67</td>\n",
              "      <td>9.39</td>\n",
              "      <td>892.03</td>\n",
              "      <td>91.12</td>\n",
              "      <td>92.33</td>\n",
              "      <td>0</td>\n",
              "      <td>0</td>\n",
              "      <td>0</td>\n",
              "      <td>0.0</td>\n",
              "      <td>250.57</td>\n",
              "    </tr>\n",
              "    <tr>\n",
              "      <th>17</th>\n",
              "      <td>books about quantum computing</td>\n",
              "      <td>Exact</td>\n",
              "      <td>Campaign 001</td>\n",
              "      <td>Group A01 (Exact Match)</td>\n",
              "      <td>1</td>\n",
              "      <td>USD</td>\n",
              "      <td>0</td>\n",
              "      <td>30.0</td>\n",
              "      <td>0.00</td>\n",
              "      <td>0.00</td>\n",
              "      <td>0.00</td>\n",
              "      <td>100.00</td>\n",
              "      <td>100.00</td>\n",
              "      <td>0</td>\n",
              "      <td>0</td>\n",
              "      <td>0</td>\n",
              "      <td>0.0</td>\n",
              "      <td>0.00</td>\n",
              "    </tr>\n",
              "    <tr>\n",
              "      <th>18</th>\n",
              "      <td>quantum information book</td>\n",
              "      <td>Exact</td>\n",
              "      <td>Campaign 001</td>\n",
              "      <td>Group A01 (Exact Match)</td>\n",
              "      <td>1</td>\n",
              "      <td>USD</td>\n",
              "      <td>0</td>\n",
              "      <td>11.0</td>\n",
              "      <td>0.00</td>\n",
              "      <td>0.00</td>\n",
              "      <td>0.00</td>\n",
              "      <td>81.82</td>\n",
              "      <td>81.82</td>\n",
              "      <td>0</td>\n",
              "      <td>0</td>\n",
              "      <td>0</td>\n",
              "      <td>0.0</td>\n",
              "      <td>0.00</td>\n",
              "    </tr>\n",
              "    <tr>\n",
              "      <th>21</th>\n",
              "      <td>good books on quantum computing</td>\n",
              "      <td>Exact</td>\n",
              "      <td>Campaign 001</td>\n",
              "      <td>Group A01 (Exact Match)</td>\n",
              "      <td>1</td>\n",
              "      <td>USD</td>\n",
              "      <td>0</td>\n",
              "      <td>0.0</td>\n",
              "      <td>0.00</td>\n",
              "      <td>0.00</td>\n",
              "      <td>0.00</td>\n",
              "      <td>0.00</td>\n",
              "      <td>0.00</td>\n",
              "      <td>0</td>\n",
              "      <td>0</td>\n",
              "      <td>0</td>\n",
              "      <td>0.0</td>\n",
              "      <td>0.00</td>\n",
              "    </tr>\n",
              "  </tbody>\n",
              "</table>\n",
              "</div>"
            ],
            "text/plain": [
              "                                    Search keyword  ... Avg. CPM\n",
              "6                        quantum computation books  ...   118.70\n",
              "0               good +books on +quantum +computing  ...   635.45\n",
              "8                                  nielsen +chuang  ...    66.84\n",
              "5                  books about +quantum +computing  ...   158.67\n",
              "14              best +books on +quantum +computing  ...   527.09\n",
              "3                      quantum +computation +books  ...   192.92\n",
              "7                          quantum computing books  ...    46.33\n",
              "12                    quantum +computing +textbook  ...   127.18\n",
              "2                        quantum +computing +books  ...    90.33\n",
              "11                             nielsen and +chuang  ...   318.62\n",
              "10  quantum +computation and +quantum +information  ...   305.91\n",
              "15                       books +quantum +computing  ...    35.42\n",
              "4       quantum +computing a +gentle +introduction  ...   258.20\n",
              "19                 best books on quantum computing  ...   247.77\n",
              "16                               quantum supremacy  ...    28.25\n",
              "1       quantum +computation +quantum +information  ...    28.94\n",
              "20                      quantum computing textbook  ...    70.88\n",
              "9                       quantum +information +book  ...    81.67\n",
              "13                      quantum +computer +science  ...   250.57\n",
              "17                   books about quantum computing  ...     0.00\n",
              "18                        quantum information book  ...     0.00\n",
              "21                 good books on quantum computing  ...     0.00\n",
              "\n",
              "[22 rows x 18 columns]"
            ]
          },
          "metadata": {
            "tags": []
          },
          "execution_count": 124
        }
      ]
    },
    {
      "cell_type": "markdown",
      "metadata": {
        "id": "dqmGg4_uhpbg",
        "colab_type": "text"
      },
      "source": [
        "A great feature of `pandas` is the `.describe()` method\n",
        "\n",
        "This method gives you a lot of insight on your data\n",
        "\n",
        "**(Only numerical data)**\n",
        "\n",
        "*   Count\n",
        "*   Mean\n",
        "*   Standard Deviation\n",
        "*   Minimum\n",
        "*   25th Percentile\n",
        "*   50th Percentile\n",
        "*   75th Percentile\n",
        "*   Maximum\n",
        "\n",
        "---\n",
        "\n",
        "Try it out on the dataframe\n"
      ]
    },
    {
      "cell_type": "code",
      "metadata": {
        "id": "RLE1eHryQvF3",
        "colab_type": "code",
        "outputId": "572d0990-f786-437b-cc4a-f61d12028091",
        "colab": {
          "base_uri": "https://localhost:8080/",
          "height": 297
        }
      },
      "source": [
        "ad_data.describe()"
      ],
      "execution_count": 0,
      "outputs": [
        {
          "output_type": "execute_result",
          "data": {
            "text/html": [
              "<div>\n",
              "<style scoped>\n",
              "    .dataframe tbody tr th:only-of-type {\n",
              "        vertical-align: middle;\n",
              "    }\n",
              "\n",
              "    .dataframe tbody tr th {\n",
              "        vertical-align: top;\n",
              "    }\n",
              "\n",
              "    .dataframe thead th {\n",
              "        text-align: right;\n",
              "    }\n",
              "</style>\n",
              "<table border=\"1\" class=\"dataframe\">\n",
              "  <thead>\n",
              "    <tr style=\"text-align: right;\">\n",
              "      <th></th>\n",
              "      <th>Keyword max CPC</th>\n",
              "      <th>Clicks</th>\n",
              "      <th>Impressions</th>\n",
              "      <th>CTR</th>\n",
              "      <th>Avg. CPC</th>\n",
              "      <th>Cost</th>\n",
              "      <th>Impr. (Abs. Top) %</th>\n",
              "      <th>Impr. (Top) %</th>\n",
              "      <th>Conversions</th>\n",
              "      <th>View-through conv.</th>\n",
              "      <th>Cost / conv.</th>\n",
              "      <th>Conv. rate</th>\n",
              "      <th>Avg. CPM</th>\n",
              "    </tr>\n",
              "  </thead>\n",
              "  <tbody>\n",
              "    <tr>\n",
              "      <th>count</th>\n",
              "      <td>22.000000</td>\n",
              "      <td>22.000000</td>\n",
              "      <td>22.000000</td>\n",
              "      <td>22.000000</td>\n",
              "      <td>22.000000</td>\n",
              "      <td>22.000000</td>\n",
              "      <td>22.000000</td>\n",
              "      <td>22.000000</td>\n",
              "      <td>22.0</td>\n",
              "      <td>22.0</td>\n",
              "      <td>22.0</td>\n",
              "      <td>22.0</td>\n",
              "      <td>22.000000</td>\n",
              "    </tr>\n",
              "    <tr>\n",
              "      <th>mean</th>\n",
              "      <td>0.863636</td>\n",
              "      <td>22.772727</td>\n",
              "      <td>614.818182</td>\n",
              "      <td>4.262273</td>\n",
              "      <td>3.495455</td>\n",
              "      <td>112.950909</td>\n",
              "      <td>83.485455</td>\n",
              "      <td>85.733636</td>\n",
              "      <td>0.0</td>\n",
              "      <td>0.0</td>\n",
              "      <td>0.0</td>\n",
              "      <td>0.0</td>\n",
              "      <td>163.170000</td>\n",
              "    </tr>\n",
              "    <tr>\n",
              "      <th>std</th>\n",
              "      <td>0.351250</td>\n",
              "      <td>29.960183</td>\n",
              "      <td>974.892211</td>\n",
              "      <td>2.797014</td>\n",
              "      <td>3.232793</td>\n",
              "      <td>223.324500</td>\n",
              "      <td>22.151585</td>\n",
              "      <td>21.556927</td>\n",
              "      <td>0.0</td>\n",
              "      <td>0.0</td>\n",
              "      <td>0.0</td>\n",
              "      <td>0.0</td>\n",
              "      <td>169.571068</td>\n",
              "    </tr>\n",
              "    <tr>\n",
              "      <th>min</th>\n",
              "      <td>0.000000</td>\n",
              "      <td>0.000000</td>\n",
              "      <td>0.000000</td>\n",
              "      <td>0.000000</td>\n",
              "      <td>0.000000</td>\n",
              "      <td>0.000000</td>\n",
              "      <td>0.000000</td>\n",
              "      <td>0.000000</td>\n",
              "      <td>0.0</td>\n",
              "      <td>0.0</td>\n",
              "      <td>0.0</td>\n",
              "      <td>0.0</td>\n",
              "      <td>0.000000</td>\n",
              "    </tr>\n",
              "    <tr>\n",
              "      <th>25%</th>\n",
              "      <td>1.000000</td>\n",
              "      <td>2.250000</td>\n",
              "      <td>68.500000</td>\n",
              "      <td>2.962500</td>\n",
              "      <td>0.962500</td>\n",
              "      <td>3.475000</td>\n",
              "      <td>85.155000</td>\n",
              "      <td>85.775000</td>\n",
              "      <td>0.0</td>\n",
              "      <td>0.0</td>\n",
              "      <td>0.0</td>\n",
              "      <td>0.0</td>\n",
              "      <td>38.147500</td>\n",
              "    </tr>\n",
              "    <tr>\n",
              "      <th>50%</th>\n",
              "      <td>1.000000</td>\n",
              "      <td>10.500000</td>\n",
              "      <td>202.500000</td>\n",
              "      <td>3.845000</td>\n",
              "      <td>2.260000</td>\n",
              "      <td>21.445000</td>\n",
              "      <td>90.365000</td>\n",
              "      <td>91.865000</td>\n",
              "      <td>0.0</td>\n",
              "      <td>0.0</td>\n",
              "      <td>0.0</td>\n",
              "      <td>0.0</td>\n",
              "      <td>104.515000</td>\n",
              "    </tr>\n",
              "    <tr>\n",
              "      <th>75%</th>\n",
              "      <td>1.000000</td>\n",
              "      <td>27.250000</td>\n",
              "      <td>648.500000</td>\n",
              "      <td>5.165000</td>\n",
              "      <td>7.380000</td>\n",
              "      <td>97.417500</td>\n",
              "      <td>94.305000</td>\n",
              "      <td>96.340000</td>\n",
              "      <td>0.0</td>\n",
              "      <td>0.0</td>\n",
              "      <td>0.0</td>\n",
              "      <td>0.0</td>\n",
              "      <td>249.870000</td>\n",
              "    </tr>\n",
              "    <tr>\n",
              "      <th>max</th>\n",
              "      <td>1.000000</td>\n",
              "      <td>95.000000</td>\n",
              "      <td>3560.000000</td>\n",
              "      <td>10.870000</td>\n",
              "      <td>9.390000</td>\n",
              "      <td>892.030000</td>\n",
              "      <td>100.000000</td>\n",
              "      <td>100.000000</td>\n",
              "      <td>0.0</td>\n",
              "      <td>0.0</td>\n",
              "      <td>0.0</td>\n",
              "      <td>0.0</td>\n",
              "      <td>635.450000</td>\n",
              "    </tr>\n",
              "  </tbody>\n",
              "</table>\n",
              "</div>"
            ],
            "text/plain": [
              "       Keyword max CPC     Clicks  ...  Conv. rate    Avg. CPM\n",
              "count        22.000000  22.000000  ...        22.0   22.000000\n",
              "mean          0.863636  22.772727  ...         0.0  163.170000\n",
              "std           0.351250  29.960183  ...         0.0  169.571068\n",
              "min           0.000000   0.000000  ...         0.0    0.000000\n",
              "25%           1.000000   2.250000  ...         0.0   38.147500\n",
              "50%           1.000000  10.500000  ...         0.0  104.515000\n",
              "75%           1.000000  27.250000  ...         0.0  249.870000\n",
              "max           1.000000  95.000000  ...         0.0  635.450000\n",
              "\n",
              "[8 rows x 13 columns]"
            ]
          },
          "metadata": {
            "tags": []
          },
          "execution_count": 125
        }
      ]
    },
    {
      "cell_type": "markdown",
      "metadata": {
        "id": "NLTxDLhF3RiT",
        "colab_type": "text"
      },
      "source": [
        "## Extracting Text from Resume PDFs with Python"
      ]
    },
    {
      "cell_type": "markdown",
      "metadata": {
        "id": "TKzAA3iU3VAj",
        "colab_type": "text"
      },
      "source": [
        "`textract` is a python library which can read text from many types of files like `.pdf`, `.docx` ... \n",
        "\n",
        "Here, we will use `textract` to extract text from a resume.\n",
        "\n",
        "\n",
        "---\n",
        "\n",
        "\n",
        "\n",
        "If you get an error when trying to `import textract` please try to copy and past the following into a new cell and run it to install the libraries.\n",
        "```\n",
        "!apt-get install python-dev libxml2-dev libxslt1-dev antiword unrtf poppler-utils pstotext tesseract-ocr flac ffmpeg lame libmad0 libsox-fmt-mp3 sox libjpeg-dev swig\n",
        "!pip install textract\n",
        "```\n"
      ]
    },
    {
      "cell_type": "code",
      "metadata": {
        "id": "j7ILewUmkBCQ",
        "colab_type": "code",
        "outputId": "d6d5895d-8c9f-434d-c8a6-e117538b3b82",
        "colab": {
          "base_uri": "https://localhost:8080/"
        }
      },
      "source": [
        "# It can take up to 2 minutes to complete\n",
        "!apt-get install python-dev libxml2-dev libxslt1-dev antiword unrtf poppler-utils pstotext tesseract-ocr flac ffmpeg lame libmad0 libsox-fmt-mp3 sox libjpeg-dev swig\n",
        "!pip install textract"
      ],
      "execution_count": 0,
      "outputs": [
        {
          "output_type": "stream",
          "text": [
            "Reading package lists... Done\n",
            "Building dependency tree       \n",
            "Reading state information... Done\n",
            "libjpeg-dev is already the newest version (8c-2ubuntu8).\n",
            "libjpeg-dev set to manually installed.\n",
            "python-dev is already the newest version (2.7.15~rc1-1).\n",
            "libxml2-dev is already the newest version (2.9.4+dfsg1-6.1ubuntu1.2).\n",
            "ffmpeg is already the newest version (7:3.4.6-0ubuntu0.18.04.1).\n",
            "The following package was automatically installed and is no longer required:\n",
            "  libnvidia-common-430\n",
            "Use 'apt autoremove' to remove it.\n",
            "The following additional packages will be installed:\n",
            "  fonts-droid-fallback fonts-noto-mono ghostscript gsfonts libcupsfilters1\n",
            "  libcupsimage2 libgs9 libgs9-common libid3tag0 libijs-0.35 libjbig2dec0\n",
            "  libmagic-mgc libmagic1 libopencore-amrnb0 libopencore-amrwb0 libsox-fmt-alsa\n",
            "  libsox-fmt-base libsox3 poppler-data swig3.0 tesseract-ocr-eng\n",
            "  tesseract-ocr-osd\n",
            "Suggested packages:\n",
            "  fonts-noto ghostscript-x lame-doc file libsox-fmt-all fonts-japanese-mincho\n",
            "  | fonts-ipafont-mincho fonts-japanese-gothic | fonts-ipafont-gothic\n",
            "  fonts-arphic-ukai fonts-arphic-uming fonts-nanum swig-doc swig-examples\n",
            "  swig3.0-examples swig3.0-doc\n",
            "The following NEW packages will be installed:\n",
            "  antiword flac fonts-droid-fallback fonts-noto-mono ghostscript gsfonts lame\n",
            "  libcupsfilters1 libcupsimage2 libgs9 libgs9-common libid3tag0 libijs-0.35\n",
            "  libjbig2dec0 libmad0 libmagic-mgc libmagic1 libopencore-amrnb0\n",
            "  libopencore-amrwb0 libsox-fmt-alsa libsox-fmt-base libsox-fmt-mp3 libsox3\n",
            "  libxslt1-dev poppler-data poppler-utils pstotext sox swig swig3.0\n",
            "  tesseract-ocr tesseract-ocr-eng tesseract-ocr-osd unrtf\n",
            "0 upgraded, 34 newly installed, 0 to remove and 16 not upgraded.\n",
            "Need to get 21.8 MB of archives.\n",
            "After this operation, 83.1 MB of additional disk space will be used.\n",
            "Get:1 http://archive.ubuntu.com/ubuntu bionic/main amd64 fonts-droid-fallback all 1:6.0.1r16-1.1 [1,805 kB]\n",
            "Get:2 http://archive.ubuntu.com/ubuntu bionic/universe amd64 libopencore-amrnb0 amd64 0.1.3-2.1 [92.0 kB]\n",
            "Get:3 http://archive.ubuntu.com/ubuntu bionic/universe amd64 libopencore-amrwb0 amd64 0.1.3-2.1 [45.8 kB]\n",
            "Get:4 http://archive.ubuntu.com/ubuntu bionic/main amd64 poppler-data all 0.4.8-2 [1,479 kB]\n",
            "Get:5 http://archive.ubuntu.com/ubuntu bionic-updates/main amd64 libmagic-mgc amd64 1:5.32-2ubuntu0.3 [184 kB]\n",
            "Get:6 http://archive.ubuntu.com/ubuntu bionic-updates/main amd64 libmagic1 amd64 1:5.32-2ubuntu0.3 [68.7 kB]\n",
            "Get:7 http://archive.ubuntu.com/ubuntu bionic/universe amd64 antiword amd64 0.37-11build1 [128 kB]\n",
            "Get:8 http://archive.ubuntu.com/ubuntu bionic/universe amd64 flac amd64 1.3.2-1 [144 kB]\n",
            "Get:9 http://archive.ubuntu.com/ubuntu bionic/main amd64 fonts-noto-mono all 20171026-2 [75.5 kB]\n",
            "Get:10 http://archive.ubuntu.com/ubuntu bionic-updates/main amd64 libcupsimage2 amd64 2.2.7-1ubuntu2.7 [18.6 kB]\n",
            "Get:11 http://archive.ubuntu.com/ubuntu bionic/main amd64 libijs-0.35 amd64 0.35-13 [15.5 kB]\n",
            "Get:12 http://archive.ubuntu.com/ubuntu bionic/main amd64 libjbig2dec0 amd64 0.13-6 [55.9 kB]\n",
            "Get:13 http://archive.ubuntu.com/ubuntu bionic-updates/main amd64 libgs9-common all 9.26~dfsg+0-0ubuntu0.18.04.12 [5,092 kB]\n",
            "Get:14 http://archive.ubuntu.com/ubuntu bionic-updates/main amd64 libgs9 amd64 9.26~dfsg+0-0ubuntu0.18.04.12 [2,264 kB]\n",
            "Get:15 http://archive.ubuntu.com/ubuntu bionic-updates/main amd64 ghostscript amd64 9.26~dfsg+0-0ubuntu0.18.04.12 [50.9 kB]\n",
            "Get:16 http://archive.ubuntu.com/ubuntu bionic/main amd64 gsfonts all 1:8.11+urwcyr1.0.7~pre44-4.4 [3,120 kB]\n",
            "Get:17 http://archive.ubuntu.com/ubuntu bionic/universe amd64 lame amd64 3.100-2 [47.8 kB]\n",
            "Get:18 http://archive.ubuntu.com/ubuntu bionic-updates/main amd64 libcupsfilters1 amd64 1.20.2-0ubuntu3.1 [108 kB]\n",
            "Get:19 http://archive.ubuntu.com/ubuntu bionic/universe amd64 libid3tag0 amd64 0.15.1b-13 [31.2 kB]\n",
            "Get:20 http://archive.ubuntu.com/ubuntu bionic-updates/universe amd64 libmad0 amd64 0.15.1b-9ubuntu18.04.1 [64.6 kB]\n",
            "Get:21 http://archive.ubuntu.com/ubuntu bionic-updates/universe amd64 libsox3 amd64 14.4.2-3ubuntu0.18.04.1 [226 kB]\n",
            "Get:22 http://archive.ubuntu.com/ubuntu bionic-updates/universe amd64 libsox-fmt-alsa amd64 14.4.2-3ubuntu0.18.04.1 [10.6 kB]\n",
            "Get:23 http://archive.ubuntu.com/ubuntu bionic-updates/universe amd64 libsox-fmt-base amd64 14.4.2-3ubuntu0.18.04.1 [32.1 kB]\n",
            "Get:24 http://archive.ubuntu.com/ubuntu bionic-updates/universe amd64 libsox-fmt-mp3 amd64 14.4.2-3ubuntu0.18.04.1 [15.9 kB]\n",
            "Get:25 http://archive.ubuntu.com/ubuntu bionic-updates/main amd64 libxslt1-dev amd64 1.1.29-5ubuntu0.2 [407 kB]\n",
            "Get:26 http://archive.ubuntu.com/ubuntu bionic-updates/main amd64 poppler-utils amd64 0.62.0-2ubuntu2.10 [154 kB]\n",
            "Get:27 http://archive.ubuntu.com/ubuntu bionic/universe amd64 pstotext amd64 1.9-6build1 [32.4 kB]\n",
            "Get:28 http://archive.ubuntu.com/ubuntu bionic-updates/universe amd64 sox amd64 14.4.2-3ubuntu0.18.04.1 [101 kB]\n",
            "Get:29 http://archive.ubuntu.com/ubuntu bionic/universe amd64 swig3.0 amd64 3.0.12-1 [1,094 kB]\n",
            "Get:30 http://archive.ubuntu.com/ubuntu bionic/universe amd64 swig amd64 3.0.12-1 [6,460 B]\n",
            "Get:31 http://archive.ubuntu.com/ubuntu bionic/universe amd64 tesseract-ocr-eng all 4.00~git24-0e00fe6-1.2 [1,588 kB]\n",
            "Get:32 http://archive.ubuntu.com/ubuntu bionic/universe amd64 tesseract-ocr-osd all 4.00~git24-0e00fe6-1.2 [2,989 kB]\n",
            "Get:33 http://archive.ubuntu.com/ubuntu bionic/universe amd64 tesseract-ocr amd64 4.00~git2288-10f4998a-2 [218 kB]\n",
            "Get:34 http://archive.ubuntu.com/ubuntu bionic/universe amd64 unrtf amd64 0.21.9-clean-3 [43.3 kB]\n",
            "Fetched 21.8 MB in 0s (44.3 MB/s)\n",
            "Extracting templates from packages: 100%\n",
            "Selecting previously unselected package fonts-droid-fallback.\n",
            "(Reading database ... 134485 files and directories currently installed.)\n",
            "Preparing to unpack .../00-fonts-droid-fallback_1%3a6.0.1r16-1.1_all.deb ...\n",
            "Unpacking fonts-droid-fallback (1:6.0.1r16-1.1) ...\n",
            "Selecting previously unselected package libopencore-amrnb0:amd64.\n",
            "Preparing to unpack .../01-libopencore-amrnb0_0.1.3-2.1_amd64.deb ...\n",
            "Unpacking libopencore-amrnb0:amd64 (0.1.3-2.1) ...\n",
            "Selecting previously unselected package libopencore-amrwb0:amd64.\n",
            "Preparing to unpack .../02-libopencore-amrwb0_0.1.3-2.1_amd64.deb ...\n",
            "Unpacking libopencore-amrwb0:amd64 (0.1.3-2.1) ...\n",
            "Selecting previously unselected package poppler-data.\n",
            "Preparing to unpack .../03-poppler-data_0.4.8-2_all.deb ...\n",
            "Unpacking poppler-data (0.4.8-2) ...\n",
            "Selecting previously unselected package libmagic-mgc.\n",
            "Preparing to unpack .../04-libmagic-mgc_1%3a5.32-2ubuntu0.3_amd64.deb ...\n",
            "Unpacking libmagic-mgc (1:5.32-2ubuntu0.3) ...\n",
            "Selecting previously unselected package libmagic1:amd64.\n",
            "Preparing to unpack .../05-libmagic1_1%3a5.32-2ubuntu0.3_amd64.deb ...\n",
            "Unpacking libmagic1:amd64 (1:5.32-2ubuntu0.3) ...\n",
            "Selecting previously unselected package antiword.\n",
            "Preparing to unpack .../06-antiword_0.37-11build1_amd64.deb ...\n",
            "Unpacking antiword (0.37-11build1) ...\n",
            "Selecting previously unselected package flac.\n",
            "Preparing to unpack .../07-flac_1.3.2-1_amd64.deb ...\n",
            "Unpacking flac (1.3.2-1) ...\n",
            "Selecting previously unselected package fonts-noto-mono.\n",
            "Preparing to unpack .../08-fonts-noto-mono_20171026-2_all.deb ...\n",
            "Unpacking fonts-noto-mono (20171026-2) ...\n",
            "Selecting previously unselected package libcupsimage2:amd64.\n",
            "Preparing to unpack .../09-libcupsimage2_2.2.7-1ubuntu2.7_amd64.deb ...\n",
            "Unpacking libcupsimage2:amd64 (2.2.7-1ubuntu2.7) ...\n",
            "Selecting previously unselected package libijs-0.35:amd64.\n",
            "Preparing to unpack .../10-libijs-0.35_0.35-13_amd64.deb ...\n",
            "Unpacking libijs-0.35:amd64 (0.35-13) ...\n",
            "Selecting previously unselected package libjbig2dec0:amd64.\n",
            "Preparing to unpack .../11-libjbig2dec0_0.13-6_amd64.deb ...\n",
            "Unpacking libjbig2dec0:amd64 (0.13-6) ...\n",
            "Selecting previously unselected package libgs9-common.\n",
            "Preparing to unpack .../12-libgs9-common_9.26~dfsg+0-0ubuntu0.18.04.12_all.deb ...\n",
            "Unpacking libgs9-common (9.26~dfsg+0-0ubuntu0.18.04.12) ...\n",
            "Selecting previously unselected package libgs9:amd64.\n",
            "Preparing to unpack .../13-libgs9_9.26~dfsg+0-0ubuntu0.18.04.12_amd64.deb ...\n",
            "Unpacking libgs9:amd64 (9.26~dfsg+0-0ubuntu0.18.04.12) ...\n",
            "Selecting previously unselected package ghostscript.\n",
            "Preparing to unpack .../14-ghostscript_9.26~dfsg+0-0ubuntu0.18.04.12_amd64.deb ...\n",
            "Unpacking ghostscript (9.26~dfsg+0-0ubuntu0.18.04.12) ...\n",
            "Selecting previously unselected package gsfonts.\n",
            "Preparing to unpack .../15-gsfonts_1%3a8.11+urwcyr1.0.7~pre44-4.4_all.deb ...\n",
            "Unpacking gsfonts (1:8.11+urwcyr1.0.7~pre44-4.4) ...\n",
            "Selecting previously unselected package lame.\n",
            "Preparing to unpack .../16-lame_3.100-2_amd64.deb ...\n",
            "Unpacking lame (3.100-2) ...\n",
            "Selecting previously unselected package libcupsfilters1:amd64.\n",
            "Preparing to unpack .../17-libcupsfilters1_1.20.2-0ubuntu3.1_amd64.deb ...\n",
            "Unpacking libcupsfilters1:amd64 (1.20.2-0ubuntu3.1) ...\n",
            "Selecting previously unselected package libid3tag0:amd64.\n",
            "Preparing to unpack .../18-libid3tag0_0.15.1b-13_amd64.deb ...\n",
            "Unpacking libid3tag0:amd64 (0.15.1b-13) ...\n",
            "Selecting previously unselected package libmad0:amd64.\n",
            "Preparing to unpack .../19-libmad0_0.15.1b-9ubuntu18.04.1_amd64.deb ...\n",
            "Unpacking libmad0:amd64 (0.15.1b-9ubuntu18.04.1) ...\n",
            "Selecting previously unselected package libsox3:amd64.\n",
            "Preparing to unpack .../20-libsox3_14.4.2-3ubuntu0.18.04.1_amd64.deb ...\n",
            "Unpacking libsox3:amd64 (14.4.2-3ubuntu0.18.04.1) ...\n",
            "Selecting previously unselected package libsox-fmt-alsa:amd64.\n",
            "Preparing to unpack .../21-libsox-fmt-alsa_14.4.2-3ubuntu0.18.04.1_amd64.deb ...\n",
            "Unpacking libsox-fmt-alsa:amd64 (14.4.2-3ubuntu0.18.04.1) ...\n",
            "Selecting previously unselected package libsox-fmt-base:amd64.\n",
            "Preparing to unpack .../22-libsox-fmt-base_14.4.2-3ubuntu0.18.04.1_amd64.deb ...\n",
            "Unpacking libsox-fmt-base:amd64 (14.4.2-3ubuntu0.18.04.1) ...\n",
            "Selecting previously unselected package libsox-fmt-mp3:amd64.\n",
            "Preparing to unpack .../23-libsox-fmt-mp3_14.4.2-3ubuntu0.18.04.1_amd64.deb ...\n",
            "Unpacking libsox-fmt-mp3:amd64 (14.4.2-3ubuntu0.18.04.1) ...\n",
            "Selecting previously unselected package libxslt1-dev:amd64.\n",
            "Preparing to unpack .../24-libxslt1-dev_1.1.29-5ubuntu0.2_amd64.deb ...\n",
            "Unpacking libxslt1-dev:amd64 (1.1.29-5ubuntu0.2) ...\n",
            "Selecting previously unselected package poppler-utils.\n",
            "Preparing to unpack .../25-poppler-utils_0.62.0-2ubuntu2.10_amd64.deb ...\n",
            "Unpacking poppler-utils (0.62.0-2ubuntu2.10) ...\n",
            "Selecting previously unselected package pstotext.\n",
            "Preparing to unpack .../26-pstotext_1.9-6build1_amd64.deb ...\n",
            "Unpacking pstotext (1.9-6build1) ...\n",
            "Selecting previously unselected package sox.\n",
            "Preparing to unpack .../27-sox_14.4.2-3ubuntu0.18.04.1_amd64.deb ...\n",
            "Unpacking sox (14.4.2-3ubuntu0.18.04.1) ...\n",
            "Selecting previously unselected package swig3.0.\n",
            "Preparing to unpack .../28-swig3.0_3.0.12-1_amd64.deb ...\n",
            "Unpacking swig3.0 (3.0.12-1) ...\n",
            "Selecting previously unselected package swig.\n",
            "Preparing to unpack .../29-swig_3.0.12-1_amd64.deb ...\n",
            "Unpacking swig (3.0.12-1) ...\n",
            "Selecting previously unselected package tesseract-ocr-eng.\n",
            "Preparing to unpack .../30-tesseract-ocr-eng_4.00~git24-0e00fe6-1.2_all.deb ...\n",
            "Unpacking tesseract-ocr-eng (4.00~git24-0e00fe6-1.2) ...\n",
            "Selecting previously unselected package tesseract-ocr-osd.\n",
            "Preparing to unpack .../31-tesseract-ocr-osd_4.00~git24-0e00fe6-1.2_all.deb ...\n",
            "Unpacking tesseract-ocr-osd (4.00~git24-0e00fe6-1.2) ...\n",
            "Selecting previously unselected package tesseract-ocr.\n",
            "Preparing to unpack .../32-tesseract-ocr_4.00~git2288-10f4998a-2_amd64.deb ...\n",
            "Unpacking tesseract-ocr (4.00~git2288-10f4998a-2) ...\n",
            "Selecting previously unselected package unrtf.\n",
            "Preparing to unpack .../33-unrtf_0.21.9-clean-3_amd64.deb ...\n",
            "Unpacking unrtf (0.21.9-clean-3) ...\n",
            "Setting up libgs9-common (9.26~dfsg+0-0ubuntu0.18.04.12) ...\n",
            "Setting up fonts-droid-fallback (1:6.0.1r16-1.1) ...\n",
            "Setting up libid3tag0:amd64 (0.15.1b-13) ...\n",
            "Setting up poppler-utils (0.62.0-2ubuntu2.10) ...\n",
            "Setting up swig3.0 (3.0.12-1) ...\n",
            "Setting up gsfonts (1:8.11+urwcyr1.0.7~pre44-4.4) ...\n",
            "Setting up poppler-data (0.4.8-2) ...\n",
            "Setting up unrtf (0.21.9-clean-3) ...\n",
            "Setting up libmagic-mgc (1:5.32-2ubuntu0.3) ...\n",
            "Setting up fonts-noto-mono (20171026-2) ...\n",
            "Setting up libmagic1:amd64 (1:5.32-2ubuntu0.3) ...\n",
            "Setting up libcupsfilters1:amd64 (1.20.2-0ubuntu3.1) ...\n",
            "Setting up flac (1.3.2-1) ...\n",
            "Setting up libcupsimage2:amd64 (2.2.7-1ubuntu2.7) ...\n",
            "Setting up lame (3.100-2) ...\n",
            "Setting up tesseract-ocr-osd (4.00~git24-0e00fe6-1.2) ...\n",
            "Setting up libjbig2dec0:amd64 (0.13-6) ...\n",
            "Setting up tesseract-ocr-eng (4.00~git24-0e00fe6-1.2) ...\n",
            "Setting up libijs-0.35:amd64 (0.35-13) ...\n",
            "Setting up libopencore-amrnb0:amd64 (0.1.3-2.1) ...\n",
            "Setting up tesseract-ocr (4.00~git2288-10f4998a-2) ...\n",
            "Setting up libmad0:amd64 (0.15.1b-9ubuntu18.04.1) ...\n",
            "Setting up libopencore-amrwb0:amd64 (0.1.3-2.1) ...\n",
            "Setting up libgs9:amd64 (9.26~dfsg+0-0ubuntu0.18.04.12) ...\n",
            "Setting up libsox3:amd64 (14.4.2-3ubuntu0.18.04.1) ...\n",
            "Setting up antiword (0.37-11build1) ...\n",
            "Setting up libsox-fmt-mp3:amd64 (14.4.2-3ubuntu0.18.04.1) ...\n",
            "Setting up libxslt1-dev:amd64 (1.1.29-5ubuntu0.2) ...\n",
            "Setting up libsox-fmt-base:amd64 (14.4.2-3ubuntu0.18.04.1) ...\n",
            "Setting up swig (3.0.12-1) ...\n",
            "Setting up libsox-fmt-alsa:amd64 (14.4.2-3ubuntu0.18.04.1) ...\n",
            "Setting up ghostscript (9.26~dfsg+0-0ubuntu0.18.04.12) ...\n",
            "Setting up pstotext (1.9-6build1) ...\n",
            "Setting up sox (14.4.2-3ubuntu0.18.04.1) ...\n",
            "Processing triggers for mime-support (3.60ubuntu1) ...\n",
            "Processing triggers for libc-bin (2.27-3ubuntu1) ...\n",
            "/sbin/ldconfig.real: /usr/local/lib/python3.6/dist-packages/ideep4py/lib/libmkldnn.so.0 is not a symbolic link\n",
            "\n",
            "Processing triggers for man-db (2.8.3-2ubuntu0.1) ...\n",
            "Processing triggers for hicolor-icon-theme (0.17-2) ...\n",
            "Processing triggers for fontconfig (2.12.6-0ubuntu2) ...\n",
            "Collecting textract\n",
            "  Downloading https://files.pythonhosted.org/packages/32/31/ef9451e6e48a1a57e337c5f20d4ef58c1a13d91560d2574c738b1320bb8d/textract-1.6.3-py3-none-any.whl\n",
            "Collecting docx2txt==0.8\n",
            "  Downloading https://files.pythonhosted.org/packages/7d/7d/60ee3f2b16d9bfdfa72e8599470a2c1a5b759cb113c6fe1006be28359327/docx2txt-0.8.tar.gz\n",
            "Collecting python-pptx==0.6.18\n",
            "\u001b[?25l  Downloading https://files.pythonhosted.org/packages/bf/86/eb979f7b0333ec769041aae36df8b9f1bd8bea5bbad44620663890dce561/python-pptx-0.6.18.tar.gz (8.9MB)\n",
            "\u001b[K     |████████████████████████████████| 8.9MB 9.8MB/s \n",
            "\u001b[?25hCollecting extract-msg==0.23.1\n",
            "\u001b[?25l  Downloading https://files.pythonhosted.org/packages/a1/90/84485a914ed90adb5e87df17e626be04162fbba146dfecf34643659a4633/extract_msg-0.23.1-py2.py3-none-any.whl (45kB)\n",
            "\u001b[K     |████████████████████████████████| 51kB 9.3MB/s \n",
            "\u001b[?25hRequirement already satisfied: six==1.12.0 in /usr/local/lib/python3.6/dist-packages (from textract) (1.12.0)\n",
            "Collecting SpeechRecognition==3.8.1\n",
            "\u001b[?25l  Downloading https://files.pythonhosted.org/packages/26/e1/7f5678cd94ec1234269d23756dbdaa4c8cfaed973412f88ae8adf7893a50/SpeechRecognition-3.8.1-py2.py3-none-any.whl (32.8MB)\n",
            "\u001b[K     |████████████████████████████████| 32.8MB 117kB/s \n",
            "\u001b[?25hCollecting beautifulsoup4==4.8.0\n",
            "\u001b[?25l  Downloading https://files.pythonhosted.org/packages/1a/b7/34eec2fe5a49718944e215fde81288eec1fa04638aa3fb57c1c6cd0f98c3/beautifulsoup4-4.8.0-py3-none-any.whl (97kB)\n",
            "\u001b[K     |████████████████████████████████| 102kB 14.9MB/s \n",
            "\u001b[?25hCollecting pdfminer.six==20181108\n",
            "\u001b[?25l  Downloading https://files.pythonhosted.org/packages/8a/fd/6e8746e6965d1a7ea8e97253e3d79e625da5547e8f376f88de5d024bacb9/pdfminer.six-20181108-py2.py3-none-any.whl (5.6MB)\n",
            "\u001b[K     |████████████████████████████████| 5.6MB 47.3MB/s \n",
            "\u001b[?25hCollecting xlrd==1.2.0\n",
            "\u001b[?25l  Downloading https://files.pythonhosted.org/packages/b0/16/63576a1a001752e34bf8ea62e367997530dc553b689356b9879339cf45a4/xlrd-1.2.0-py2.py3-none-any.whl (103kB)\n",
            "\u001b[K     |████████████████████████████████| 112kB 68.0MB/s \n",
            "\u001b[?25hCollecting EbookLib==0.17.1\n",
            "\u001b[?25l  Downloading https://files.pythonhosted.org/packages/00/38/7d6ab2e569a9165249619d73b7bc6be0e713a899a3bc2513814b6598a84c/EbookLib-0.17.1.tar.gz (111kB)\n",
            "\u001b[K     |████████████████████████████████| 112kB 61.8MB/s \n",
            "\u001b[?25hCollecting argcomplete==1.10.0\n",
            "  Downloading https://files.pythonhosted.org/packages/4d/82/f44c9661e479207348a979b1f6f063625d11dc4ca6256af053719bbb0124/argcomplete-1.10.0-py2.py3-none-any.whl\n",
            "Requirement already satisfied: chardet==3.0.4 in /usr/local/lib/python3.6/dist-packages (from textract) (3.0.4)\n",
            "Requirement already satisfied: lxml>=3.1.0 in /usr/local/lib/python3.6/dist-packages (from python-pptx==0.6.18->textract) (4.2.6)\n",
            "Requirement already satisfied: Pillow>=3.3.2 in /usr/local/lib/python3.6/dist-packages (from python-pptx==0.6.18->textract) (6.2.2)\n",
            "Collecting XlsxWriter>=0.5.7\n",
            "\u001b[?25l  Downloading https://files.pythonhosted.org/packages/0d/0c/4376ce9d0773c9969271419d4c843bf9b845d831a555f5abb6229e74ac1e/XlsxWriter-1.2.7-py2.py3-none-any.whl (141kB)\n",
            "\u001b[K     |████████████████████████████████| 143kB 43.7MB/s \n",
            "\u001b[?25hCollecting imapclient==2.1.0\n",
            "\u001b[?25l  Downloading https://files.pythonhosted.org/packages/dc/39/e1c2c2c6e2356ab6ea81fcfc0a74b044b311d6a91a45300811d9a6077ef7/IMAPClient-2.1.0-py2.py3-none-any.whl (73kB)\n",
            "\u001b[K     |████████████████████████████████| 81kB 13.6MB/s \n",
            "\u001b[?25hCollecting olefile==0.46\n",
            "\u001b[?25l  Downloading https://files.pythonhosted.org/packages/34/81/e1ac43c6b45b4c5f8d9352396a14144bba52c8fec72a80f425f6a4d653ad/olefile-0.46.zip (112kB)\n",
            "\u001b[K     |████████████████████████████████| 112kB 67.1MB/s \n",
            "\u001b[?25hRequirement already satisfied: tzlocal==1.5.1 in /usr/local/lib/python3.6/dist-packages (from extract-msg==0.23.1->textract) (1.5.1)\n",
            "Collecting soupsieve>=1.2\n",
            "  Downloading https://files.pythonhosted.org/packages/81/94/03c0f04471fc245d08d0a99f7946ac228ca98da4fa75796c507f61e688c2/soupsieve-1.9.5-py2.py3-none-any.whl\n",
            "Requirement already satisfied: sortedcontainers in /usr/local/lib/python3.6/dist-packages (from pdfminer.six==20181108->textract) (2.1.0)\n",
            "Collecting pycryptodome\n",
            "\u001b[?25l  Downloading https://files.pythonhosted.org/packages/54/e4/72132c31a4cedc58848615502c06cedcce1e1ff703b4c506a7171f005a75/pycryptodome-3.9.6-cp36-cp36m-manylinux1_x86_64.whl (13.7MB)\n",
            "\u001b[K     |████████████████████████████████| 13.7MB 33.8MB/s \n",
            "\u001b[?25hRequirement already satisfied: pytz in /usr/local/lib/python3.6/dist-packages (from tzlocal==1.5.1->extract-msg==0.23.1->textract) (2018.9)\n",
            "Building wheels for collected packages: docx2txt, python-pptx, EbookLib, olefile\n",
            "  Building wheel for docx2txt (setup.py) ... \u001b[?25l\u001b[?25hdone\n",
            "  Created wheel for docx2txt: filename=docx2txt-0.8-cp36-none-any.whl size=3963 sha256=1b57bf5ce05b305e05567cb5277805bcd3a295f89b1b1a3bf348efa9b30c3873\n",
            "  Stored in directory: /root/.cache/pip/wheels/b2/1f/26/a051209bbb77fc6bcfae2bb7e01fa0ff941b82292ab084d596\n",
            "  Building wheel for python-pptx (setup.py) ... \u001b[?25l\u001b[?25hdone\n",
            "  Created wheel for python-pptx: filename=python_pptx-0.6.18-cp36-none-any.whl size=275706 sha256=0b38b9fe68de46279c9df8f0d3d233407a036fce62369f7395dacb544821bed8\n",
            "  Stored in directory: /root/.cache/pip/wheels/1f/1f/2c/29acca422b420a0b5210bd2cd7e9669804520d602d2462f20b\n",
            "  Building wheel for EbookLib (setup.py) ... \u001b[?25l\u001b[?25hdone\n",
            "  Created wheel for EbookLib: filename=EbookLib-0.17.1-cp36-none-any.whl size=38164 sha256=76877cfd434b7bd854c5e04f8b309fa6590b4d905dc2a5ba1dcefa3807b91957\n",
            "  Stored in directory: /root/.cache/pip/wheels/84/11/01/951369cbbf8f96878786a1f4da68bd7ac19a5d945b38e03d54\n",
            "  Building wheel for olefile (setup.py) ... \u001b[?25l\u001b[?25hdone\n",
            "  Created wheel for olefile: filename=olefile-0.46-py2.py3-none-any.whl size=35417 sha256=73f24a0d446dfb7e2dbe6eaabc81ac05974a799b90f9744365e62f916a9c5120\n",
            "  Stored in directory: /root/.cache/pip/wheels/4b/f4/11/bc4166107c27f07fd7bba707ffcb439619197638a1ac986df3\n",
            "Successfully built docx2txt python-pptx EbookLib olefile\n",
            "Installing collected packages: docx2txt, XlsxWriter, python-pptx, imapclient, olefile, extract-msg, SpeechRecognition, soupsieve, beautifulsoup4, pycryptodome, pdfminer.six, xlrd, EbookLib, argcomplete, textract\n",
            "  Found existing installation: beautifulsoup4 4.6.3\n",
            "    Uninstalling beautifulsoup4-4.6.3:\n",
            "      Successfully uninstalled beautifulsoup4-4.6.3\n",
            "  Found existing installation: xlrd 1.1.0\n",
            "    Uninstalling xlrd-1.1.0:\n",
            "      Successfully uninstalled xlrd-1.1.0\n",
            "Successfully installed EbookLib-0.17.1 SpeechRecognition-3.8.1 XlsxWriter-1.2.7 argcomplete-1.10.0 beautifulsoup4-4.8.0 docx2txt-0.8 extract-msg-0.23.1 imapclient-2.1.0 olefile-0.46 pdfminer.six-20181108 pycryptodome-3.9.6 python-pptx-0.6.18 soupsieve-1.9.5 textract-1.6.3 xlrd-1.2.0\n"
          ],
          "name": "stdout"
        }
      ]
    },
    {
      "cell_type": "code",
      "metadata": {
        "id": "BxdhmoBt3VS9",
        "colab_type": "code",
        "colab": {}
      },
      "source": [
        "import textract"
      ],
      "execution_count": 0,
      "outputs": []
    },
    {
      "cell_type": "markdown",
      "metadata": {
        "id": "aB9-wV-pgM4_",
        "colab_type": "text"
      },
      "source": [
        "We can use the `.process()` method in `textract` to extract the text from the file.\n",
        "\n",
        "The syntax is:\n",
        "* `textract.process('PATH TO FILE', method = 'CHOSEN METHOD')`\n",
        "\n",
        "Here we will use `tesseract` as the chosen method\n"
      ]
    },
    {
      "cell_type": "code",
      "metadata": {
        "id": "SbyvtZajYoDz",
        "colab_type": "code",
        "colab": {}
      },
      "source": [
        "text = textract.process(\"richard_hendriks_resume.pdf\",method = 'tesseract', decoding='utf-8')"
      ],
      "execution_count": 0,
      "outputs": []
    },
    {
      "cell_type": "markdown",
      "metadata": {
        "id": "n3ndtHg6gxMR",
        "colab_type": "text"
      },
      "source": [
        "Let's check the type of the extracted text"
      ]
    },
    {
      "cell_type": "code",
      "metadata": {
        "id": "PYuAe1vug4lW",
        "colab_type": "code",
        "outputId": "840aabd8-d8a7-4b16-c457-43dfa287f227",
        "colab": {
          "base_uri": "https://localhost:8080/"
        }
      },
      "source": [
        "type(text)"
      ],
      "execution_count": 0,
      "outputs": [
        {
          "output_type": "execute_result",
          "data": {
            "text/plain": [
              "bytes"
            ]
          },
          "metadata": {
            "tags": []
          },
          "execution_count": 39
        }
      ]
    },
    {
      "cell_type": "markdown",
      "metadata": {
        "id": "uj_MI1fOg9Iy",
        "colab_type": "text"
      },
      "source": [
        "We see that the type of the text is `bytes`.\n",
        "If we want to turn it into a `str`, we can use the method `.decode('utf-8')` on the text"
      ]
    },
    {
      "cell_type": "code",
      "metadata": {
        "id": "bWU0AWeFfsOw",
        "colab_type": "code",
        "colab": {}
      },
      "source": [
        "text = text.decode(\"utf-8\")"
      ],
      "execution_count": 0,
      "outputs": []
    },
    {
      "cell_type": "markdown",
      "metadata": {
        "id": "IoYO5Ms3hQqV",
        "colab_type": "text"
      },
      "source": [
        "Now that we have the text decoded as a `str`, lets try printing the text to see how it looks"
      ]
    },
    {
      "cell_type": "code",
      "metadata": {
        "id": "Mo8VUe2MYoG5",
        "colab_type": "code",
        "outputId": "a226b5b0-af6d-43da-9773-1b098d97b4ef",
        "colab": {
          "base_uri": "https://localhost:8080/"
        }
      },
      "source": [
        "print(text)"
      ],
      "execution_count": 0,
      "outputs": [
        {
          "output_type": "stream",
          "text": [
            "Richard Hendriks, Programmer\n",
            "richard@valley.com | (912) 555-4321 | San Francisco, California, US\n",
            "hitps://soundcloud.com/dandymusicn!\n",
            "\n",
            "SUMMARY\n",
            "\n",
            "EXPERIENCE\n",
            "\n",
            "PUBLICATIONS\n",
            "\n",
            "AWARDS\n",
            "\n",
            "VOLUNTEERING\n",
            "\n",
            "EDUCATION\n",
            "\n",
            "SKILLS\n",
            "\n",
            "LANGUAGES\n",
            "INTERESTS\n",
            "\n",
            "Richard hails from Tulsa. He has earned degrees from the University of Oklahoma and Stanford.\n",
            "(Go Sooners and Cardinals!) Before starting Pied Piper, he worked for Hooli as a part time software\n",
            "developer. While his work focuses on applied information theory, mostly optimizing lossless\n",
            "compression schema of both the length-limited and adaptive variants, his non-work interests range\n",
            "widely, everything from quantum computing to chaos theory. He could tell you about it, but THAT\n",
            "would NOT be a “length-limited” conversation!\n",
            "\n",
            "Pied Piper, CEO/President 2013-12-01 — 2014-12-01\n",
            "hitp://piedpiper.com\n",
            "\n",
            "© Pied Piper is a multi-platform technology based on a proprietary universal compression\n",
            "algorithm that has consistently fielded high Weisman Scores™ that are not merely competitive,\n",
            "but approach the theoretical limit of lossless compression.\n",
            "\n",
            "© Build an algorithm for artist to detect if their music was violating copy right infringement laws\n",
            "\n",
            "© Successfully won Techcrunch Disrupt\n",
            "\n",
            "© Optimized an algorithm that holds the current world record for Weisman Scores\n",
            "\n",
            "Video compression for 3d media, Hooli 2014-10-01\n",
            "http://en.wikipedia.org/wiki/Silicon_Valley_(TV_series)\n",
            "\n",
            "o Innovative middle-out compression algorithm that changes the way we store data.\n",
            "\n",
            "Digital Compression Pioneer Award, Techcrunch 2014-11-01\n",
            "\n",
            "© There is no spoon.\n",
            "\n",
            "CoderDojo, Teacher 2012-01-01 — 2013-01-01\n",
            "http://coderdojo.com/\n",
            "\n",
            "© Global movement of free coding clubs for young people.\n",
            "© Awarded 'Teacher of the Month’\n",
            "\n",
            "University of Oklahoma 2011-06-01 — 2014-01-01\n",
            "Bachelor - Information Technology, GPA: 4.0\n",
            "\n",
            "o DBII101 - Basic SQL o CS2011 - Java Introduction\n",
            "\n",
            "Web Development (Master): HTML, CSS, Javascript\n",
            "Compression (Master): Mpeg, MP4, GIF\n",
            "\n",
            "English (Native speaker)\n",
            "Wildlife / Ferrets, Unicorns ]\n",
            "\f\n"
          ],
          "name": "stdout"
        }
      ]
    },
    {
      "cell_type": "markdown",
      "metadata": {
        "id": "kT9NoR53wysI",
        "colab_type": "text"
      },
      "source": [
        "## Data Visualization - Housing Data"
      ]
    },
    {
      "cell_type": "markdown",
      "metadata": {
        "id": "AQ200qbYEJVZ",
        "colab_type": "text"
      },
      "source": [
        "Let's import:\n",
        "* `pandas` as `pd` \n",
        "* `matplotlib.pyplot` as `plt`"
      ]
    },
    {
      "cell_type": "code",
      "metadata": {
        "id": "1_CT2EhE20Oz",
        "colab_type": "code",
        "colab": {}
      },
      "source": [
        "import pandas as pd\n",
        "import matplotlib.pyplot as plt"
      ],
      "execution_count": 0,
      "outputs": []
    },
    {
      "cell_type": "markdown",
      "metadata": {
        "id": "ysnBs53t4COC",
        "colab_type": "text"
      },
      "source": [
        "Now let's use pandas to import the `california_housing_train.csv` in the folder `sample_data`"
      ]
    },
    {
      "cell_type": "code",
      "metadata": {
        "id": "5qaHd0s54ET9",
        "colab_type": "code",
        "colab": {}
      },
      "source": [
        "# if you forget, check google or check the earlier exercise\n",
        "\n"
      ],
      "execution_count": 0,
      "outputs": []
    },
    {
      "cell_type": "markdown",
      "metadata": {
        "id": "wJBHOTBy4EcZ",
        "colab_type": "text"
      },
      "source": [
        "Show a preview of the data by using the `.head()` method"
      ]
    },
    {
      "cell_type": "code",
      "metadata": {
        "id": "GhX99h1u4Ej1",
        "colab_type": "code",
        "colab": {}
      },
      "source": [
        ""
      ],
      "execution_count": 0,
      "outputs": []
    },
    {
      "cell_type": "markdown",
      "metadata": {
        "id": "NQwPLE6RGjPX",
        "colab_type": "text"
      },
      "source": [
        "Plot out the data points for longitude `x-axis` and latitude `y-axis` on a scatterplot.\n",
        "\n",
        "To grab a specific column in a DataFrame, use the syntax:\n",
        "* `DATAFRAME_VARIABLE['COLUMN NAME']`\n",
        "\n",
        "* `plt.scatter(X AXIS, Y AXIS, *args)`\n",
        "\n",
        "*Extra: to have the size of the dots be correlated with the `median_income` column, use the argument `s=DATAFRAME_VARIABLE['median_income']`*"
      ]
    },
    {
      "cell_type": "code",
      "metadata": {
        "id": "Vvtyv9vq7LLd",
        "colab_type": "code",
        "outputId": "dc0fa189-5717-45d4-f184-1782de0088cf",
        "colab": {
          "base_uri": "https://localhost:8080/"
        }
      },
      "source": [
        "plt.scatter(house['longitude'],\n",
        "            house['latitude'],\n",
        "            s=house['median_income']);"
      ],
      "execution_count": 0,
      "outputs": [
        {
          "output_type": "display_data",
          "data": {
            "image/png": "[encoded data removed]",
            "text/plain": [
              "<Figure size 432x288 with 1 Axes>"
            ]
          },
          "metadata": {
            "tags": []
          }
        }
      ]
    },
    {
      "cell_type": "markdown",
      "metadata": {
        "id": "LfIYZ6N52t1J",
        "colab_type": "text"
      },
      "source": [
        "## ML!"
      ]
    },
    {
      "cell_type": "markdown",
      "metadata": {
        "id": "j4OnGqHZ2vuA",
        "colab_type": "text"
      },
      "source": [
        "Ok - now time for Machine Learning!\n",
        "\n",
        "Let’s import a library.  A library is a set of functions that coders wrote for us and open sourced so that we can use them like LEGO blocks and not have to code them ourselves. \n",
        "\n",
        "Let’s start by importing `numpy`, a popular library with a range of functions including some that are useful for machine learning. \n"
      ]
    },
    {
      "cell_type": "markdown",
      "metadata": {
        "id": "iT2vxFbT26Y6",
        "colab_type": "text"
      },
      "source": [
        "### Importing & Understanding Your Data "
      ]
    },
    {
      "cell_type": "markdown",
      "metadata": {
        "id": "LBszn8Pd36Jj",
        "colab_type": "text"
      },
      "source": [
        "#### Importing Libraries and Modules \n",
        "\n",
        "\n"
      ]
    },
    {
      "cell_type": "markdown",
      "metadata": {
        "id": "7fpUjECkWYaG",
        "colab_type": "text"
      },
      "source": [
        "Python also has many libraries for Machine Learning.\n",
        "\n",
        "Today we will be using SciKit Learn, NumPy, Pandas, and Keras (Now built inside of Tensorflow 2.0).\n",
        "\n",
        "(To import a specific class from a module, we use the syntax: `from LIBRARY import MODULE` or even `from LIBRARY.MODULE import SUBMODULE`)"
      ]
    },
    {
      "cell_type": "markdown",
      "metadata": {
        "id": "iU84_cBn4DaQ",
        "colab_type": "text"
      },
      "source": [
        "For now, let's use the `import` command to import the following libraries.\n",
        "\n",
        "\n",
        "* `numpy as np` - Arrays and Processing Arrays\n",
        "* `pandas as pd` - Data Manipulation\n",
        "* `matplotlib.pyplot as plt` - Data Visualizations "
      ]
    },
    {
      "cell_type": "code",
      "metadata": {
        "id": "lRvXyt1xE5tm",
        "colab_type": "code",
        "colab": {}
      },
      "source": [
        "import numpy as np\n",
        "import pandas as pd\n",
        "import matplotlib.pyplot as plt"
      ],
      "execution_count": 0,
      "outputs": []
    },
    {
      "cell_type": "markdown",
      "metadata": {
        "id": "Q0BcJOSn6wfY",
        "colab_type": "text"
      },
      "source": [
        "#### Importing Data"
      ]
    },
    {
      "cell_type": "markdown",
      "metadata": {
        "id": "MIoNzaVfYQHc",
        "colab_type": "text"
      },
      "source": [
        "\n",
        "We have split our dataset into 2 .csv files.\n",
        "* `mnist_train_small.csv`\n",
        "* `mnist_test.csv`\n",
        "\n",
        "We will **train** (teach) our model using the training data\n",
        "\n",
        "We will **test** (evaluate) our model using the testing data\n",
        "\n",
        "Let's use the Pandas library to import and read the csv files above.\n",
        "\n",
        "* To do this, we use `pd.read_csv(\"INSERT FILE NAME\")`\n",
        "\n",
        "This is how we will name our data:\n",
        "* Name the training data: `mnist_test`\n",
        "* Name the testing data: `mnist_test`"
      ]
    },
    {
      "cell_type": "code",
      "metadata": {
        "id": "W8HYn1LIE7iU",
        "colab_type": "code",
        "colab": {}
      },
      "source": [
        "mnist_train = pd.read_csv('sample_data/mnist_train_small.csv')\n",
        "mnist_test = pd.read_csv('sample_data/mnist_test.csv')\n"
      ],
      "execution_count": 0,
      "outputs": []
    },
    {
      "cell_type": "markdown",
      "metadata": {
        "id": "envcgGDWcThX",
        "colab_type": "text"
      },
      "source": [
        "We can check the shape of the dataframe\n",
        "\n",
        "Use the .shape function to view the shape of the data\n",
        "\n",
        "Example:\n",
        "\n",
        "`revenue_data.shape` will allow us to see the shape\n",
        "\n",
        "The shape will output *(**number of rows**, **number of columns**)*"
      ]
    },
    {
      "cell_type": "code",
      "metadata": {
        "id": "WWDU5xNccVqM",
        "colab_type": "code",
        "colab": {}
      },
      "source": [
        "# check the shaope for the training data and testing data\n",
        "\n"
      ],
      "execution_count": 0,
      "outputs": []
    },
    {
      "cell_type": "markdown",
      "metadata": {
        "id": "Jo4PI7xiduPQ",
        "colab_type": "text"
      },
      "source": [
        "#### Visualize Our Data"
      ]
    },
    {
      "cell_type": "markdown",
      "metadata": {
        "id": "dDYaEIZ0ak7u",
        "colab_type": "text"
      },
      "source": [
        "Let's take a look at what our data looks like.\n"
      ]
    },
    {
      "cell_type": "code",
      "metadata": {
        "id": "2TLNvzghalEV",
        "colab_type": "code",
        "colab": {}
      },
      "source": [
        "# use .head()\n",
        "\n"
      ],
      "execution_count": 0,
      "outputs": []
    },
    {
      "cell_type": "markdown",
      "metadata": {
        "id": "9pApoPhJZFF2",
        "colab_type": "text"
      },
      "source": [
        "Let's take a look at what the images in our data looks like.\n",
        "\n",
        "To do this, let's take a single row in our table and plot it out using the matplotlib `plt`\n",
        "* `train.value[CHOSEN ROW NUMBER]`\n",
        "\n",
        "We also know that the first column (index 0) is the label of the actual number.\n",
        "Because of this, we want to skip the first column.\n",
        "* `train.value[CHOSEN ROW NUMBER][1:]`\n",
        "\n",
        "Now we have an array of 784 numbers but we want it to be a square 28x28 image (matrix).\n",
        "\n",
        "We can use NumPy `np.reshape` function to reshape the array into a 28x28 matrix.\n",
        "* `np.reshape(ARRAY,(SHAPE))`\n",
        "\n",
        "Lastly, we will use the MatPlotLib `plt.imshow` function to print the image.\n",
        "* `plt.imshow(MATRIX)`"
      ]
    },
    {
      "cell_type": "code",
      "metadata": {
        "id": "9IkfUWiZFR4y",
        "colab_type": "code",
        "outputId": "eb49b0bd-a007-4186-dd05-2a5884fb2730",
        "colab": {
          "base_uri": "https://localhost:8080/",
          "height": 265
        }
      },
      "source": [
        "pixels = np.reshape(mnist_train.values[0][1:], (28, 28))\n",
        "plt.imshow(pixels);"
      ],
      "execution_count": 0,
      "outputs": [
        {
          "output_type": "display_data",
          "data": {
            "image/png": "[encoded data removed]",
            "text/plain": [
              "<Figure size 432x288 with 1 Axes>"
            ]
          },
          "metadata": {
            "tags": []
          }
        }
      ]
    },
    {
      "cell_type": "markdown",
      "metadata": {
        "id": "z1iwD50AeiS3",
        "colab_type": "text"
      },
      "source": [
        "Let's take a look at the distribution of all numbers in our training data.\n",
        "\n",
        "`.iloc[ROW,COLUMN]` gives us the ability to slice dataframes\n",
        "\n",
        "* `[:,:]` selects all rows and all columns\n",
        "* `[0,:]` selects the first row and all columns\n",
        "* `[0,1]` selects the first row and second column\n",
        "\n",
        "In our case, we want to only the first column because that is the column with the label for all of our images\n",
        "\n",
        "To view the count for each unique value, we use `CHOSEN_COLUMN.value_counts()`"
      ]
    },
    {
      "cell_type": "code",
      "metadata": {
        "id": "y3ZjXMZKfax5",
        "colab_type": "code",
        "outputId": "140726bd-f856-4921-a298-5bb6fbf24946",
        "colab": {
          "base_uri": "https://localhost:8080/",
          "height": 130
        }
      },
      "source": [
        "# Save this to a variable mnist_distribution\n",
        "mnist_distribution = \n",
        "# Print mnist_distribution"
      ],
      "execution_count": 0,
      "outputs": [
        {
          "output_type": "error",
          "ename": "SyntaxError",
          "evalue": "ignored",
          "traceback": [
            "\u001b[0;36m  File \u001b[0;32m\"<ipython-input-4-c9daedd555f2>\"\u001b[0;36m, line \u001b[0;32m1\u001b[0m\n\u001b[0;31m    mnist_distribution =\u001b[0m\n\u001b[0m                         ^\u001b[0m\n\u001b[0;31mSyntaxError\u001b[0m\u001b[0;31m:\u001b[0m invalid syntax\n"
          ]
        }
      ]
    },
    {
      "cell_type": "markdown",
      "metadata": {
        "id": "EjDZB-0ofsC-",
        "colab_type": "text"
      },
      "source": [
        "We can also use MatPlotLib to plot our distributions.\n",
        "* `plt.bar(X-AXIS,Y-AXIS)`\n",
        "\n",
        "\n",
        "hint: (to get the index, we add `.index` to the end)"
      ]
    },
    {
      "cell_type": "code",
      "metadata": {
        "id": "1QukZQMoeica",
        "colab_type": "code",
        "outputId": "1f27023f-292e-4969-ed09-b63b9a2efeb3",
        "colab": {
          "base_uri": "https://localhost:8080/",
          "height": 265
        }
      },
      "source": [
        "plt.bar(mnist_distribution.index,mnist_distribution);"
      ],
      "execution_count": 0,
      "outputs": [
        {
          "output_type": "display_data",
          "data": {
            "image/png": "[encoded data removed]",
            "text/plain": [
              "<Figure size 432x288 with 1 Axes>"
            ]
          },
          "metadata": {
            "tags": []
          }
        }
      ]
    },
    {
      "cell_type": "markdown",
      "metadata": {
        "id": "5z64vuF_ddyP",
        "colab_type": "text"
      },
      "source": [
        "### Preparing the Data"
      ]
    },
    {
      "cell_type": "markdown",
      "metadata": {
        "id": "63Vu-i2teMud",
        "colab_type": "text"
      },
      "source": [
        "#### Splitting the Data"
      ]
    },
    {
      "cell_type": "markdown",
      "metadata": {
        "id": "UBdaYNPVgWE9",
        "colab_type": "text"
      },
      "source": [
        "We need to split our data into 2 values\n",
        "* `X` - The features that we give to the model\n",
        "* `y` - The target that we want the model to predict"
      ]
    },
    {
      "cell_type": "code",
      "metadata": {
        "id": "37vrMo_oGptf",
        "colab_type": "code",
        "colab": {}
      },
      "source": [
        "X = mnist_train.iloc[:,1:]\n",
        "y = mnist_train.iloc[:,0]"
      ],
      "execution_count": 0,
      "outputs": []
    },
    {
      "cell_type": "markdown",
      "metadata": {
        "id": "KVRVgeD6gsx-",
        "colab_type": "text"
      },
      "source": [
        "#### Normalizing Data"
      ]
    },
    {
      "cell_type": "markdown",
      "metadata": {
        "id": "58Wgo9DLgs7c",
        "colab_type": "text"
      },
      "source": [
        "Sometimes, we need to standardize our data to make sure all features use the same scale.\n",
        "\n",
        "`sklearn` has a module called `StandardScaler` that will standardize our data for us.\n",
        "* `from sklearn.preprocessing import StandardScaler`"
      ]
    },
    {
      "cell_type": "code",
      "metadata": {
        "id": "eBICGF6ohX8p",
        "colab_type": "code",
        "colab": {}
      },
      "source": [
        "from sklearn.preprocessing import StandardScaler"
      ],
      "execution_count": 0,
      "outputs": []
    },
    {
      "cell_type": "markdown",
      "metadata": {
        "id": "tp8knQJuhaZc",
        "colab_type": "text"
      },
      "source": [
        "`sklearn` requires us to instantiate these functions order to use them\n",
        "* `VAR = FUNCTION()` "
      ]
    },
    {
      "cell_type": "code",
      "metadata": {
        "id": "k8gEDSzVMXxl",
        "colab_type": "code",
        "colab": {}
      },
      "source": [
        "ss = StandardScaler()"
      ],
      "execution_count": 0,
      "outputs": []
    },
    {
      "cell_type": "markdown",
      "metadata": {
        "id": "8NqDJu27isKE",
        "colab_type": "text"
      },
      "source": [
        "Now, we will fit (feed) our data to the standard scaler \n",
        "* `VAR.fit(DATA)`\n",
        "Once our Scaler is fit, we will use it to transform our data to become scaled\n",
        "* `DATA_scaled = VAR.transform(DATA)`"
      ]
    },
    {
      "cell_type": "code",
      "metadata": {
        "id": "mOjVGL79Od-a",
        "colab_type": "code",
        "colab": {}
      },
      "source": [
        "ss.fit(X)\n",
        "X_scaled = ss.transform(X)"
      ],
      "execution_count": 0,
      "outputs": []
    },
    {
      "cell_type": "markdown",
      "metadata": {
        "id": "0WHsZ0Ivje3I",
        "colab_type": "text"
      },
      "source": [
        "### Modeling the Data"
      ]
    },
    {
      "cell_type": "markdown",
      "metadata": {
        "id": "R_50VS7Gh2my",
        "colab_type": "text"
      },
      "source": [
        "#### Modeling"
      ]
    },
    {
      "cell_type": "markdown",
      "metadata": {
        "id": "sCYbEAcy68eg",
        "colab_type": "text"
      },
      "source": [
        "Tensorflow is an open-source library for Neural Networks.\n",
        "\n",
        "In order to run Tensorflow, we must use `import tensorflow as tf`\n",
        "\n",
        "Neural Networks is a model that is made up of multiple layers filled with nodes.\n",
        "\n",
        "To import the model and layers, we use:\n",
        "* `from tensorflow.keras import models,layers`\n",
        "\n",
        "\n"
      ]
    },
    {
      "cell_type": "code",
      "metadata": {
        "id": "H6itbg6-jaLG",
        "colab_type": "code",
        "outputId": "c2f854b7-d4e7-4daf-90c2-519c2a671928",
        "colab": {
          "base_uri": "https://localhost:8080/"
        }
      },
      "source": [
        "%tensorflow_version 2.x\n",
        "import tensorflow as tf\n",
        "from tensorflow.keras import models,layers\n",
        "print(\"You are using TensorFlow version\", tf.__version__)\n"
      ],
      "execution_count": 0,
      "outputs": [
        {
          "output_type": "stream",
          "text": [
            "You are using TensorFlow version 2.1.0\n"
          ],
          "name": "stdout"
        }
      ]
    },
    {
      "cell_type": "markdown",
      "metadata": {
        "id": "9GS4L-pd9OBt",
        "colab_type": "text"
      },
      "source": [
        "Since this is a CNN, our model will be `Sequential()`"
      ]
    },
    {
      "cell_type": "code",
      "metadata": {
        "id": "pA-zwyer9OK7",
        "colab_type": "code",
        "colab": {}
      },
      "source": [
        "model = models.Sequential()"
      ],
      "execution_count": 0,
      "outputs": []
    },
    {
      "cell_type": "markdown",
      "metadata": {
        "id": "HTjzU3yh8D0H",
        "colab_type": "text"
      },
      "source": [
        "For our data, lets use a NN with 3 layers\n",
        "* Dense Layer - 512 nodes - ReLu Activation\n",
        "* Dropout Layer - 20% `(0.2)`\n",
        "* Dense Layer - 10 Nodes - Softmax Activation\n",
        "\n",
        "To add layers, we use:\n",
        "* `MODEL_VARIABLE.add(LAYER)`\n",
        "\n",
        "The syntax for the layers are:\n",
        "* Dense\n",
        " * `layers.Dense(NUMBER OF NODES,ACTIVATION)`\n",
        "* Dropout\n",
        " * `layers.Dropout(PERCENTAGE)`\n",
        "\n",
        "The syntax for the activations are:\n",
        "* `tf.nn.relu`\n",
        "* `tf.nn.softmax`\n",
        "\n",
        "Example:\n",
        "```\n",
        "model.add(layers.dense(32,activation = 'softmax')\n",
        "model.add(layers.Dropout(0.12))\n",
        "```"
      ]
    },
    {
      "cell_type": "code",
      "metadata": {
        "colab_type": "code",
        "id": "TeU4_vUf5d_f",
        "colab": {}
      },
      "source": [
        "# This layer is here to flatten the image into a 1 dimensional array\n",
        "model.add(layers.Flatten(input_shape = (784,)))\n",
        "# Add 3 other layers below\n",
        "\n",
        "\n",
        "\n",
        "\n",
        "\n",
        "\n"
      ],
      "execution_count": 0,
      "outputs": []
    },
    {
      "cell_type": "markdown",
      "metadata": {
        "id": "6hnxmxDAjoHg",
        "colab_type": "text"
      },
      "source": [
        "Once we are done adding our layers, we will compile our model.\n",
        "* `MODEL_VARIABLE.compile(PARAMETERS)`\n",
        "\n",
        "For this model, our parameters are:\n",
        "* `optimizer = 'adam'`\n",
        "* `loss = 'sparse_categorical_crossentropy'`\n",
        "* `metrics = ['accuracy']`"
      ]
    },
    {
      "cell_type": "code",
      "metadata": {
        "id": "E6fXigChHDdn",
        "colab_type": "code",
        "colab": {}
      },
      "source": [
        "# model.compile(arguments...)\n",
        "\n",
        "\n",
        "\n",
        "\n"
      ],
      "execution_count": 0,
      "outputs": []
    },
    {
      "cell_type": "markdown",
      "metadata": {
        "id": "xliannSAonZw",
        "colab_type": "text"
      },
      "source": [
        "Now we need to `fit` (train) the model by feeding it our `X_train_scaled` and `y` data.\n",
        "\n",
        "Once we run this cell, the Neural Network will start learn how to predict the target variable `y` when given the features `X`\n",
        "\n",
        "Neural Network fit syntax:\n",
        "* `MODEL_VARIABLE.fit(X,y,epochs = NUMBER_OF_EPOCHS)`\n",
        "\n",
        "Epochs is the number of times you want the neural network to go over your data and learn\n",
        "\n",
        "Let's use `epochs = 10` for this session\n",
        "\n",
        "***This cell will take a few minutes to run***\n"
      ]
    },
    {
      "cell_type": "code",
      "metadata": {
        "id": "9PUAmIJFHDgK",
        "colab_type": "code",
        "colab": {}
      },
      "source": [
        ""
      ],
      "execution_count": 0,
      "outputs": []
    },
    {
      "cell_type": "markdown",
      "metadata": {
        "id": "feI2eBsZptLD",
        "colab_type": "text"
      },
      "source": [
        "### Evaluating the Model"
      ]
    },
    {
      "cell_type": "markdown",
      "metadata": {
        "id": "4grGCIAMp8s4",
        "colab_type": "text"
      },
      "source": [
        "Now we want to evaluate how well our Neural Network's prediction accuracy is."
      ]
    },
    {
      "cell_type": "markdown",
      "metadata": {
        "id": "xX1n51WOBJmP",
        "colab_type": "text"
      },
      "source": [
        "Like earlier, we need to split our testing data into `X` and `y` variables.\n",
        "\n",
        "In order to differentiate between our testing data and our training data, we call the variables `X_test` and `y_test`"
      ]
    },
    {
      "cell_type": "code",
      "metadata": {
        "id": "SsKI4iet_sOH",
        "colab_type": "code",
        "colab": {}
      },
      "source": [
        "X_test = mnist_test.iloc[:,1:]\n",
        "y_test = mnist_test.iloc[:,0]"
      ],
      "execution_count": 0,
      "outputs": []
    },
    {
      "cell_type": "markdown",
      "metadata": {
        "id": "3QAAM3vxCCeD",
        "colab_type": "text"
      },
      "source": [
        "If you remember, we used `StandardScaler()` earlier to transform our features `X`.\n",
        "\n",
        "Our training and testing data should always have the same transformations.\n",
        "\n",
        "Therefore, we must use the `StandardScaler()` that we used before to scale our `X_test` features."
      ]
    },
    {
      "cell_type": "code",
      "metadata": {
        "id": "gZMEHZg7BN3E",
        "colab_type": "code",
        "colab": {}
      },
      "source": [
        "X_test_scaled = ss.transform(X_test)"
      ],
      "execution_count": 0,
      "outputs": []
    },
    {
      "cell_type": "markdown",
      "metadata": {
        "id": "Wp_0pJ5oCftk",
        "colab_type": "text"
      },
      "source": [
        "Now we can see how well our Neural Network performs on predicting this new testing data that it has not seen before."
      ]
    },
    {
      "cell_type": "code",
      "metadata": {
        "id": "arZy2IrrCoF7",
        "colab_type": "code",
        "outputId": "1baa38cd-6c0f-4e26-84a1-50430815e2fd",
        "colab": {
          "base_uri": "https://localhost:8080/",
          "height": 71
        }
      },
      "source": [
        "model.evaluate(X_test_scaled,y_test)"
      ],
      "execution_count": 0,
      "outputs": [
        {
          "output_type": "stream",
          "text": [
            "9999/9999 [==============================] - 1s 63us/sample - loss: 0.6305 - acc: 0.9590\n"
          ],
          "name": "stdout"
        },
        {
          "output_type": "execute_result",
          "data": {
            "text/plain": [
              "[0.6304887589214289, 0.9589959]"
            ]
          },
          "metadata": {
            "tags": []
          },
          "execution_count": 160
        }
      ]
    },
    {
      "cell_type": "markdown",
      "metadata": {
        "id": "0RrEJQSaC7jL",
        "colab_type": "text"
      },
      "source": [
        "The next cell is a formatted `print` statement to print the accuracy scores of the training and testing data"
      ]
    },
    {
      "cell_type": "code",
      "metadata": {
        "id": "11Jhza_u_znV",
        "colab_type": "code",
        "outputId": "53aabe31-8e08-48a7-b92d-b58dfe014fea",
        "colab": {
          "base_uri": "https://localhost:8080/",
          "height": 88
        }
      },
      "source": [
        "testing_acc = model.evaluate(X_test_scaled,y_test)[1]\n",
        "training_acc = model.history.history['acc'][-1]\n",
        "print(f\"Our model's prediction accuracy on the training data is {round(training_acc*100,2)}%\")\n",
        "print(f\"Our model's prediction accuracy on the testing data is {round(testing_acc*100,2)}%\")"
      ],
      "execution_count": 0,
      "outputs": [
        {
          "output_type": "stream",
          "text": [
            "9999/9999 [==============================] - 1s 60us/sample - loss: 0.6305 - acc: 0.9590\n",
            "Our model's prediction accuracy on the training data is 98.64%\n",
            "Our model's prediction accuracy on the testing data is 95.9%\n"
          ],
          "name": "stdout"
        }
      ]
    },
    {
      "cell_type": "markdown",
      "metadata": {
        "id": "QzLt-6b2DhSj",
        "colab_type": "text"
      },
      "source": [
        "This plot shows change in Accuracy over each epoch"
      ]
    },
    {
      "cell_type": "code",
      "metadata": {
        "id": "yL9khn7eHgRa",
        "colab_type": "code",
        "outputId": "dd663ae8-283f-4089-8ff8-04aafbcfb0b5",
        "colab": {
          "base_uri": "https://localhost:8080/",
          "height": 281
        }
      },
      "source": [
        "plt.plot(model.history.history['acc'])\n",
        "plt.title('Accuracy over each epoch');"
      ],
      "execution_count": 0,
      "outputs": [
        {
          "output_type": "display_data",
          "data": {
            "image/png": "[encoded data removed]",
            "text/plain": [
              "<Figure size 432x288 with 1 Axes>"
            ]
          },
          "metadata": {
            "tags": []
          }
        }
      ]
    },
    {
      "cell_type": "markdown",
      "metadata": {
        "id": "7CGxVcu7w9Tm",
        "colab_type": "text"
      },
      "source": [
        "## Web-Scrape Number of Follower for a Twitter Account"
      ]
    },
    {
      "cell_type": "markdown",
      "metadata": {
        "id": "tZO1P93JIuQB",
        "colab_type": "text"
      },
      "source": [
        "When web scraping we like to use the module `BeautifulSoup` in the library `bs4` \n",
        "\n",
        "Also, when dealing with the web, we usually need to import the library `requests`"
      ]
    },
    {
      "cell_type": "code",
      "metadata": {
        "id": "b5FqH5_8xEZR",
        "colab_type": "code",
        "colab": {}
      },
      "source": [
        "from bs4 import BeautifulSoup\n",
        "import requests"
      ],
      "execution_count": 0,
      "outputs": []
    },
    {
      "cell_type": "markdown",
      "metadata": {
        "id": "JQoiN483JB2h",
        "colab_type": "text"
      },
      "source": [
        "First, let's ask the user for a Twitter handle that they would like to lookup\n",
        "\n",
        "name the variable `handle`"
      ]
    },
    {
      "cell_type": "code",
      "metadata": {
        "id": "PEzr7I1H3AEJ",
        "colab_type": "code",
        "outputId": "d7c843bb-1811-4c9a-ae7f-2deef4f5298f",
        "colab": {
          "base_uri": "https://localhost:8080/",
          "height": 34
        }
      },
      "source": [
        "# Don't forget to make sure the handle is a string\n",
        "handle = "
      ],
      "execution_count": 0,
      "outputs": [
        {
          "output_type": "stream",
          "text": [
            "Input your account name on Twitter: jack\n"
          ],
          "name": "stdout"
        }
      ]
    },
    {
      "cell_type": "markdown",
      "metadata": {
        "id": "vt8rXfOlJMb0",
        "colab_type": "text"
      },
      "source": [
        "Now let's use the `.get()` module in the `requests` library to pull in the raw website information\n",
        "\n",
        "The syntax is:\n",
        "* `VAR = requests.get(\"DOMAIN\")`\n",
        "* Twitter URL is https://twitter.com/HANDLE\n",
        "\n",
        "Example:\n",
        "* An instagram URL for @jimmyfallon is https://instagram.com/jimmyfallon\n",
        "* ```\n",
        "raw_text = requests('https://instagram.com/jimmyfallon)\n",
        "```\n"
      ]
    },
    {
      "cell_type": "code",
      "metadata": {
        "id": "b1Eg6u_0JMkF",
        "colab_type": "code",
        "colab": {}
      },
      "source": [
        "\n"
      ],
      "execution_count": 0,
      "outputs": []
    },
    {
      "cell_type": "markdown",
      "metadata": {
        "id": "hQgvgjwDJMr-",
        "colab_type": "text"
      },
      "source": [
        "We will use the BeautifulSoup module to grab the text from the raw data we just pulled in\n",
        "\n",
        "The syntax is:\n",
        "* `BeautifulSoup_VAR = BeautifulSoup(RAW_DATA_VAR.text)`"
      ]
    },
    {
      "cell_type": "code",
      "metadata": {
        "id": "JM5kTdf1JMzh",
        "colab_type": "code",
        "colab": {}
      },
      "source": [
        ""
      ],
      "execution_count": 0,
      "outputs": []
    },
    {
      "cell_type": "markdown",
      "metadata": {
        "id": "BHdi_D0HKHhc",
        "colab_type": "text"
      },
      "source": [
        "We will point our webscraper to the right place to find the information that we want.\n",
        "\n",
        "If you go to a user's twitter page and look into the `HTML` code, you will find that the followers number is in an `<li>` element with a `'class':'ProfileNav-item ProfileNav-item--followers'` \n",
        "\n",
        "The syntax to find specific elements is:\n",
        "* `VAR = BeautifulSoup_VAR.find('ELEMENT TYPE',{ATTRIBUTE TYPE:ATTRIBUTE NAME}`\n",
        "\n",
        "Example: `paragraphs = story.find('p',{'class':'scary-story'}`"
      ]
    },
    {
      "cell_type": "code",
      "metadata": {
        "id": "6M4TAfg1KHp7",
        "colab_type": "code",
        "colab": {}
      },
      "source": [
        "followers_box = bs.find('li',{'class':'ProfileNav-item ProfileNav-item--followers'})\n"
      ],
      "execution_count": 0,
      "outputs": []
    },
    {
      "cell_type": "markdown",
      "metadata": {
        "id": "mIh1ZdTgMF91",
        "colab_type": "text"
      },
      "source": [
        "Within this `<li>` element, the Followers number is inside of an `<a>` element.\n",
        "\n",
        "Within the `<a>` element, the number is in a `<span>` element with a `'class':'ProfileNav-value'` "
      ]
    },
    {
      "cell_type": "code",
      "metadata": {
        "id": "ym5S16O7K--q",
        "colab_type": "code",
        "outputId": "395897e4-5e43-4e48-a80a-2e7d407b175e",
        "colab": {
          "base_uri": "https://localhost:8080/",
          "height": 34
        }
      },
      "source": [
        "number_of_followers = followers_box.find('a').find('span',{'class':'ProfileNav-value'}).text\n",
        "print(number_of_followers)"
      ],
      "execution_count": 0,
      "outputs": [
        {
          "output_type": "execute_result",
          "data": {
            "text/plain": [
              "'4.39M'"
            ]
          },
          "metadata": {
            "tags": []
          },
          "execution_count": 42
        }
      ]
    },
    {
      "cell_type": "markdown",
      "metadata": {
        "id": "pJ7SeuhrKHx3",
        "colab_type": "text"
      },
      "source": [
        "Lastly, print a formatted statement stating how many followers the user has"
      ]
    },
    {
      "cell_type": "code",
      "metadata": {
        "id": "a9UJlVKbKH5h",
        "colab_type": "code",
        "outputId": "e681c96f-9a1d-4cd8-8802-8a85872184aa",
        "colab": {
          "base_uri": "https://localhost:8080/",
          "height": 34
        }
      },
      "source": [
        "print(\"The user @\"+handle+\" has \"+number_of_followers+\" followers\")"
      ],
      "execution_count": 0,
      "outputs": [
        {
          "output_type": "stream",
          "text": [
            "The user @jack has 4.39M followers\n"
          ],
          "name": "stdout"
        }
      ]
    },
    {
      "cell_type": "markdown",
      "metadata": {
        "id": "bR3f2ALBKIBM",
        "colab_type": "text"
      },
      "source": [
        "### EXTRA: Error Correcting"
      ]
    },
    {
      "cell_type": "markdown",
      "metadata": {
        "id": "XrkrIp2WNtIb",
        "colab_type": "text"
      },
      "source": [
        "We can use a try/except loop to prevent our code from breaking when a user enters a handle that is not on twitter\n",
        "\n",
        "The syntax is:\n",
        "```\n",
        "try:\n",
        "    INSTERT CODE HERE\n",
        "except:\n",
        "    IF ABOVE CODE FAILS, THEN TELL \n",
        "    THE PROGRAM WHAT TO DO \n",
        "```"
      ]
    },
    {
      "cell_type": "code",
      "metadata": {
        "id": "3fUQAMBAyJJt",
        "colab_type": "code",
        "outputId": "314b6183-1f5f-4d8f-fdf3-85a180e2cc0f",
        "colab": {
          "base_uri": "https://localhost:8080/",
          "height": 51
        }
      },
      "source": [
        "handle = input('Input your account name on Twitter: ') \n",
        "raw = requests.get('https://twitter.com/'+handle)\n",
        "bs = BeautifulSoup(raw.text)\n",
        "try:\n",
        "    followers_box = bs.find('li',{'class':'ProfileNav-item ProfileNav-item--followers'})\n",
        "    number_of_followers = followers_box.find('a').find('span',{'class':'ProfileNav-value'}).text\n",
        "    print(f\"The user @{handle} has {number_of_followers} followers\")\n",
        "    \n",
        "except:\n",
        "    print('Account name not found...')"
      ],
      "execution_count": 0,
      "outputs": [
        {
          "output_type": "stream",
          "text": [
            "Input your account name on Twitter: jack\n",
            "The user @jack has 4.39M followers\n"
          ],
          "name": "stdout"
        }
      ]
    },
    {
      "cell_type": "markdown",
      "metadata": {
        "id": "mBjPpprHyhrx",
        "colab_type": "text"
      },
      "source": [
        "## Colors of the Rainbow"
      ]
    },
    {
      "cell_type": "markdown",
      "metadata": {
        "id": "yHbDBmDQyfKs",
        "colab_type": "text"
      },
      "source": [
        "Mary likes to match paintings with certain color palettes. \n",
        "\n",
        "She wants to store the colors of the rainbow to do this. \n",
        "\n",
        "We are going to use a tuple for this task.\n",
        "\n",
        "Tuples are like lists but we cannot change them after we make them!  \n",
        "\n",
        "Since the colors of the rainbow will not change, a tuple works. \n",
        "\n",
        "To signify a tuple we use the syntax:\n",
        "\n",
        "`my_tuple = (a, b, c,...)`"
      ]
    },
    {
      "cell_type": "code",
      "metadata": {
        "id": "n-qbZnFWudy6",
        "colab_type": "code",
        "outputId": "afc98ad2-50b7-4175-e255-88e9c2d34f0f",
        "colab": {
          "base_uri": "https://localhost:8080/",
          "height": 34
        }
      },
      "source": [
        "# Name this tuple colors_of_rainbow\n",
        "# Add the following colors to the tuple: red, orange, yellow, green, blue, indigo, violet\n",
        "# Enter the code below:\n",
        "\n",
        "colors_of_rainbow = "
      ],
      "execution_count": 0,
      "outputs": [
        {
          "output_type": "stream",
          "text": [
            "['picasso', 'warhol', 'davinci', 'hopper']\n"
          ],
          "name": "stdout"
        }
      ]
    },
    {
      "cell_type": "code",
      "metadata": {
        "id": "G7iAUy5msE4K",
        "colab_type": "code",
        "outputId": "1b47c9c8-30c9-401e-8603-ad41ab9436ec",
        "colab": {
          "base_uri": "https://localhost:8080/",
          "height": 34
        }
      },
      "source": [
        "# Let's see how the tuple looks\n",
        "print(colors_of_rainbow)"
      ],
      "execution_count": 0,
      "outputs": [
        {
          "output_type": "execute_result",
          "data": {
            "text/plain": [
              "('red', 'orange', 'yellow', 'green', 'blue', 'indigo', 'violet')"
            ]
          },
          "metadata": {
            "tags": []
          },
          "execution_count": 6
        }
      ]
    },
    {
      "cell_type": "markdown",
      "metadata": {
        "id": "BXXYXwqQDq_v",
        "colab_type": "text"
      },
      "source": [
        "## Challenge 3: List Less Than Ten"
      ]
    },
    {
      "cell_type": "markdown",
      "metadata": {
        "id": "JUx2dGzYD0sO",
        "colab_type": "text"
      },
      "source": [
        "Take a list, say for example this one:\n",
        "`a = [1, 1, 2, 3, 5, 8, 13, 21, 34, 55, 89]`\n",
        "\n",
        "and write a program that prints out a new list of all the elements of the list that are less than 5.\n"
      ]
    },
    {
      "cell_type": "code",
      "metadata": {
        "id": "tYsiIyOPDxAe",
        "colab_type": "code",
        "outputId": "e96f4f32-2c59-4d91-a8f4-6d109b38d964",
        "colab": {
          "base_uri": "https://localhost:8080/",
          "height": 34
        }
      },
      "source": [
        "a = [1, 1, 2, 3, 5, 8, 13, 21, 34, 55, 89]\n",
        "\n",
        "# Don't forget to create an empty list before you add elements to it\n",
        "\n",
        "\n",
        "\n",
        "\n"
      ],
      "execution_count": 0,
      "outputs": [
        {
          "output_type": "stream",
          "text": [
            "[1, 1, 2, 3]\n"
          ],
          "name": "stdout"
        }
      ]
    },
    {
      "cell_type": "markdown",
      "metadata": {
        "id": "7O74_96_EQqW",
        "colab_type": "text"
      },
      "source": [
        "## Challenge 4: Divisors"
      ]
    },
    {
      "cell_type": "markdown",
      "metadata": {
        "id": "CXJnrfaDEW6X",
        "colab_type": "text"
      },
      "source": [
        "Create a program that asks the user for a number \n",
        "\n",
        "and then prints out a list of all the divisors of that number. \n",
        "\n",
        "(If you don’t know what a divisor is, it is a number that divides evenly into another number. For example, 13 is a divisor of 26 because 26 / 13 has no remainder.)\n"
      ]
    },
    {
      "cell_type": "code",
      "metadata": {
        "id": "YZ7vRmiGEAbY",
        "colab_type": "code",
        "colab": {}
      },
      "source": [
        "\n",
        "\n",
        "\n",
        "\n",
        "\n",
        "\n",
        "\n",
        "\n",
        "\n"
      ],
      "execution_count": 0,
      "outputs": []
    },
    {
      "cell_type": "markdown",
      "metadata": {
        "id": "Me0Vo-IXE-Cv",
        "colab_type": "text"
      },
      "source": [
        "## Challenge 5: List Overlap"
      ]
    },
    {
      "cell_type": "markdown",
      "metadata": {
        "id": "DleGMJ9eFB_Y",
        "colab_type": "text"
      },
      "source": [
        "Take two lists, say for example these two:\n",
        " ```\n",
        " a = [1, 1, 2, 3, 5, 8, 13, 21, 34, 55, 89]\n",
        " b = [1, 2, 3, 4, 5, 6, 7, 8, 9, 10, 11, 12, 13]\n",
        " ```\n",
        "and write a program that returns a list that contains only the elements that are common between the lists (without duplicates).\n",
        " \n",
        "Make sure your program works on two lists of different sizes.\n"
      ]
    },
    {
      "cell_type": "code",
      "metadata": {
        "id": "9eOKH-5cEw7Q",
        "colab_type": "code",
        "colab": {}
      },
      "source": [
        "a = [1, 1, 2, 3, 5, 8, 13, 21, 34, 55, 89]\n",
        "b = [1, 2, 3, 4, 5, 6, 7, 8, 9, 10, 11, 12, 13]"
      ],
      "execution_count": 0,
      "outputs": []
    },
    {
      "cell_type": "code",
      "metadata": {
        "id": "16j5_lpAFUxc",
        "colab_type": "code",
        "colab": {}
      },
      "source": [
        ""
      ],
      "execution_count": 0,
      "outputs": []
    },
    {
      "cell_type": "markdown",
      "metadata": {
        "id": "tpq1GuVpHtnZ",
        "colab_type": "text"
      },
      "source": [
        "## Challenge 6: String Lists"
      ]
    },
    {
      "cell_type": "markdown",
      "metadata": {
        "id": "hdsevTZxHx-4",
        "colab_type": "text"
      },
      "source": [
        "Ask the user for a string and print out whether this string is a palindrome or not. \n",
        "\n",
        "(A palindrome is a string that reads the same forwards and backwards.)\n"
      ]
    },
    {
      "cell_type": "code",
      "metadata": {
        "id": "1HxKEZzxH3p6",
        "colab_type": "code",
        "colab": {}
      },
      "source": [
        ""
      ],
      "execution_count": 0,
      "outputs": []
    }
  ]
}